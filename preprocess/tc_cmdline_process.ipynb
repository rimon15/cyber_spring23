{
 "cells": [
  {
   "cell_type": "code",
   "execution_count": 1,
   "id": "a5067bb6",
   "metadata": {},
   "outputs": [],
   "source": [
    "import os\n",
    "import pyspark\n",
    "import numpy as np\n",
    "from pyspark.sql import SparkSession\n",
    "import pyspark.sql.functions as F\n",
    "import pyspark.sql.types as T"
   ]
  },
  {
   "cell_type": "code",
   "execution_count": 2,
   "id": "f3698818",
   "metadata": {},
   "outputs": [
    {
     "name": "stdout",
     "output_type": "stream",
     "text": [
      "23/01/26 22:13:41 WARN SparkSession: Using an existing Spark session; only runtime SQL configurations will take effect.\n"
     ]
    }
   ],
   "source": [
    "spark = SparkSession.builder.master(\"local[20]\").appName(\"tc_dataprocessing.com\").getOrCreate()\n",
    "spark.conf.set(\"spark.sql.repl.eagerEval.enabled\", True)"
   ]
  },
  {
   "cell_type": "code",
   "execution_count": 3,
   "id": "6dbe43df",
   "metadata": {},
   "outputs": [],
   "source": [
    "root = \"/mnt/raid0_ssd_8tb/dataset/trace/\"\n",
    "files = os.listdir(root)\n",
    "file_paths = [root + f for f in files]\n",
    "# print(*file_paths, sep='\\n')"
   ]
  },
  {
   "cell_type": "code",
   "execution_count": 4,
   "id": "349f0a2d",
   "metadata": {},
   "outputs": [
    {
     "data": {
      "text/plain": [
       "211"
      ]
     },
     "execution_count": 4,
     "metadata": {},
     "output_type": "execute_result"
    }
   ],
   "source": [
    "len(file_paths)"
   ]
  },
  {
   "cell_type": "code",
   "execution_count": 5,
   "id": "2bf39e12",
   "metadata": {},
   "outputs": [
    {
     "name": "stderr",
     "output_type": "stream",
     "text": [
      "                                                                                \r"
     ]
    },
    {
     "name": "stdout",
     "output_type": "stream",
     "text": [
      "23/01/26 23:09:23 WARN package: Truncated the string representation of a plan since it was too large. This behavior can be adjusted by setting 'spark.sql.debug.maxToStringFields'.\n"
     ]
    }
   ],
   "source": [
    "df = spark.read.json(file_paths)"
   ]
  },
  {
   "cell_type": "code",
   "execution_count": 6,
   "id": "5576ec3c",
   "metadata": {},
   "outputs": [
    {
     "name": "stdout",
     "output_type": "stream",
     "text": [
      "root\n",
      " |-- CDMVersion: string (nullable = true)\n",
      " |-- datum: struct (nullable = true)\n",
      " |    |-- com.bbn.tc.schema.avro.cdm18.EndMarker: struct (nullable = true)\n",
      " |    |    |-- recordCounts: struct (nullable = true)\n",
      " |    |    |    |-- EVENT_ACCEPT: string (nullable = true)\n",
      " |    |    |    |-- EVENT_CHANGE_PRINCIPAL: string (nullable = true)\n",
      " |    |    |    |-- EVENT_CLONE: string (nullable = true)\n",
      " |    |    |    |-- EVENT_CLOSE: string (nullable = true)\n",
      " |    |    |    |-- EVENT_CONNECT: string (nullable = true)\n",
      " |    |    |    |-- EVENT_CREATE_OBJECT: string (nullable = true)\n",
      " |    |    |    |-- EVENT_EXECUTE: string (nullable = true)\n",
      " |    |    |    |-- EVENT_EXIT: string (nullable = true)\n",
      " |    |    |    |-- EVENT_FORK: string (nullable = true)\n",
      " |    |    |    |-- EVENT_LINK: string (nullable = true)\n",
      " |    |    |    |-- EVENT_LOADLIBRARY: string (nullable = true)\n",
      " |    |    |    |-- EVENT_MMAP: string (nullable = true)\n",
      " |    |    |    |-- EVENT_MODIFY_FILE_ATTRIBUTES: string (nullable = true)\n",
      " |    |    |    |-- EVENT_MPROTECT: string (nullable = true)\n",
      " |    |    |    |-- EVENT_OPEN: string (nullable = true)\n",
      " |    |    |    |-- EVENT_READ: string (nullable = true)\n",
      " |    |    |    |-- EVENT_RECVMSG: string (nullable = true)\n",
      " |    |    |    |-- EVENT_RENAME: string (nullable = true)\n",
      " |    |    |    |-- EVENT_SENDMSG: string (nullable = true)\n",
      " |    |    |    |-- EVENT_TRUNCATE: string (nullable = true)\n",
      " |    |    |    |-- EVENT_UNIT: string (nullable = true)\n",
      " |    |    |    |-- EVENT_UNLINK: string (nullable = true)\n",
      " |    |    |    |-- EVENT_UPDATE: string (nullable = true)\n",
      " |    |    |    |-- EVENT_WRITE: string (nullable = true)\n",
      " |    |    |    |-- EndMarker: string (nullable = true)\n",
      " |    |    |    |-- FILE_OBJECT_BLOCK: string (nullable = true)\n",
      " |    |    |    |-- FILE_OBJECT_CHAR: string (nullable = true)\n",
      " |    |    |    |-- FILE_OBJECT_DIR: string (nullable = true)\n",
      " |    |    |    |-- FILE_OBJECT_FILE: string (nullable = true)\n",
      " |    |    |    |-- FILE_OBJECT_LINK: string (nullable = true)\n",
      " |    |    |    |-- FILE_OBJECT_UNIX_SOCKET: string (nullable = true)\n",
      " |    |    |    |-- Host: string (nullable = true)\n",
      " |    |    |    |-- MemoryObject: string (nullable = true)\n",
      " |    |    |    |-- NetFlowObject: string (nullable = true)\n",
      " |    |    |    |-- Principal: string (nullable = true)\n",
      " |    |    |    |-- SUBJECT_PROCESS: string (nullable = true)\n",
      " |    |    |    |-- SUBJECT_UNIT: string (nullable = true)\n",
      " |    |    |    |-- SrcSinkObject: string (nullable = true)\n",
      " |    |    |    |-- StartMarker: string (nullable = true)\n",
      " |    |    |    |-- TimeMarker: string (nullable = true)\n",
      " |    |    |    |-- UnitDependency: string (nullable = true)\n",
      " |    |    |    |-- UnnamedPipeObject: string (nullable = true)\n",
      " |    |    |    |-- splice: string (nullable = true)\n",
      " |    |    |-- sessionNumber: long (nullable = true)\n",
      " |    |-- com.bbn.tc.schema.avro.cdm18.Event: struct (nullable = true)\n",
      " |    |    |-- hostId: string (nullable = true)\n",
      " |    |    |-- location: struct (nullable = true)\n",
      " |    |    |    |-- long: long (nullable = true)\n",
      " |    |    |-- name: string (nullable = true)\n",
      " |    |    |-- parameters: string (nullable = true)\n",
      " |    |    |-- predicateObject: struct (nullable = true)\n",
      " |    |    |    |-- com.bbn.tc.schema.avro.cdm18.UUID: string (nullable = true)\n",
      " |    |    |-- predicateObject2: struct (nullable = true)\n",
      " |    |    |    |-- com.bbn.tc.schema.avro.cdm18.UUID: string (nullable = true)\n",
      " |    |    |-- predicateObject2Path: struct (nullable = true)\n",
      " |    |    |    |-- string: string (nullable = true)\n",
      " |    |    |-- predicateObjectPath: struct (nullable = true)\n",
      " |    |    |    |-- string: string (nullable = true)\n",
      " |    |    |-- programPoint: string (nullable = true)\n",
      " |    |    |-- properties: struct (nullable = true)\n",
      " |    |    |    |-- map: struct (nullable = true)\n",
      " |    |    |    |    |-- flags: string (nullable = true)\n",
      " |    |    |    |    |-- mode: string (nullable = true)\n",
      " |    |    |    |    |-- operation: string (nullable = true)\n",
      " |    |    |    |    |-- opm: string (nullable = true)\n",
      " |    |    |    |    |-- protection: string (nullable = true)\n",
      " |    |    |-- sequence: struct (nullable = true)\n",
      " |    |    |    |-- long: long (nullable = true)\n",
      " |    |    |-- size: struct (nullable = true)\n",
      " |    |    |    |-- long: long (nullable = true)\n",
      " |    |    |-- subject: struct (nullable = true)\n",
      " |    |    |    |-- com.bbn.tc.schema.avro.cdm18.UUID: string (nullable = true)\n",
      " |    |    |-- threadId: struct (nullable = true)\n",
      " |    |    |    |-- int: long (nullable = true)\n",
      " |    |    |-- timestampNanos: long (nullable = true)\n",
      " |    |    |-- type: string (nullable = true)\n",
      " |    |    |-- uuid: string (nullable = true)\n",
      " |    |-- com.bbn.tc.schema.avro.cdm18.FileObject: struct (nullable = true)\n",
      " |    |    |-- baseObject: struct (nullable = true)\n",
      " |    |    |    |-- epoch: struct (nullable = true)\n",
      " |    |    |    |    |-- int: long (nullable = true)\n",
      " |    |    |    |-- hostId: string (nullable = true)\n",
      " |    |    |    |-- permission: struct (nullable = true)\n",
      " |    |    |    |    |-- com.bbn.tc.schema.avro.cdm18.SHORT: string (nullable = true)\n",
      " |    |    |    |-- properties: struct (nullable = true)\n",
      " |    |    |    |    |-- map: struct (nullable = true)\n",
      " |    |    |    |    |    |-- path: string (nullable = true)\n",
      " |    |    |-- fileDescriptor: string (nullable = true)\n",
      " |    |    |-- hashes: string (nullable = true)\n",
      " |    |    |-- localPrincipal: string (nullable = true)\n",
      " |    |    |-- peInfo: string (nullable = true)\n",
      " |    |    |-- size: string (nullable = true)\n",
      " |    |    |-- type: string (nullable = true)\n",
      " |    |    |-- uuid: string (nullable = true)\n",
      " |    |-- com.bbn.tc.schema.avro.cdm18.Host: struct (nullable = true)\n",
      " |    |    |-- hostIdentifiers: array (nullable = true)\n",
      " |    |    |    |-- element: struct (containsNull = true)\n",
      " |    |    |    |    |-- idType: string (nullable = true)\n",
      " |    |    |    |    |-- idValue: string (nullable = true)\n",
      " |    |    |-- hostName: string (nullable = true)\n",
      " |    |    |-- hostType: string (nullable = true)\n",
      " |    |    |-- interfaces: array (nullable = true)\n",
      " |    |    |    |-- element: struct (containsNull = true)\n",
      " |    |    |    |    |-- ipAddresses: array (nullable = true)\n",
      " |    |    |    |    |    |-- element: string (containsNull = true)\n",
      " |    |    |    |    |-- macAddress: string (nullable = true)\n",
      " |    |    |    |    |-- name: string (nullable = true)\n",
      " |    |    |-- osDetails: string (nullable = true)\n",
      " |    |    |-- uuid: string (nullable = true)\n",
      " |    |-- com.bbn.tc.schema.avro.cdm18.MemoryObject: struct (nullable = true)\n",
      " |    |    |-- baseObject: struct (nullable = true)\n",
      " |    |    |    |-- epoch: string (nullable = true)\n",
      " |    |    |    |-- hostId: string (nullable = true)\n",
      " |    |    |    |-- permission: string (nullable = true)\n",
      " |    |    |    |-- properties: struct (nullable = true)\n",
      " |    |    |    |    |-- map: struct (nullable = true)\n",
      " |    |    |    |    |    |-- tgid: string (nullable = true)\n",
      " |    |    |-- memoryAddress: long (nullable = true)\n",
      " |    |    |-- pageNumber: string (nullable = true)\n",
      " |    |    |-- pageOffset: string (nullable = true)\n",
      " |    |    |-- size: struct (nullable = true)\n",
      " |    |    |    |-- long: long (nullable = true)\n",
      " |    |    |-- uuid: string (nullable = true)\n",
      " |    |-- com.bbn.tc.schema.avro.cdm18.NetFlowObject: struct (nullable = true)\n",
      " |    |    |-- baseObject: struct (nullable = true)\n",
      " |    |    |    |-- epoch: struct (nullable = true)\n",
      " |    |    |    |    |-- int: long (nullable = true)\n",
      " |    |    |    |-- hostId: string (nullable = true)\n",
      " |    |    |    |-- permission: string (nullable = true)\n",
      " |    |    |-- fileDescriptor: string (nullable = true)\n",
      " |    |    |-- ipProtocol: struct (nullable = true)\n",
      " |    |    |    |-- int: long (nullable = true)\n",
      " |    |    |-- localAddress: string (nullable = true)\n",
      " |    |    |-- localPort: long (nullable = true)\n",
      " |    |    |-- remoteAddress: string (nullable = true)\n",
      " |    |    |-- remotePort: long (nullable = true)\n",
      " |    |    |-- uuid: string (nullable = true)\n",
      " |    |-- com.bbn.tc.schema.avro.cdm18.Principal: struct (nullable = true)\n",
      " |    |    |-- groupIds: array (nullable = true)\n",
      " |    |    |    |-- element: string (containsNull = true)\n",
      " |    |    |-- hostId: string (nullable = true)\n",
      " |    |    |-- properties: struct (nullable = true)\n",
      " |    |    |    |-- map: struct (nullable = true)\n",
      " |    |    |    |    |-- euid: string (nullable = true)\n",
      " |    |    |-- type: string (nullable = true)\n",
      " |    |    |-- userId: string (nullable = true)\n",
      " |    |    |-- username: string (nullable = true)\n",
      " |    |    |-- uuid: string (nullable = true)\n",
      " |    |-- com.bbn.tc.schema.avro.cdm18.SrcSinkObject: struct (nullable = true)\n",
      " |    |    |-- baseObject: struct (nullable = true)\n",
      " |    |    |    |-- epoch: struct (nullable = true)\n",
      " |    |    |    |    |-- int: long (nullable = true)\n",
      " |    |    |    |-- hostId: string (nullable = true)\n",
      " |    |    |    |-- permission: string (nullable = true)\n",
      " |    |    |    |-- properties: struct (nullable = true)\n",
      " |    |    |    |    |-- map: struct (nullable = true)\n",
      " |    |    |    |    |    |-- pid: string (nullable = true)\n",
      " |    |    |-- fileDescriptor: struct (nullable = true)\n",
      " |    |    |    |-- int: long (nullable = true)\n",
      " |    |    |-- type: string (nullable = true)\n",
      " |    |    |-- uuid: string (nullable = true)\n",
      " |    |-- com.bbn.tc.schema.avro.cdm18.StartMarker: struct (nullable = true)\n",
      " |    |    |-- sessionNumber: long (nullable = true)\n",
      " |    |-- com.bbn.tc.schema.avro.cdm18.Subject: struct (nullable = true)\n",
      " |    |    |-- cid: long (nullable = true)\n",
      " |    |    |-- cmdLine: struct (nullable = true)\n",
      " |    |    |    |-- string: string (nullable = true)\n",
      " |    |    |-- count: struct (nullable = true)\n",
      " |    |    |    |-- int: long (nullable = true)\n",
      " |    |    |-- exportedLibraries: string (nullable = true)\n",
      " |    |    |-- hostId: string (nullable = true)\n",
      " |    |    |-- importedLibraries: string (nullable = true)\n",
      " |    |    |-- iteration: struct (nullable = true)\n",
      " |    |    |    |-- int: long (nullable = true)\n",
      " |    |    |-- localPrincipal: string (nullable = true)\n",
      " |    |    |-- parentSubject: struct (nullable = true)\n",
      " |    |    |    |-- com.bbn.tc.schema.avro.cdm18.UUID: string (nullable = true)\n",
      " |    |    |-- privilegeLevel: string (nullable = true)\n",
      " |    |    |-- properties: struct (nullable = true)\n",
      " |    |    |    |-- map: struct (nullable = true)\n",
      " |    |    |    |    |-- cwd: string (nullable = true)\n",
      " |    |    |    |    |-- name: string (nullable = true)\n",
      " |    |    |    |    |-- ppid: string (nullable = true)\n",
      " |    |    |    |    |-- seen time: string (nullable = true)\n",
      " |    |    |-- startTimestampNanos: long (nullable = true)\n",
      " |    |    |-- type: string (nullable = true)\n",
      " |    |    |-- unitId: struct (nullable = true)\n",
      " |    |    |    |-- int: long (nullable = true)\n",
      " |    |    |-- uuid: string (nullable = true)\n",
      " |    |-- com.bbn.tc.schema.avro.cdm18.TimeMarker: struct (nullable = true)\n",
      " |    |    |-- tsNanos: long (nullable = true)\n",
      " |    |-- com.bbn.tc.schema.avro.cdm18.UnitDependency: struct (nullable = true)\n",
      " |    |    |-- dependentUnit: string (nullable = true)\n",
      " |    |    |-- unit: string (nullable = true)\n",
      " |    |-- com.bbn.tc.schema.avro.cdm18.UnnamedPipeObject: struct (nullable = true)\n",
      " |    |    |-- baseObject: struct (nullable = true)\n",
      " |    |    |    |-- epoch: struct (nullable = true)\n",
      " |    |    |    |    |-- int: long (nullable = true)\n",
      " |    |    |    |-- hostId: string (nullable = true)\n",
      " |    |    |    |-- permission: string (nullable = true)\n",
      " |    |    |    |-- properties: struct (nullable = true)\n",
      " |    |    |    |    |-- map: struct (nullable = true)\n",
      " |    |    |    |    |    |-- pid: string (nullable = true)\n",
      " |    |    |-- sinkFileDescriptor: struct (nullable = true)\n",
      " |    |    |    |-- int: long (nullable = true)\n",
      " |    |    |-- sinkUUID: string (nullable = true)\n",
      " |    |    |-- sourceFileDescriptor: struct (nullable = true)\n",
      " |    |    |    |-- int: long (nullable = true)\n",
      " |    |    |-- sourceUUID: string (nullable = true)\n",
      " |    |    |-- uuid: string (nullable = true)\n",
      " |-- source: string (nullable = true)\n",
      "\n"
     ]
    }
   ],
   "source": [
    "df.printSchema()"
   ]
  },
  {
   "cell_type": "code",
   "execution_count": 7,
   "id": "48b636d9",
   "metadata": {},
   "outputs": [],
   "source": [
    "df = df.select(\"datum.*\").select(\"`com.bbn.tc.schema.avro.cdm18.Subject`\").withColumnRenamed(\"com.bbn.tc.schema.avro.cdm18.Subject\", \"subject\").select(\"subject.*\")"
   ]
  },
  {
   "cell_type": "code",
   "execution_count": 8,
   "id": "a0021a23",
   "metadata": {},
   "outputs": [],
   "source": [
    "cmd_df = df.select(\"cmdLine.*\").withColumnRenamed(\"string\", \"cmdLine\")\n",
    "cmd_df = cmd_df.na.drop()"
   ]
  },
  {
   "cell_type": "code",
   "execution_count": 9,
   "id": "0c2c433f",
   "metadata": {},
   "outputs": [
    {
     "name": "stderr",
     "output_type": "stream",
     "text": [
      "                                                                                \r"
     ]
    },
    {
     "data": {
      "text/plain": [
       "39283148"
      ]
     },
     "execution_count": 9,
     "metadata": {},
     "output_type": "execute_result"
    }
   ],
   "source": [
    "cmd_df.count()"
   ]
  },
  {
   "cell_type": "code",
   "execution_count": 10,
   "id": "8fab6f63",
   "metadata": {},
   "outputs": [],
   "source": [
    "unique_cmd_df = cmd_df.select('cmdLine').distinct()"
   ]
  },
  {
   "cell_type": "code",
   "execution_count": 11,
   "id": "3b15b295",
   "metadata": {},
   "outputs": [
    {
     "name": "stderr",
     "output_type": "stream",
     "text": [
      "                                                                                \r"
     ]
    },
    {
     "data": {
      "text/plain": [
       "4194"
      ]
     },
     "execution_count": 11,
     "metadata": {},
     "output_type": "execute_result"
    }
   ],
   "source": [
    "unique_cmd_df.count()"
   ]
  },
  {
   "cell_type": "code",
   "execution_count": 12,
   "id": "3419b60b",
   "metadata": {},
   "outputs": [
    {
     "name": "stderr",
     "output_type": "stream",
     "text": [
      "                                                                                \r"
     ]
    },
    {
     "data": {
      "text/html": [
       "<table border='1'>\n",
       "<tr><th>cmdLine</th></tr>\n",
       "<tr><td>find /var/lib/apt...</td></tr>\n",
       "<tr><td>/bin/sh /etc/upda...</td></tr>\n",
       "<tr><td>ls /etc/bash_comp...</td></tr>\n",
       "<tr><td>cat /var/lib/upda...</td></tr>\n",
       "<tr><td>/usr/bin/python3 ...</td></tr>\n",
       "<tr><td>cut 2D6420 -f4</td></tr>\n",
       "<tr><td>/usr/lib/thunderb...</td></tr>\n",
       "<tr><td>/bin/sh /usr/bin/...</td></tr>\n",
       "<tr><td>sudo sysctl vm.di...</td></tr>\n",
       "<tr><td>/usr/bin/clear_co...</td></tr>\n",
       "<tr><td>rm -f /var/lib/up...</td></tr>\n",
       "<tr><td>du -sh /bin /boot...</td></tr>\n",
       "<tr><td>rm -f /var/lib/up...</td></tr>\n",
       "<tr><td>dumpe2fs -h /dev/...</td></tr>\n",
       "<tr><td>dmesg</td></tr>\n",
       "<tr><td>date -d 6E6F77202...</td></tr>\n",
       "<tr><td>/usr/local/firefo...</td></tr>\n",
       "<tr><td>rm -f /var/lib/up...</td></tr>\n",
       "<tr><td>who</td></tr>\n",
       "<tr><td>wget http://www.m...</td></tr>\n",
       "</table>\n",
       "only showing top 20 rows\n"
      ],
      "text/plain": [
       "+--------------------+\n",
       "|             cmdLine|\n",
       "+--------------------+\n",
       "|find /var/lib/apt...|\n",
       "|/bin/sh /etc/upda...|\n",
       "|ls /etc/bash_comp...|\n",
       "|cat /var/lib/upda...|\n",
       "|/usr/bin/python3 ...|\n",
       "|      cut 2D6420 -f4|\n",
       "|/usr/lib/thunderb...|\n",
       "|/bin/sh /usr/bin/...|\n",
       "|sudo sysctl vm.di...|\n",
       "|/usr/bin/clear_co...|\n",
       "|rm -f /var/lib/up...|\n",
       "|du -sh /bin /boot...|\n",
       "|rm -f /var/lib/up...|\n",
       "|dumpe2fs -h /dev/...|\n",
       "|               dmesg|\n",
       "|date -d 6E6F77202...|\n",
       "|/usr/local/firefo...|\n",
       "|rm -f /var/lib/up...|\n",
       "|                 who|\n",
       "|wget http://www.m...|\n",
       "+--------------------+\n",
       "only showing top 20 rows"
      ]
     },
     "execution_count": 12,
     "metadata": {},
     "output_type": "execute_result"
    }
   ],
   "source": [
    "unique_cmd_df"
   ]
  },
  {
   "cell_type": "code",
   "execution_count": 13,
   "id": "8b85da22",
   "metadata": {},
   "outputs": [
    {
     "name": "stderr",
     "output_type": "stream",
     "text": [
      "                                                                                \r"
     ]
    }
   ],
   "source": [
    "unique_cmd_df.coalesce(1).write.format('json').save(\"/mnt/raid0_ssd_8tb/dataset/tc_cmdLine.df\")"
   ]
  },
  {
   "cell_type": "code",
   "execution_count": null,
   "id": "ed5018f3",
   "metadata": {},
   "outputs": [],
   "source": []
  }
 ],
 "metadata": {
  "kernelspec": {
   "display_name": "Python 3 (ipykernel)",
   "language": "python",
   "name": "python3"
  },
  "language_info": {
   "codemirror_mode": {
    "name": "ipython",
    "version": 3
   },
   "file_extension": ".py",
   "mimetype": "text/x-python",
   "name": "python",
   "nbconvert_exporter": "python",
   "pygments_lexer": "ipython3",
   "version": "3.8.13"
  }
 },
 "nbformat": 4,
 "nbformat_minor": 5
}
