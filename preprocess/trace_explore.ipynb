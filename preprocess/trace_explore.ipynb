{
 "cells": [
  {
   "cell_type": "code",
   "execution_count": 1,
   "id": "ab06c049-5ed2-4b6c-9880-4808873629d9",
   "metadata": {},
   "outputs": [],
   "source": [
    "import os\n",
    "import networkx as nx\n",
    "import json\n",
    "from datetime import datetime\n",
    "import dateutil.parser as parser\n",
    "import pandas as pd\n",
    "import sys\n",
    "import multiprocessing as mp\n",
    "import numpy as np\n",
    "import pickle"
   ]
  },
  {
   "cell_type": "code",
   "execution_count": 2,
   "id": "83b359ff-6ac5-4835-b15f-5f96aa5d441b",
   "metadata": {},
   "outputs": [],
   "source": [
    "TRACE_DATA_DIR = '/mnt/raid0_ssd_8tb/rimon/gemini1_datasets/trace/'"
   ]
  },
  {
   "cell_type": "code",
   "execution_count": 3,
   "id": "1317d545-2cde-4c4b-92d1-897a644fb5a2",
   "metadata": {},
   "outputs": [],
   "source": [
    "all_trace_files = [os.path.join(TRACE_DATA_DIR, f) for f in os.listdir(TRACE_DATA_DIR)]"
   ]
  },
  {
   "cell_type": "code",
   "execution_count": 5,
   "id": "5cc6189a-91f2-48ae-9a09-63d2c01d3019",
   "metadata": {},
   "outputs": [],
   "source": [
    "temp1 = all_trace_files[0]\n",
    "temp2 = all_trace_files[1]"
   ]
  },
  {
   "cell_type": "code",
   "execution_count": 7,
   "id": "66ad6366-1271-4798-8c25-84fcd9d1e7b8",
   "metadata": {},
   "outputs": [],
   "source": [
    "df1 = pd.read_json(temp1, lines=True)\n",
    "df2 = pd.read_json(temp2, lines=True)"
   ]
  },
  {
   "cell_type": "code",
   "execution_count": 55,
   "id": "92e48027-4cc0-428b-8ebe-78cf821dd4ae",
   "metadata": {},
   "outputs": [
    {
     "data": {
      "text/html": [
       "<div>\n",
       "<style scoped>\n",
       "    .dataframe tbody tr th:only-of-type {\n",
       "        vertical-align: middle;\n",
       "    }\n",
       "\n",
       "    .dataframe tbody tr th {\n",
       "        vertical-align: top;\n",
       "    }\n",
       "\n",
       "    .dataframe thead th {\n",
       "        text-align: right;\n",
       "    }\n",
       "</style>\n",
       "<table border=\"1\" class=\"dataframe\">\n",
       "  <thead>\n",
       "    <tr style=\"text-align: right;\">\n",
       "      <th></th>\n",
       "      <th>datum</th>\n",
       "      <th>CDMVersion</th>\n",
       "      <th>source</th>\n",
       "    </tr>\n",
       "  </thead>\n",
       "  <tbody>\n",
       "    <tr>\n",
       "      <th>0</th>\n",
       "      <td>{'com.bbn.tc.schema.avro.cdm18.Event': {'uuid'...</td>\n",
       "      <td>18</td>\n",
       "      <td>SOURCE_LINUX_SYSCALL_TRACE</td>\n",
       "    </tr>\n",
       "    <tr>\n",
       "      <th>1</th>\n",
       "      <td>{'com.bbn.tc.schema.avro.cdm18.SrcSinkObject':...</td>\n",
       "      <td>18</td>\n",
       "      <td>SOURCE_LINUX_SYSCALL_TRACE</td>\n",
       "    </tr>\n",
       "    <tr>\n",
       "      <th>2</th>\n",
       "      <td>{'com.bbn.tc.schema.avro.cdm18.Event': {'uuid'...</td>\n",
       "      <td>18</td>\n",
       "      <td>SOURCE_LINUX_SYSCALL_TRACE</td>\n",
       "    </tr>\n",
       "    <tr>\n",
       "      <th>3</th>\n",
       "      <td>{'com.bbn.tc.schema.avro.cdm18.SrcSinkObject':...</td>\n",
       "      <td>18</td>\n",
       "      <td>SOURCE_LINUX_SYSCALL_TRACE</td>\n",
       "    </tr>\n",
       "    <tr>\n",
       "      <th>4</th>\n",
       "      <td>{'com.bbn.tc.schema.avro.cdm18.Event': {'uuid'...</td>\n",
       "      <td>18</td>\n",
       "      <td>SOURCE_LINUX_SYSCALL_TRACE</td>\n",
       "    </tr>\n",
       "    <tr>\n",
       "      <th>...</th>\n",
       "      <td>...</td>\n",
       "      <td>...</td>\n",
       "      <td>...</td>\n",
       "    </tr>\n",
       "    <tr>\n",
       "      <th>4999995</th>\n",
       "      <td>{'com.bbn.tc.schema.avro.cdm18.Subject': {'uui...</td>\n",
       "      <td>18</td>\n",
       "      <td>SOURCE_LINUX_BEEP_TRACE</td>\n",
       "    </tr>\n",
       "    <tr>\n",
       "      <th>4999996</th>\n",
       "      <td>{'com.bbn.tc.schema.avro.cdm18.Event': {'uuid'...</td>\n",
       "      <td>18</td>\n",
       "      <td>SOURCE_LINUX_BEEP_TRACE</td>\n",
       "    </tr>\n",
       "    <tr>\n",
       "      <th>4999997</th>\n",
       "      <td>{'com.bbn.tc.schema.avro.cdm18.Subject': {'uui...</td>\n",
       "      <td>18</td>\n",
       "      <td>SOURCE_LINUX_BEEP_TRACE</td>\n",
       "    </tr>\n",
       "    <tr>\n",
       "      <th>4999998</th>\n",
       "      <td>{'com.bbn.tc.schema.avro.cdm18.Event': {'uuid'...</td>\n",
       "      <td>18</td>\n",
       "      <td>SOURCE_LINUX_BEEP_TRACE</td>\n",
       "    </tr>\n",
       "    <tr>\n",
       "      <th>4999999</th>\n",
       "      <td>{'com.bbn.tc.schema.avro.cdm18.Event': {'uuid'...</td>\n",
       "      <td>18</td>\n",
       "      <td>SOURCE_LINUX_SYSCALL_TRACE</td>\n",
       "    </tr>\n",
       "  </tbody>\n",
       "</table>\n",
       "<p>5000000 rows × 3 columns</p>\n",
       "</div>"
      ],
      "text/plain": [
       "                                                     datum  CDMVersion  \\\n",
       "0        {'com.bbn.tc.schema.avro.cdm18.Event': {'uuid'...          18   \n",
       "1        {'com.bbn.tc.schema.avro.cdm18.SrcSinkObject':...          18   \n",
       "2        {'com.bbn.tc.schema.avro.cdm18.Event': {'uuid'...          18   \n",
       "3        {'com.bbn.tc.schema.avro.cdm18.SrcSinkObject':...          18   \n",
       "4        {'com.bbn.tc.schema.avro.cdm18.Event': {'uuid'...          18   \n",
       "...                                                    ...         ...   \n",
       "4999995  {'com.bbn.tc.schema.avro.cdm18.Subject': {'uui...          18   \n",
       "4999996  {'com.bbn.tc.schema.avro.cdm18.Event': {'uuid'...          18   \n",
       "4999997  {'com.bbn.tc.schema.avro.cdm18.Subject': {'uui...          18   \n",
       "4999998  {'com.bbn.tc.schema.avro.cdm18.Event': {'uuid'...          18   \n",
       "4999999  {'com.bbn.tc.schema.avro.cdm18.Event': {'uuid'...          18   \n",
       "\n",
       "                             source  \n",
       "0        SOURCE_LINUX_SYSCALL_TRACE  \n",
       "1        SOURCE_LINUX_SYSCALL_TRACE  \n",
       "2        SOURCE_LINUX_SYSCALL_TRACE  \n",
       "3        SOURCE_LINUX_SYSCALL_TRACE  \n",
       "4        SOURCE_LINUX_SYSCALL_TRACE  \n",
       "...                             ...  \n",
       "4999995     SOURCE_LINUX_BEEP_TRACE  \n",
       "4999996     SOURCE_LINUX_BEEP_TRACE  \n",
       "4999997     SOURCE_LINUX_BEEP_TRACE  \n",
       "4999998     SOURCE_LINUX_BEEP_TRACE  \n",
       "4999999  SOURCE_LINUX_SYSCALL_TRACE  \n",
       "\n",
       "[5000000 rows x 3 columns]"
      ]
     },
     "execution_count": 55,
     "metadata": {},
     "output_type": "execute_result"
    }
   ],
   "source": [
    "df1"
   ]
  },
  {
   "cell_type": "code",
   "execution_count": 58,
   "id": "7534e473-9bc2-46ae-88e6-c8a14d27844c",
   "metadata": {},
   "outputs": [
    {
     "data": {
      "text/plain": [
       "{'com.bbn.tc.schema.avro.cdm18.Event': {'uuid': '0E695069-A079-882E-9F89-AB321FDBF1C9',\n",
       "  'sequence': {'long': 1937130142},\n",
       "  'type': 'EVENT_MPROTECT',\n",
       "  'threadId': {'int': 22247},\n",
       "  'hostId': '3120B2A9-057E-E4EB-4BB9-154983D2C063',\n",
       "  'subject': {'com.bbn.tc.schema.avro.cdm18.UUID': '204EB826-1787-B9D1-CBD9-2D9015AA598E'},\n",
       "  'predicateObject': {'com.bbn.tc.schema.avro.cdm18.UUID': '00EAB82E-BA0D-52DE-3394-486F11558ED8'},\n",
       "  'predicateObjectPath': None,\n",
       "  'predicateObject2': None,\n",
       "  'predicateObject2Path': None,\n",
       "  'timestampNanos': 1523469878202000000,\n",
       "  'name': None,\n",
       "  'parameters': None,\n",
       "  'location': None,\n",
       "  'size': None,\n",
       "  'programPoint': None,\n",
       "  'properties': {'map': {'protection': '5'}}}}"
      ]
     },
     "execution_count": 58,
     "metadata": {},
     "output_type": "execute_result"
    }
   ],
   "source": [
    "df2['datum'].iloc[0]"
   ]
  },
  {
   "cell_type": "code",
   "execution_count": 15,
   "id": "b45f0eb0-932e-4f11-af0b-62078751a6cc",
   "metadata": {},
   "outputs": [
    {
     "data": {
      "text/plain": [
       "0          None\n",
       "1          None\n",
       "2          None\n",
       "3          None\n",
       "4          None\n",
       "           ... \n",
       "4999995    None\n",
       "4999996    None\n",
       "4999997    None\n",
       "4999998    None\n",
       "4999999    None\n",
       "Length: 5000000, dtype: object"
      ]
     },
     "execution_count": 15,
     "metadata": {},
     "output_type": "execute_result"
    }
   ],
   "source": [
    "unique_datum1 = set([])\n",
    "df1.apply(lambda x: unique_datum1.add(next(iter(x['datum']))), axis=1)"
   ]
  },
  {
   "cell_type": "code",
   "execution_count": 17,
   "id": "62a4f900-8d47-4667-bde1-c386bf5775c5",
   "metadata": {},
   "outputs": [
    {
     "data": {
      "text/plain": [
       "0          None\n",
       "1          None\n",
       "2          None\n",
       "3          None\n",
       "4          None\n",
       "           ... \n",
       "4999995    None\n",
       "4999996    None\n",
       "4999997    None\n",
       "4999998    None\n",
       "4999999    None\n",
       "Length: 5000000, dtype: object"
      ]
     },
     "execution_count": 17,
     "metadata": {},
     "output_type": "execute_result"
    }
   ],
   "source": [
    "unique_datum2 = set([])\n",
    "df2.apply(lambda x: unique_datum2.add(next(iter(x['datum']))), axis=1)"
   ]
  },
  {
   "cell_type": "code",
   "execution_count": 20,
   "id": "07fe77d1-bda7-4dc5-b24e-92735a878dee",
   "metadata": {},
   "outputs": [
    {
     "name": "stdout",
     "output_type": "stream",
     "text": [
      "True\n"
     ]
    },
    {
     "data": {
      "text/plain": [
       "{'com.bbn.tc.schema.avro.cdm18.Event',\n",
       " 'com.bbn.tc.schema.avro.cdm18.FileObject',\n",
       " 'com.bbn.tc.schema.avro.cdm18.MemoryObject',\n",
       " 'com.bbn.tc.schema.avro.cdm18.NetFlowObject',\n",
       " 'com.bbn.tc.schema.avro.cdm18.SrcSinkObject',\n",
       " 'com.bbn.tc.schema.avro.cdm18.Subject',\n",
       " 'com.bbn.tc.schema.avro.cdm18.UnitDependency',\n",
       " 'com.bbn.tc.schema.avro.cdm18.UnnamedPipeObject'}"
      ]
     },
     "execution_count": 20,
     "metadata": {},
     "output_type": "execute_result"
    }
   ],
   "source": [
    "print(unique_datum1 == unique_datum2)\n",
    "unique_datum1"
   ]
  },
  {
   "cell_type": "code",
   "execution_count": null,
   "id": "c57c3c17-6433-4d42-adb5-5374d184b846",
   "metadata": {},
   "outputs": [
    {
     "data": {
      "text/plain": [
       "com.bbn.tc.schema.avro.cdm18.Event                3344976\n",
       "com.bbn.tc.schema.avro.cdm18.SrcSinkObject         675012\n",
       "com.bbn.tc.schema.avro.cdm18.Subject               453701\n",
       "com.bbn.tc.schema.avro.cdm18.UnitDependency        394325\n",
       "com.bbn.tc.schema.avro.cdm18.MemoryObject           88522\n",
       "com.bbn.tc.schema.avro.cdm18.NetFlowObject          28082\n",
       "com.bbn.tc.schema.avro.cdm18.FileObject             14118\n",
       "com.bbn.tc.schema.avro.cdm18.UnnamedPipeObject       1264\n",
       "Name: datum, dtype: int64"
      ]
     },
     "execution_count": 51,
     "metadata": {},
     "output_type": "execute_result"
    }
   ],
   "source": [
    "df1['datum'].apply(lambda x: list(x.keys())).explode().value_counts()"
   ]
  },
  {
   "cell_type": "code",
   "execution_count": 52,
   "id": "af42ecd8-9ffa-4b3b-aa8f-0236eb85520f",
   "metadata": {},
   "outputs": [
    {
     "data": {
      "text/plain": [
       "com.bbn.tc.schema.avro.cdm18.Event                3262915\n",
       "com.bbn.tc.schema.avro.cdm18.SrcSinkObject         666849\n",
       "com.bbn.tc.schema.avro.cdm18.Subject               500649\n",
       "com.bbn.tc.schema.avro.cdm18.UnitDependency        467589\n",
       "com.bbn.tc.schema.avro.cdm18.MemoryObject           56515\n",
       "com.bbn.tc.schema.avro.cdm18.NetFlowObject          32894\n",
       "com.bbn.tc.schema.avro.cdm18.FileObject             11845\n",
       "com.bbn.tc.schema.avro.cdm18.UnnamedPipeObject        744\n",
       "Name: datum, dtype: int64"
      ]
     },
     "execution_count": 52,
     "metadata": {},
     "output_type": "execute_result"
    }
   ],
   "source": [
    "df2['datum'].apply(lambda x: list(x.keys())).explode().value_counts()"
   ]
  },
  {
   "cell_type": "code",
   "execution_count": 54,
   "id": "d1d4b7e6-4c4c-4085-b37a-da50b0c3b94b",
   "metadata": {},
   "outputs": [
    {
     "name": "stdout",
     "output_type": "stream",
     "text": [
      "0.6689952\n",
      "0.652583\n"
     ]
    }
   ],
   "source": [
    "print(3344976 / 5000000)\n",
    "print(3262915 / 5000000)\n",
    "# around 66% are event objects - good"
   ]
  },
  {
   "cell_type": "code",
   "execution_count": 59,
   "id": "fd031b5f-1c09-4c37-8a72-54029d3533d8",
   "metadata": {},
   "outputs": [],
   "source": [
    "# do some timestamp analysis \n",
    "normalized_df1 = pd.json_normalize(df1['datum'])"
   ]
  },
  {
   "cell_type": "code",
   "execution_count": 60,
   "id": "70aecc20-d0a6-4cbb-bcce-bca1ed98418e",
   "metadata": {},
   "outputs": [
    {
     "data": {
      "text/html": [
       "<div>\n",
       "<style scoped>\n",
       "    .dataframe tbody tr th:only-of-type {\n",
       "        vertical-align: middle;\n",
       "    }\n",
       "\n",
       "    .dataframe tbody tr th {\n",
       "        vertical-align: top;\n",
       "    }\n",
       "\n",
       "    .dataframe thead th {\n",
       "        text-align: right;\n",
       "    }\n",
       "</style>\n",
       "<table border=\"1\" class=\"dataframe\">\n",
       "  <thead>\n",
       "    <tr style=\"text-align: right;\">\n",
       "      <th></th>\n",
       "      <th>com.bbn.tc.schema.avro.cdm18.Event.uuid</th>\n",
       "      <th>com.bbn.tc.schema.avro.cdm18.Event.sequence.long</th>\n",
       "      <th>com.bbn.tc.schema.avro.cdm18.Event.type</th>\n",
       "      <th>com.bbn.tc.schema.avro.cdm18.Event.threadId.int</th>\n",
       "      <th>com.bbn.tc.schema.avro.cdm18.Event.hostId</th>\n",
       "      <th>com.bbn.tc.schema.avro.cdm18.Event.subject.com.bbn.tc.schema.avro.cdm18.UUID</th>\n",
       "      <th>com.bbn.tc.schema.avro.cdm18.Event.predicateObject.com.bbn.tc.schema.avro.cdm18.UUID</th>\n",
       "      <th>com.bbn.tc.schema.avro.cdm18.Event.predicateObjectPath</th>\n",
       "      <th>com.bbn.tc.schema.avro.cdm18.Event.predicateObject2</th>\n",
       "      <th>com.bbn.tc.schema.avro.cdm18.Event.predicateObject2Path</th>\n",
       "      <th>...</th>\n",
       "      <th>com.bbn.tc.schema.avro.cdm18.UnnamedPipeObject.baseObject.epoch.int</th>\n",
       "      <th>com.bbn.tc.schema.avro.cdm18.UnnamedPipeObject.baseObject.properties.map.pid</th>\n",
       "      <th>com.bbn.tc.schema.avro.cdm18.UnnamedPipeObject.sourceFileDescriptor.int</th>\n",
       "      <th>com.bbn.tc.schema.avro.cdm18.UnnamedPipeObject.sinkFileDescriptor.int</th>\n",
       "      <th>com.bbn.tc.schema.avro.cdm18.UnnamedPipeObject.sourceUUID</th>\n",
       "      <th>com.bbn.tc.schema.avro.cdm18.UnnamedPipeObject.sinkUUID</th>\n",
       "      <th>com.bbn.tc.schema.avro.cdm18.Event.properties.map.operation</th>\n",
       "      <th>com.bbn.tc.schema.avro.cdm18.Subject.parentSubject</th>\n",
       "      <th>com.bbn.tc.schema.avro.cdm18.Subject.properties.map.seen time</th>\n",
       "      <th>com.bbn.tc.schema.avro.cdm18.Event.location.long</th>\n",
       "    </tr>\n",
       "  </thead>\n",
       "  <tbody>\n",
       "    <tr>\n",
       "      <th>0</th>\n",
       "      <td>B7CF3A75-822B-CA7B-9FAF-074E5EF1FE90</td>\n",
       "      <td>1.908210e+09</td>\n",
       "      <td>EVENT_SENDMSG</td>\n",
       "      <td>21790.0</td>\n",
       "      <td>3120B2A9-057E-E4EB-4BB9-154983D2C063</td>\n",
       "      <td>6881BEAE-AEDC-B80D-F325-67C69EA9D711</td>\n",
       "      <td>17B28CB0-EAC8-10B3-5BE1-B672D611BD9B</td>\n",
       "      <td>NaN</td>\n",
       "      <td>NaN</td>\n",
       "      <td>NaN</td>\n",
       "      <td>...</td>\n",
       "      <td>NaN</td>\n",
       "      <td>NaN</td>\n",
       "      <td>NaN</td>\n",
       "      <td>NaN</td>\n",
       "      <td>NaN</td>\n",
       "      <td>NaN</td>\n",
       "      <td>NaN</td>\n",
       "      <td>NaN</td>\n",
       "      <td>NaN</td>\n",
       "      <td>NaN</td>\n",
       "    </tr>\n",
       "    <tr>\n",
       "      <th>1</th>\n",
       "      <td>NaN</td>\n",
       "      <td>NaN</td>\n",
       "      <td>NaN</td>\n",
       "      <td>NaN</td>\n",
       "      <td>NaN</td>\n",
       "      <td>NaN</td>\n",
       "      <td>NaN</td>\n",
       "      <td>NaN</td>\n",
       "      <td>NaN</td>\n",
       "      <td>NaN</td>\n",
       "      <td>...</td>\n",
       "      <td>NaN</td>\n",
       "      <td>NaN</td>\n",
       "      <td>NaN</td>\n",
       "      <td>NaN</td>\n",
       "      <td>NaN</td>\n",
       "      <td>NaN</td>\n",
       "      <td>NaN</td>\n",
       "      <td>NaN</td>\n",
       "      <td>NaN</td>\n",
       "      <td>NaN</td>\n",
       "    </tr>\n",
       "    <tr>\n",
       "      <th>2</th>\n",
       "      <td>7FEDB19D-70FE-A735-10AC-C1D2AF37312C</td>\n",
       "      <td>1.908210e+09</td>\n",
       "      <td>EVENT_RECVMSG</td>\n",
       "      <td>21792.0</td>\n",
       "      <td>3120B2A9-057E-E4EB-4BB9-154983D2C063</td>\n",
       "      <td>5BA646C2-52E0-FD93-4763-09358A07202A</td>\n",
       "      <td>0E06BFEC-893C-1E56-0122-2B3FF4E00701</td>\n",
       "      <td>NaN</td>\n",
       "      <td>NaN</td>\n",
       "      <td>NaN</td>\n",
       "      <td>...</td>\n",
       "      <td>NaN</td>\n",
       "      <td>NaN</td>\n",
       "      <td>NaN</td>\n",
       "      <td>NaN</td>\n",
       "      <td>NaN</td>\n",
       "      <td>NaN</td>\n",
       "      <td>NaN</td>\n",
       "      <td>NaN</td>\n",
       "      <td>NaN</td>\n",
       "      <td>NaN</td>\n",
       "    </tr>\n",
       "    <tr>\n",
       "      <th>3</th>\n",
       "      <td>NaN</td>\n",
       "      <td>NaN</td>\n",
       "      <td>NaN</td>\n",
       "      <td>NaN</td>\n",
       "      <td>NaN</td>\n",
       "      <td>NaN</td>\n",
       "      <td>NaN</td>\n",
       "      <td>NaN</td>\n",
       "      <td>NaN</td>\n",
       "      <td>NaN</td>\n",
       "      <td>...</td>\n",
       "      <td>NaN</td>\n",
       "      <td>NaN</td>\n",
       "      <td>NaN</td>\n",
       "      <td>NaN</td>\n",
       "      <td>NaN</td>\n",
       "      <td>NaN</td>\n",
       "      <td>NaN</td>\n",
       "      <td>NaN</td>\n",
       "      <td>NaN</td>\n",
       "      <td>NaN</td>\n",
       "    </tr>\n",
       "    <tr>\n",
       "      <th>4</th>\n",
       "      <td>44F8544B-E70A-F803-196F-50963746BE35</td>\n",
       "      <td>1.908210e+09</td>\n",
       "      <td>EVENT_SENDMSG</td>\n",
       "      <td>21792.0</td>\n",
       "      <td>3120B2A9-057E-E4EB-4BB9-154983D2C063</td>\n",
       "      <td>5BA646C2-52E0-FD93-4763-09358A07202A</td>\n",
       "      <td>5DD8F7FB-96F3-E61D-24D7-E4DD70508B2D</td>\n",
       "      <td>NaN</td>\n",
       "      <td>NaN</td>\n",
       "      <td>NaN</td>\n",
       "      <td>...</td>\n",
       "      <td>NaN</td>\n",
       "      <td>NaN</td>\n",
       "      <td>NaN</td>\n",
       "      <td>NaN</td>\n",
       "      <td>NaN</td>\n",
       "      <td>NaN</td>\n",
       "      <td>NaN</td>\n",
       "      <td>NaN</td>\n",
       "      <td>NaN</td>\n",
       "      <td>NaN</td>\n",
       "    </tr>\n",
       "    <tr>\n",
       "      <th>...</th>\n",
       "      <td>...</td>\n",
       "      <td>...</td>\n",
       "      <td>...</td>\n",
       "      <td>...</td>\n",
       "      <td>...</td>\n",
       "      <td>...</td>\n",
       "      <td>...</td>\n",
       "      <td>...</td>\n",
       "      <td>...</td>\n",
       "      <td>...</td>\n",
       "      <td>...</td>\n",
       "      <td>...</td>\n",
       "      <td>...</td>\n",
       "      <td>...</td>\n",
       "      <td>...</td>\n",
       "      <td>...</td>\n",
       "      <td>...</td>\n",
       "      <td>...</td>\n",
       "      <td>...</td>\n",
       "      <td>...</td>\n",
       "      <td>...</td>\n",
       "    </tr>\n",
       "    <tr>\n",
       "      <th>4999995</th>\n",
       "      <td>NaN</td>\n",
       "      <td>NaN</td>\n",
       "      <td>NaN</td>\n",
       "      <td>NaN</td>\n",
       "      <td>NaN</td>\n",
       "      <td>NaN</td>\n",
       "      <td>NaN</td>\n",
       "      <td>NaN</td>\n",
       "      <td>NaN</td>\n",
       "      <td>NaN</td>\n",
       "      <td>...</td>\n",
       "      <td>NaN</td>\n",
       "      <td>NaN</td>\n",
       "      <td>NaN</td>\n",
       "      <td>NaN</td>\n",
       "      <td>NaN</td>\n",
       "      <td>NaN</td>\n",
       "      <td>NaN</td>\n",
       "      <td>NaN</td>\n",
       "      <td>NaN</td>\n",
       "      <td>NaN</td>\n",
       "    </tr>\n",
       "    <tr>\n",
       "      <th>4999996</th>\n",
       "      <td>9A9D80D7-FCBE-8D1D-3079-00F2755167AC</td>\n",
       "      <td>1.926364e+09</td>\n",
       "      <td>EVENT_UNIT</td>\n",
       "      <td>22208.0</td>\n",
       "      <td>3120B2A9-057E-E4EB-4BB9-154983D2C063</td>\n",
       "      <td>8E0F9235-C338-73C4-6B46-411935CC7D18</td>\n",
       "      <td>39D9CDA5-BFCB-0BD4-58E0-17A0CDB8F62A</td>\n",
       "      <td>NaN</td>\n",
       "      <td>NaN</td>\n",
       "      <td>NaN</td>\n",
       "      <td>...</td>\n",
       "      <td>NaN</td>\n",
       "      <td>NaN</td>\n",
       "      <td>NaN</td>\n",
       "      <td>NaN</td>\n",
       "      <td>NaN</td>\n",
       "      <td>NaN</td>\n",
       "      <td>NaN</td>\n",
       "      <td>NaN</td>\n",
       "      <td>NaN</td>\n",
       "      <td>NaN</td>\n",
       "    </tr>\n",
       "    <tr>\n",
       "      <th>4999997</th>\n",
       "      <td>NaN</td>\n",
       "      <td>NaN</td>\n",
       "      <td>NaN</td>\n",
       "      <td>NaN</td>\n",
       "      <td>NaN</td>\n",
       "      <td>NaN</td>\n",
       "      <td>NaN</td>\n",
       "      <td>NaN</td>\n",
       "      <td>NaN</td>\n",
       "      <td>NaN</td>\n",
       "      <td>...</td>\n",
       "      <td>NaN</td>\n",
       "      <td>NaN</td>\n",
       "      <td>NaN</td>\n",
       "      <td>NaN</td>\n",
       "      <td>NaN</td>\n",
       "      <td>NaN</td>\n",
       "      <td>NaN</td>\n",
       "      <td>NaN</td>\n",
       "      <td>NaN</td>\n",
       "      <td>NaN</td>\n",
       "    </tr>\n",
       "    <tr>\n",
       "      <th>4999998</th>\n",
       "      <td>26D5D084-06F9-EA33-10C4-25D64728075A</td>\n",
       "      <td>1.926364e+09</td>\n",
       "      <td>EVENT_UNIT</td>\n",
       "      <td>22193.0</td>\n",
       "      <td>3120B2A9-057E-E4EB-4BB9-154983D2C063</td>\n",
       "      <td>53D666B1-70C2-F82F-FE45-E9FF6F00EE6A</td>\n",
       "      <td>091BF32A-DC5D-8DFA-3D9C-9F936FDB205D</td>\n",
       "      <td>NaN</td>\n",
       "      <td>NaN</td>\n",
       "      <td>NaN</td>\n",
       "      <td>...</td>\n",
       "      <td>NaN</td>\n",
       "      <td>NaN</td>\n",
       "      <td>NaN</td>\n",
       "      <td>NaN</td>\n",
       "      <td>NaN</td>\n",
       "      <td>NaN</td>\n",
       "      <td>NaN</td>\n",
       "      <td>NaN</td>\n",
       "      <td>NaN</td>\n",
       "      <td>NaN</td>\n",
       "    </tr>\n",
       "    <tr>\n",
       "      <th>4999999</th>\n",
       "      <td>273AB330-E663-AD7A-CF22-6DF940927836</td>\n",
       "      <td>1.926364e+09</td>\n",
       "      <td>EVENT_WRITE</td>\n",
       "      <td>22247.0</td>\n",
       "      <td>3120B2A9-057E-E4EB-4BB9-154983D2C063</td>\n",
       "      <td>06696621-C303-1F80-C7E8-171A9C4EC2CB</td>\n",
       "      <td>C53CD008-1AE9-E295-A313-F2ACE8995D6C</td>\n",
       "      <td>NaN</td>\n",
       "      <td>NaN</td>\n",
       "      <td>NaN</td>\n",
       "      <td>...</td>\n",
       "      <td>NaN</td>\n",
       "      <td>NaN</td>\n",
       "      <td>NaN</td>\n",
       "      <td>NaN</td>\n",
       "      <td>NaN</td>\n",
       "      <td>NaN</td>\n",
       "      <td>NaN</td>\n",
       "      <td>NaN</td>\n",
       "      <td>NaN</td>\n",
       "      <td>NaN</td>\n",
       "    </tr>\n",
       "  </tbody>\n",
       "</table>\n",
       "<p>5000000 rows × 96 columns</p>\n",
       "</div>"
      ],
      "text/plain": [
       "        com.bbn.tc.schema.avro.cdm18.Event.uuid  \\\n",
       "0          B7CF3A75-822B-CA7B-9FAF-074E5EF1FE90   \n",
       "1                                           NaN   \n",
       "2          7FEDB19D-70FE-A735-10AC-C1D2AF37312C   \n",
       "3                                           NaN   \n",
       "4          44F8544B-E70A-F803-196F-50963746BE35   \n",
       "...                                         ...   \n",
       "4999995                                     NaN   \n",
       "4999996    9A9D80D7-FCBE-8D1D-3079-00F2755167AC   \n",
       "4999997                                     NaN   \n",
       "4999998    26D5D084-06F9-EA33-10C4-25D64728075A   \n",
       "4999999    273AB330-E663-AD7A-CF22-6DF940927836   \n",
       "\n",
       "         com.bbn.tc.schema.avro.cdm18.Event.sequence.long  \\\n",
       "0                                            1.908210e+09   \n",
       "1                                                     NaN   \n",
       "2                                            1.908210e+09   \n",
       "3                                                     NaN   \n",
       "4                                            1.908210e+09   \n",
       "...                                                   ...   \n",
       "4999995                                               NaN   \n",
       "4999996                                      1.926364e+09   \n",
       "4999997                                               NaN   \n",
       "4999998                                      1.926364e+09   \n",
       "4999999                                      1.926364e+09   \n",
       "\n",
       "        com.bbn.tc.schema.avro.cdm18.Event.type  \\\n",
       "0                                 EVENT_SENDMSG   \n",
       "1                                           NaN   \n",
       "2                                 EVENT_RECVMSG   \n",
       "3                                           NaN   \n",
       "4                                 EVENT_SENDMSG   \n",
       "...                                         ...   \n",
       "4999995                                     NaN   \n",
       "4999996                              EVENT_UNIT   \n",
       "4999997                                     NaN   \n",
       "4999998                              EVENT_UNIT   \n",
       "4999999                             EVENT_WRITE   \n",
       "\n",
       "         com.bbn.tc.schema.avro.cdm18.Event.threadId.int  \\\n",
       "0                                                21790.0   \n",
       "1                                                    NaN   \n",
       "2                                                21792.0   \n",
       "3                                                    NaN   \n",
       "4                                                21792.0   \n",
       "...                                                  ...   \n",
       "4999995                                              NaN   \n",
       "4999996                                          22208.0   \n",
       "4999997                                              NaN   \n",
       "4999998                                          22193.0   \n",
       "4999999                                          22247.0   \n",
       "\n",
       "        com.bbn.tc.schema.avro.cdm18.Event.hostId  \\\n",
       "0            3120B2A9-057E-E4EB-4BB9-154983D2C063   \n",
       "1                                             NaN   \n",
       "2            3120B2A9-057E-E4EB-4BB9-154983D2C063   \n",
       "3                                             NaN   \n",
       "4            3120B2A9-057E-E4EB-4BB9-154983D2C063   \n",
       "...                                           ...   \n",
       "4999995                                       NaN   \n",
       "4999996      3120B2A9-057E-E4EB-4BB9-154983D2C063   \n",
       "4999997                                       NaN   \n",
       "4999998      3120B2A9-057E-E4EB-4BB9-154983D2C063   \n",
       "4999999      3120B2A9-057E-E4EB-4BB9-154983D2C063   \n",
       "\n",
       "        com.bbn.tc.schema.avro.cdm18.Event.subject.com.bbn.tc.schema.avro.cdm18.UUID  \\\n",
       "0                     6881BEAE-AEDC-B80D-F325-67C69EA9D711                             \n",
       "1                                                      NaN                             \n",
       "2                     5BA646C2-52E0-FD93-4763-09358A07202A                             \n",
       "3                                                      NaN                             \n",
       "4                     5BA646C2-52E0-FD93-4763-09358A07202A                             \n",
       "...                                                    ...                             \n",
       "4999995                                                NaN                             \n",
       "4999996               8E0F9235-C338-73C4-6B46-411935CC7D18                             \n",
       "4999997                                                NaN                             \n",
       "4999998               53D666B1-70C2-F82F-FE45-E9FF6F00EE6A                             \n",
       "4999999               06696621-C303-1F80-C7E8-171A9C4EC2CB                             \n",
       "\n",
       "        com.bbn.tc.schema.avro.cdm18.Event.predicateObject.com.bbn.tc.schema.avro.cdm18.UUID  \\\n",
       "0                     17B28CB0-EAC8-10B3-5BE1-B672D611BD9B                                     \n",
       "1                                                      NaN                                     \n",
       "2                     0E06BFEC-893C-1E56-0122-2B3FF4E00701                                     \n",
       "3                                                      NaN                                     \n",
       "4                     5DD8F7FB-96F3-E61D-24D7-E4DD70508B2D                                     \n",
       "...                                                    ...                                     \n",
       "4999995                                                NaN                                     \n",
       "4999996               39D9CDA5-BFCB-0BD4-58E0-17A0CDB8F62A                                     \n",
       "4999997                                                NaN                                     \n",
       "4999998               091BF32A-DC5D-8DFA-3D9C-9F936FDB205D                                     \n",
       "4999999               C53CD008-1AE9-E295-A313-F2ACE8995D6C                                     \n",
       "\n",
       "         com.bbn.tc.schema.avro.cdm18.Event.predicateObjectPath  \\\n",
       "0                                                      NaN        \n",
       "1                                                      NaN        \n",
       "2                                                      NaN        \n",
       "3                                                      NaN        \n",
       "4                                                      NaN        \n",
       "...                                                    ...        \n",
       "4999995                                                NaN        \n",
       "4999996                                                NaN        \n",
       "4999997                                                NaN        \n",
       "4999998                                                NaN        \n",
       "4999999                                                NaN        \n",
       "\n",
       "         com.bbn.tc.schema.avro.cdm18.Event.predicateObject2  \\\n",
       "0                                                      NaN     \n",
       "1                                                      NaN     \n",
       "2                                                      NaN     \n",
       "3                                                      NaN     \n",
       "4                                                      NaN     \n",
       "...                                                    ...     \n",
       "4999995                                                NaN     \n",
       "4999996                                                NaN     \n",
       "4999997                                                NaN     \n",
       "4999998                                                NaN     \n",
       "4999999                                                NaN     \n",
       "\n",
       "         com.bbn.tc.schema.avro.cdm18.Event.predicateObject2Path  ...  \\\n",
       "0                                                      NaN        ...   \n",
       "1                                                      NaN        ...   \n",
       "2                                                      NaN        ...   \n",
       "3                                                      NaN        ...   \n",
       "4                                                      NaN        ...   \n",
       "...                                                    ...        ...   \n",
       "4999995                                                NaN        ...   \n",
       "4999996                                                NaN        ...   \n",
       "4999997                                                NaN        ...   \n",
       "4999998                                                NaN        ...   \n",
       "4999999                                                NaN        ...   \n",
       "\n",
       "         com.bbn.tc.schema.avro.cdm18.UnnamedPipeObject.baseObject.epoch.int  \\\n",
       "0                                                      NaN                     \n",
       "1                                                      NaN                     \n",
       "2                                                      NaN                     \n",
       "3                                                      NaN                     \n",
       "4                                                      NaN                     \n",
       "...                                                    ...                     \n",
       "4999995                                                NaN                     \n",
       "4999996                                                NaN                     \n",
       "4999997                                                NaN                     \n",
       "4999998                                                NaN                     \n",
       "4999999                                                NaN                     \n",
       "\n",
       "         com.bbn.tc.schema.avro.cdm18.UnnamedPipeObject.baseObject.properties.map.pid  \\\n",
       "0                                                      NaN                              \n",
       "1                                                      NaN                              \n",
       "2                                                      NaN                              \n",
       "3                                                      NaN                              \n",
       "4                                                      NaN                              \n",
       "...                                                    ...                              \n",
       "4999995                                                NaN                              \n",
       "4999996                                                NaN                              \n",
       "4999997                                                NaN                              \n",
       "4999998                                                NaN                              \n",
       "4999999                                                NaN                              \n",
       "\n",
       "         com.bbn.tc.schema.avro.cdm18.UnnamedPipeObject.sourceFileDescriptor.int  \\\n",
       "0                                                      NaN                         \n",
       "1                                                      NaN                         \n",
       "2                                                      NaN                         \n",
       "3                                                      NaN                         \n",
       "4                                                      NaN                         \n",
       "...                                                    ...                         \n",
       "4999995                                                NaN                         \n",
       "4999996                                                NaN                         \n",
       "4999997                                                NaN                         \n",
       "4999998                                                NaN                         \n",
       "4999999                                                NaN                         \n",
       "\n",
       "         com.bbn.tc.schema.avro.cdm18.UnnamedPipeObject.sinkFileDescriptor.int  \\\n",
       "0                                                      NaN                       \n",
       "1                                                      NaN                       \n",
       "2                                                      NaN                       \n",
       "3                                                      NaN                       \n",
       "4                                                      NaN                       \n",
       "...                                                    ...                       \n",
       "4999995                                                NaN                       \n",
       "4999996                                                NaN                       \n",
       "4999997                                                NaN                       \n",
       "4999998                                                NaN                       \n",
       "4999999                                                NaN                       \n",
       "\n",
       "         com.bbn.tc.schema.avro.cdm18.UnnamedPipeObject.sourceUUID  \\\n",
       "0                                                      NaN           \n",
       "1                                                      NaN           \n",
       "2                                                      NaN           \n",
       "3                                                      NaN           \n",
       "4                                                      NaN           \n",
       "...                                                    ...           \n",
       "4999995                                                NaN           \n",
       "4999996                                                NaN           \n",
       "4999997                                                NaN           \n",
       "4999998                                                NaN           \n",
       "4999999                                                NaN           \n",
       "\n",
       "         com.bbn.tc.schema.avro.cdm18.UnnamedPipeObject.sinkUUID  \\\n",
       "0                                                      NaN         \n",
       "1                                                      NaN         \n",
       "2                                                      NaN         \n",
       "3                                                      NaN         \n",
       "4                                                      NaN         \n",
       "...                                                    ...         \n",
       "4999995                                                NaN         \n",
       "4999996                                                NaN         \n",
       "4999997                                                NaN         \n",
       "4999998                                                NaN         \n",
       "4999999                                                NaN         \n",
       "\n",
       "        com.bbn.tc.schema.avro.cdm18.Event.properties.map.operation  \\\n",
       "0                                                      NaN            \n",
       "1                                                      NaN            \n",
       "2                                                      NaN            \n",
       "3                                                      NaN            \n",
       "4                                                      NaN            \n",
       "...                                                    ...            \n",
       "4999995                                                NaN            \n",
       "4999996                                                NaN            \n",
       "4999997                                                NaN            \n",
       "4999998                                                NaN            \n",
       "4999999                                                NaN            \n",
       "\n",
       "        com.bbn.tc.schema.avro.cdm18.Subject.parentSubject  \\\n",
       "0                                                      NaN   \n",
       "1                                                      NaN   \n",
       "2                                                      NaN   \n",
       "3                                                      NaN   \n",
       "4                                                      NaN   \n",
       "...                                                    ...   \n",
       "4999995                                                NaN   \n",
       "4999996                                                NaN   \n",
       "4999997                                                NaN   \n",
       "4999998                                                NaN   \n",
       "4999999                                                NaN   \n",
       "\n",
       "         com.bbn.tc.schema.avro.cdm18.Subject.properties.map.seen time  \\\n",
       "0                                                      NaN               \n",
       "1                                                      NaN               \n",
       "2                                                      NaN               \n",
       "3                                                      NaN               \n",
       "4                                                      NaN               \n",
       "...                                                    ...               \n",
       "4999995                                                NaN               \n",
       "4999996                                                NaN               \n",
       "4999997                                                NaN               \n",
       "4999998                                                NaN               \n",
       "4999999                                                NaN               \n",
       "\n",
       "         com.bbn.tc.schema.avro.cdm18.Event.location.long  \n",
       "0                                                     NaN  \n",
       "1                                                     NaN  \n",
       "2                                                     NaN  \n",
       "3                                                     NaN  \n",
       "4                                                     NaN  \n",
       "...                                                   ...  \n",
       "4999995                                               NaN  \n",
       "4999996                                               NaN  \n",
       "4999997                                               NaN  \n",
       "4999998                                               NaN  \n",
       "4999999                                               NaN  \n",
       "\n",
       "[5000000 rows x 96 columns]"
      ]
     },
     "execution_count": 60,
     "metadata": {},
     "output_type": "execute_result"
    }
   ],
   "source": [
    "normalized_df1"
   ]
  },
  {
   "cell_type": "code",
   "execution_count": 62,
   "id": "a37daf33-e84d-4abc-8ad6-bb1da07cfd1b",
   "metadata": {},
   "outputs": [
    {
     "name": "stderr",
     "output_type": "stream",
     "text": [
      "/tmp/ipykernel_1734869/1322253572.py:1: FutureWarning: The default value of numeric_only in DataFrame.min is deprecated. In a future version, it will default to False. In addition, specifying 'numeric_only=None' is deprecated. Select only valid columns or specify the value of numeric_only to silence this warning.\n",
      "  normalized_df1.min(axis=0)\n"
     ]
    },
    {
     "data": {
      "text/plain": [
       "com.bbn.tc.schema.avro.cdm18.Event.sequence.long                           1.908210e+09\n",
       "com.bbn.tc.schema.avro.cdm18.Event.threadId.int                            1.051000e+03\n",
       "com.bbn.tc.schema.avro.cdm18.Event.predicateObjectPath                              NaN\n",
       "com.bbn.tc.schema.avro.cdm18.Event.predicateObject2                                 NaN\n",
       "com.bbn.tc.schema.avro.cdm18.Event.predicateObject2Path                             NaN\n",
       "com.bbn.tc.schema.avro.cdm18.Event.timestampNanos                          1.523462e+18\n",
       "com.bbn.tc.schema.avro.cdm18.Event.name                                             NaN\n",
       "com.bbn.tc.schema.avro.cdm18.Event.parameters                                       NaN\n",
       "com.bbn.tc.schema.avro.cdm18.Event.location                                         NaN\n",
       "com.bbn.tc.schema.avro.cdm18.Event.size.long                               0.000000e+00\n",
       "com.bbn.tc.schema.avro.cdm18.Event.programPoint                                     NaN\n",
       "com.bbn.tc.schema.avro.cdm18.SrcSinkObject.baseObject.permission                    NaN\n",
       "com.bbn.tc.schema.avro.cdm18.SrcSinkObject.baseObject.epoch.int            0.000000e+00\n",
       "com.bbn.tc.schema.avro.cdm18.SrcSinkObject.fileDescriptor.int              0.000000e+00\n",
       "com.bbn.tc.schema.avro.cdm18.Event.size                                             NaN\n",
       "com.bbn.tc.schema.avro.cdm18.MemoryObject.baseObject.permission                     NaN\n",
       "com.bbn.tc.schema.avro.cdm18.MemoryObject.baseObject.epoch                          NaN\n",
       "com.bbn.tc.schema.avro.cdm18.MemoryObject.memoryAddress                    4.317184e+06\n",
       "com.bbn.tc.schema.avro.cdm18.MemoryObject.pageNumber                                NaN\n",
       "com.bbn.tc.schema.avro.cdm18.MemoryObject.pageOffset                                NaN\n",
       "com.bbn.tc.schema.avro.cdm18.MemoryObject.size.long                        1.000000e+00\n",
       "com.bbn.tc.schema.avro.cdm18.NetFlowObject.baseObject.permission                    NaN\n",
       "com.bbn.tc.schema.avro.cdm18.NetFlowObject.baseObject.epoch.int            0.000000e+00\n",
       "com.bbn.tc.schema.avro.cdm18.NetFlowObject.localPort                       0.000000e+00\n",
       "com.bbn.tc.schema.avro.cdm18.NetFlowObject.remotePort                      0.000000e+00\n",
       "com.bbn.tc.schema.avro.cdm18.NetFlowObject.ipProtocol.int                  6.000000e+00\n",
       "com.bbn.tc.schema.avro.cdm18.NetFlowObject.fileDescriptor                           NaN\n",
       "com.bbn.tc.schema.avro.cdm18.Subject.cid                                   2.173600e+04\n",
       "com.bbn.tc.schema.avro.cdm18.Subject.startTimestampNanos                   0.000000e+00\n",
       "com.bbn.tc.schema.avro.cdm18.Subject.unitId.int                            0.000000e+00\n",
       "com.bbn.tc.schema.avro.cdm18.Subject.iteration.int                         0.000000e+00\n",
       "com.bbn.tc.schema.avro.cdm18.Subject.count.int                             0.000000e+00\n",
       "com.bbn.tc.schema.avro.cdm18.Subject.privilegeLevel                                 NaN\n",
       "com.bbn.tc.schema.avro.cdm18.Subject.importedLibraries                              NaN\n",
       "com.bbn.tc.schema.avro.cdm18.Subject.exportedLibraries                              NaN\n",
       "com.bbn.tc.schema.avro.cdm18.Subject.iteration                                      NaN\n",
       "com.bbn.tc.schema.avro.cdm18.Subject.count                                          NaN\n",
       "com.bbn.tc.schema.avro.cdm18.FileObject.baseObject.epoch.int               0.000000e+00\n",
       "com.bbn.tc.schema.avro.cdm18.FileObject.fileDescriptor                              NaN\n",
       "com.bbn.tc.schema.avro.cdm18.FileObject.localPrincipal                              NaN\n",
       "com.bbn.tc.schema.avro.cdm18.FileObject.size                                        NaN\n",
       "com.bbn.tc.schema.avro.cdm18.FileObject.peInfo                                      NaN\n",
       "com.bbn.tc.schema.avro.cdm18.FileObject.hashes                                      NaN\n",
       "com.bbn.tc.schema.avro.cdm18.Subject.cmdLine                                        NaN\n",
       "com.bbn.tc.schema.avro.cdm18.UnnamedPipeObject.baseObject.permission                NaN\n",
       "com.bbn.tc.schema.avro.cdm18.UnnamedPipeObject.baseObject.epoch.int        0.000000e+00\n",
       "com.bbn.tc.schema.avro.cdm18.UnnamedPipeObject.sourceFileDescriptor.int    3.000000e+00\n",
       "com.bbn.tc.schema.avro.cdm18.UnnamedPipeObject.sinkFileDescriptor.int      4.000000e+00\n",
       "com.bbn.tc.schema.avro.cdm18.UnnamedPipeObject.sourceUUID                           NaN\n",
       "com.bbn.tc.schema.avro.cdm18.UnnamedPipeObject.sinkUUID                             NaN\n",
       "com.bbn.tc.schema.avro.cdm18.Subject.parentSubject                                  NaN\n",
       "com.bbn.tc.schema.avro.cdm18.Event.location.long                           1.000000e+00\n",
       "dtype: float64"
      ]
     },
     "execution_count": 62,
     "metadata": {},
     "output_type": "execute_result"
    }
   ],
   "source": [
    "normalized_df1.min(axis=0)"
   ]
  },
  {
   "cell_type": "code",
   "execution_count": 63,
   "id": "926bd406-1268-4bb8-ac59-f281302c1ae3",
   "metadata": {},
   "outputs": [
    {
     "name": "stderr",
     "output_type": "stream",
     "text": [
      "/tmp/ipykernel_1734869/2872451825.py:1: FutureWarning: The default value of numeric_only in DataFrame.max is deprecated. In a future version, it will default to False. In addition, specifying 'numeric_only=None' is deprecated. Select only valid columns or specify the value of numeric_only to silence this warning.\n",
      "  normalized_df1.max(axis=0)\n"
     ]
    },
    {
     "data": {
      "text/plain": [
       "com.bbn.tc.schema.avro.cdm18.Event.sequence.long                           1.926364e+09\n",
       "com.bbn.tc.schema.avro.cdm18.Event.threadId.int                            2.991300e+04\n",
       "com.bbn.tc.schema.avro.cdm18.Event.predicateObjectPath                              NaN\n",
       "com.bbn.tc.schema.avro.cdm18.Event.predicateObject2                                 NaN\n",
       "com.bbn.tc.schema.avro.cdm18.Event.predicateObject2Path                             NaN\n",
       "com.bbn.tc.schema.avro.cdm18.Event.timestampNanos                          1.523465e+18\n",
       "com.bbn.tc.schema.avro.cdm18.Event.name                                             NaN\n",
       "com.bbn.tc.schema.avro.cdm18.Event.parameters                                       NaN\n",
       "com.bbn.tc.schema.avro.cdm18.Event.location                                         NaN\n",
       "com.bbn.tc.schema.avro.cdm18.Event.size.long                               3.295642e+06\n",
       "com.bbn.tc.schema.avro.cdm18.Event.programPoint                                     NaN\n",
       "com.bbn.tc.schema.avro.cdm18.SrcSinkObject.baseObject.permission                    NaN\n",
       "com.bbn.tc.schema.avro.cdm18.SrcSinkObject.baseObject.epoch.int            2.674319e+06\n",
       "com.bbn.tc.schema.avro.cdm18.SrcSinkObject.fileDescriptor.int              2.140000e+02\n",
       "com.bbn.tc.schema.avro.cdm18.Event.size                                             NaN\n",
       "com.bbn.tc.schema.avro.cdm18.MemoryObject.baseObject.permission                     NaN\n",
       "com.bbn.tc.schema.avro.cdm18.MemoryObject.baseObject.epoch                          NaN\n",
       "com.bbn.tc.schema.avro.cdm18.MemoryObject.memoryAddress                    1.407189e+14\n",
       "com.bbn.tc.schema.avro.cdm18.MemoryObject.pageNumber                                NaN\n",
       "com.bbn.tc.schema.avro.cdm18.MemoryObject.pageOffset                                NaN\n",
       "com.bbn.tc.schema.avro.cdm18.MemoryObject.size.long                        1.073742e+09\n",
       "com.bbn.tc.schema.avro.cdm18.NetFlowObject.baseObject.permission                    NaN\n",
       "com.bbn.tc.schema.avro.cdm18.NetFlowObject.baseObject.epoch.int            8.945570e+05\n",
       "com.bbn.tc.schema.avro.cdm18.NetFlowObject.localPort                       6.099500e+04\n",
       "com.bbn.tc.schema.avro.cdm18.NetFlowObject.remotePort                      3.635200e+04\n",
       "com.bbn.tc.schema.avro.cdm18.NetFlowObject.ipProtocol.int                  1.700000e+01\n",
       "com.bbn.tc.schema.avro.cdm18.NetFlowObject.fileDescriptor                           NaN\n",
       "com.bbn.tc.schema.avro.cdm18.Subject.cid                                   2.593000e+04\n",
       "com.bbn.tc.schema.avro.cdm18.Subject.startTimestampNanos                   1.523465e+18\n",
       "com.bbn.tc.schema.avro.cdm18.Subject.unitId.int                            3.000000e+00\n",
       "com.bbn.tc.schema.avro.cdm18.Subject.iteration.int                         1.925130e+05\n",
       "com.bbn.tc.schema.avro.cdm18.Subject.count.int                             4.480000e+02\n",
       "com.bbn.tc.schema.avro.cdm18.Subject.privilegeLevel                                 NaN\n",
       "com.bbn.tc.schema.avro.cdm18.Subject.importedLibraries                              NaN\n",
       "com.bbn.tc.schema.avro.cdm18.Subject.exportedLibraries                              NaN\n",
       "com.bbn.tc.schema.avro.cdm18.Subject.iteration                                      NaN\n",
       "com.bbn.tc.schema.avro.cdm18.Subject.count                                          NaN\n",
       "com.bbn.tc.schema.avro.cdm18.FileObject.baseObject.epoch.int               9.729000e+03\n",
       "com.bbn.tc.schema.avro.cdm18.FileObject.fileDescriptor                              NaN\n",
       "com.bbn.tc.schema.avro.cdm18.FileObject.localPrincipal                              NaN\n",
       "com.bbn.tc.schema.avro.cdm18.FileObject.size                                        NaN\n",
       "com.bbn.tc.schema.avro.cdm18.FileObject.peInfo                                      NaN\n",
       "com.bbn.tc.schema.avro.cdm18.FileObject.hashes                                      NaN\n",
       "com.bbn.tc.schema.avro.cdm18.Subject.cmdLine                                        NaN\n",
       "com.bbn.tc.schema.avro.cdm18.UnnamedPipeObject.baseObject.permission                NaN\n",
       "com.bbn.tc.schema.avro.cdm18.UnnamedPipeObject.baseObject.epoch.int        1.854000e+03\n",
       "com.bbn.tc.schema.avro.cdm18.UnnamedPipeObject.sourceFileDescriptor.int    9.300000e+01\n",
       "com.bbn.tc.schema.avro.cdm18.UnnamedPipeObject.sinkFileDescriptor.int      9.400000e+01\n",
       "com.bbn.tc.schema.avro.cdm18.UnnamedPipeObject.sourceUUID                           NaN\n",
       "com.bbn.tc.schema.avro.cdm18.UnnamedPipeObject.sinkUUID                             NaN\n",
       "com.bbn.tc.schema.avro.cdm18.Subject.parentSubject                                  NaN\n",
       "com.bbn.tc.schema.avro.cdm18.Event.location.long                           1.000000e+00\n",
       "dtype: float64"
      ]
     },
     "execution_count": 63,
     "metadata": {},
     "output_type": "execute_result"
    }
   ],
   "source": [
    "normalized_df1.max(axis=0)"
   ]
  },
  {
   "cell_type": "code",
   "execution_count": null,
   "id": "ddf2653c-6db3-4d02-ad81-88590dc20951",
   "metadata": {},
   "outputs": [],
   "source": []
  },
  {
   "cell_type": "code",
   "execution_count": 6,
   "id": "c9b3ccd4-e6c6-4126-966a-06f97f35a23e",
   "metadata": {},
   "outputs": [],
   "source": [
    "# min timestamp for events from df1: Wed Apr 11 2018 11:53:20 GMT-0400 (Eastern Daylight Time)\n",
    "# max timestamp for events from df1: Wed Apr 11 2018 12:43:20 GMT-0400 (Eastern Daylight Time)"
   ]
  },
  {
   "cell_type": "code",
   "execution_count": 1,
   "id": "d471ac63-de68-480f-bb73-519d97c7d901",
   "metadata": {},
   "outputs": [],
   "source": [
    "TRACE_DATA_DIR = '/mnt/raid0_ssd_8tb/rimon/gemini1_datasets/trace/'"
   ]
  },
  {
   "cell_type": "code",
   "execution_count": 16,
   "id": "30ec9f4f-9fef-4cf7-bf53-d3b092de648e",
   "metadata": {},
   "outputs": [],
   "source": [
    "timestamps_df = pd.read_csv('../data/timestamps.txt', sep='\\t')"
   ]
  },
  {
   "cell_type": "code",
   "execution_count": 21,
   "id": "6a9b3bf9-801a-4a49-a527-f9ec66f3d18a",
   "metadata": {},
   "outputs": [],
   "source": [
    "timestamps_df['min_datetime'] = timestamps_df.apply(lambda x: datetime.fromtimestamp(x['min_time'] // 1000000000), axis=1)\n",
    "timestamps_df['max_datetime'] = timestamps_df.apply(lambda x: datetime.fromtimestamp(x['max_time'] // 1000000000), axis=1)"
   ]
  },
  {
   "cell_type": "code",
   "execution_count": 25,
   "id": "042733cf-6388-4a9f-af36-993b48113555",
   "metadata": {},
   "outputs": [],
   "source": [
    "mask_10th = (timestamps_df['min_time'] > 1523332800 * 1000000000) & (timestamps_df['max_time'] < 1523419199 * 1000000000)"
   ]
  },
  {
   "cell_type": "code",
   "execution_count": 28,
   "id": "b2c15cdf-52a3-44c0-877a-771f3284ca1d",
   "metadata": {},
   "outputs": [
    {
     "data": {
      "text/html": [
       "<div>\n",
       "<style scoped>\n",
       "    .dataframe tbody tr th:only-of-type {\n",
       "        vertical-align: middle;\n",
       "    }\n",
       "\n",
       "    .dataframe tbody tr th {\n",
       "        vertical-align: top;\n",
       "    }\n",
       "\n",
       "    .dataframe thead th {\n",
       "        text-align: right;\n",
       "    }\n",
       "</style>\n",
       "<table border=\"1\" class=\"dataframe\">\n",
       "  <thead>\n",
       "    <tr style=\"text-align: right;\">\n",
       "      <th></th>\n",
       "      <th>file</th>\n",
       "      <th>min_time</th>\n",
       "      <th>max_time</th>\n",
       "      <th>min_datetime</th>\n",
       "      <th>max_datetime</th>\n",
       "    </tr>\n",
       "  </thead>\n",
       "  <tbody>\n",
       "    <tr>\n",
       "      <th>12</th>\n",
       "      <td>/mnt/raid0_ssd_8tb/rimon/gemini1_datasets/trac...</td>\n",
       "      <td>1523336194113000000</td>\n",
       "      <td>1523343513168000000</td>\n",
       "      <td>2018-04-10 00:56:34</td>\n",
       "      <td>2018-04-10 02:58:33</td>\n",
       "    </tr>\n",
       "    <tr>\n",
       "      <th>3</th>\n",
       "      <td>/mnt/raid0_ssd_8tb/rimon/gemini1_datasets/trac...</td>\n",
       "      <td>1523350646120000000</td>\n",
       "      <td>1523357764428000000</td>\n",
       "      <td>2018-04-10 04:57:26</td>\n",
       "      <td>2018-04-10 06:56:04</td>\n",
       "    </tr>\n",
       "    <tr>\n",
       "      <th>28</th>\n",
       "      <td>/mnt/raid0_ssd_8tb/rimon/gemini1_datasets/trac...</td>\n",
       "      <td>1523357764428000000</td>\n",
       "      <td>1523362902620000000</td>\n",
       "      <td>2018-04-10 06:56:04</td>\n",
       "      <td>2018-04-10 08:21:42</td>\n",
       "    </tr>\n",
       "    <tr>\n",
       "      <th>13</th>\n",
       "      <td>/mnt/raid0_ssd_8tb/rimon/gemini1_datasets/trac...</td>\n",
       "      <td>1523358607461000000</td>\n",
       "      <td>1523407023043000000</td>\n",
       "      <td>2018-04-10 07:10:07</td>\n",
       "      <td>2018-04-10 20:37:03</td>\n",
       "    </tr>\n",
       "    <tr>\n",
       "      <th>48</th>\n",
       "      <td>/mnt/raid0_ssd_8tb/rimon/gemini1_datasets/trac...</td>\n",
       "      <td>1523362902620000000</td>\n",
       "      <td>1523368211327000000</td>\n",
       "      <td>2018-04-10 08:21:42</td>\n",
       "      <td>2018-04-10 09:50:11</td>\n",
       "    </tr>\n",
       "    <tr>\n",
       "      <th>54</th>\n",
       "      <td>/mnt/raid0_ssd_8tb/rimon/gemini1_datasets/trac...</td>\n",
       "      <td>1523365062110000000</td>\n",
       "      <td>1523414635961000000</td>\n",
       "      <td>2018-04-10 08:57:42</td>\n",
       "      <td>2018-04-10 22:43:55</td>\n",
       "    </tr>\n",
       "    <tr>\n",
       "      <th>19</th>\n",
       "      <td>/mnt/raid0_ssd_8tb/rimon/gemini1_datasets/trac...</td>\n",
       "      <td>1523368211327000000</td>\n",
       "      <td>1523368223807000000</td>\n",
       "      <td>2018-04-10 09:50:11</td>\n",
       "      <td>2018-04-10 09:50:23</td>\n",
       "    </tr>\n",
       "    <tr>\n",
       "      <th>68</th>\n",
       "      <td>/mnt/raid0_ssd_8tb/rimon/gemini1_datasets/trac...</td>\n",
       "      <td>1523370537991000000</td>\n",
       "      <td>1523377398805000000</td>\n",
       "      <td>2018-04-10 10:28:57</td>\n",
       "      <td>2018-04-10 12:23:18</td>\n",
       "    </tr>\n",
       "    <tr>\n",
       "      <th>4</th>\n",
       "      <td>/mnt/raid0_ssd_8tb/rimon/gemini1_datasets/trac...</td>\n",
       "      <td>1523377398805000000</td>\n",
       "      <td>1523384612090000000</td>\n",
       "      <td>2018-04-10 12:23:18</td>\n",
       "      <td>2018-04-10 14:23:32</td>\n",
       "    </tr>\n",
       "    <tr>\n",
       "      <th>24</th>\n",
       "      <td>/mnt/raid0_ssd_8tb/rimon/gemini1_datasets/trac...</td>\n",
       "      <td>1523384612090000000</td>\n",
       "      <td>1523391700075000000</td>\n",
       "      <td>2018-04-10 14:23:32</td>\n",
       "      <td>2018-04-10 16:21:40</td>\n",
       "    </tr>\n",
       "    <tr>\n",
       "      <th>43</th>\n",
       "      <td>/mnt/raid0_ssd_8tb/rimon/gemini1_datasets/trac...</td>\n",
       "      <td>1523391700075000000</td>\n",
       "      <td>1523399533255000000</td>\n",
       "      <td>2018-04-10 16:21:40</td>\n",
       "      <td>2018-04-10 18:32:13</td>\n",
       "    </tr>\n",
       "  </tbody>\n",
       "</table>\n",
       "</div>"
      ],
      "text/plain": [
       "                                                 file             min_time  \\\n",
       "12  /mnt/raid0_ssd_8tb/rimon/gemini1_datasets/trac...  1523336194113000000   \n",
       "3   /mnt/raid0_ssd_8tb/rimon/gemini1_datasets/trac...  1523350646120000000   \n",
       "28  /mnt/raid0_ssd_8tb/rimon/gemini1_datasets/trac...  1523357764428000000   \n",
       "13  /mnt/raid0_ssd_8tb/rimon/gemini1_datasets/trac...  1523358607461000000   \n",
       "48  /mnt/raid0_ssd_8tb/rimon/gemini1_datasets/trac...  1523362902620000000   \n",
       "54  /mnt/raid0_ssd_8tb/rimon/gemini1_datasets/trac...  1523365062110000000   \n",
       "19  /mnt/raid0_ssd_8tb/rimon/gemini1_datasets/trac...  1523368211327000000   \n",
       "68  /mnt/raid0_ssd_8tb/rimon/gemini1_datasets/trac...  1523370537991000000   \n",
       "4   /mnt/raid0_ssd_8tb/rimon/gemini1_datasets/trac...  1523377398805000000   \n",
       "24  /mnt/raid0_ssd_8tb/rimon/gemini1_datasets/trac...  1523384612090000000   \n",
       "43  /mnt/raid0_ssd_8tb/rimon/gemini1_datasets/trac...  1523391700075000000   \n",
       "\n",
       "               max_time        min_datetime        max_datetime  \n",
       "12  1523343513168000000 2018-04-10 00:56:34 2018-04-10 02:58:33  \n",
       "3   1523357764428000000 2018-04-10 04:57:26 2018-04-10 06:56:04  \n",
       "28  1523362902620000000 2018-04-10 06:56:04 2018-04-10 08:21:42  \n",
       "13  1523407023043000000 2018-04-10 07:10:07 2018-04-10 20:37:03  \n",
       "48  1523368211327000000 2018-04-10 08:21:42 2018-04-10 09:50:11  \n",
       "54  1523414635961000000 2018-04-10 08:57:42 2018-04-10 22:43:55  \n",
       "19  1523368223807000000 2018-04-10 09:50:11 2018-04-10 09:50:23  \n",
       "68  1523377398805000000 2018-04-10 10:28:57 2018-04-10 12:23:18  \n",
       "4   1523384612090000000 2018-04-10 12:23:18 2018-04-10 14:23:32  \n",
       "24  1523391700075000000 2018-04-10 14:23:32 2018-04-10 16:21:40  \n",
       "43  1523399533255000000 2018-04-10 16:21:40 2018-04-10 18:32:13  "
      ]
     },
     "execution_count": 28,
     "metadata": {},
     "output_type": "execute_result"
    }
   ],
   "source": [
    "# TRACE Drakon Firefox backdoor with drakon APT in memory on April 10th started @ 10 AM\n",
    "# 3.2 20180410 1000 TRACE – Firefox Backdoor w/ Drakon In-Memory\n",
    "\n",
    "timestamps_df[mask_10th].sort_values('min_time')"
   ]
  },
  {
   "cell_type": "code",
   "execution_count": 33,
   "id": "a9347e0d-5b61-4101-a4cd-0414fdd9b033",
   "metadata": {},
   "outputs": [
    {
     "data": {
      "text/plain": [
       "['/mnt/raid0_ssd_8tb/rimon/gemini1_datasets/trace/ta1-trace-e3-official.json.118',\n",
       " '/mnt/raid0_ssd_8tb/rimon/gemini1_datasets/trace/ta1-trace-e3-official.json.120',\n",
       " '/mnt/raid0_ssd_8tb/rimon/gemini1_datasets/trace/ta1-trace-e3-official.json.121',\n",
       " '/mnt/raid0_ssd_8tb/rimon/gemini1_datasets/trace/ta1-trace-e3-official.json.129',\n",
       " '/mnt/raid0_ssd_8tb/rimon/gemini1_datasets/trace/ta1-trace-e3-official.json.122',\n",
       " '/mnt/raid0_ssd_8tb/rimon/gemini1_datasets/trace/ta1-trace-e3-official.json.130',\n",
       " '/mnt/raid0_ssd_8tb/rimon/gemini1_datasets/trace/ta1-trace-e3-official.json.123',\n",
       " '/mnt/raid0_ssd_8tb/rimon/gemini1_datasets/trace/ta1-trace-e3-official.json.125',\n",
       " '/mnt/raid0_ssd_8tb/rimon/gemini1_datasets/trace/ta1-trace-e3-official.json.126',\n",
       " '/mnt/raid0_ssd_8tb/rimon/gemini1_datasets/trace/ta1-trace-e3-official.json.127',\n",
       " '/mnt/raid0_ssd_8tb/rimon/gemini1_datasets/trace/ta1-trace-e3-official.json.128']"
      ]
     },
     "execution_count": 33,
     "metadata": {},
     "output_type": "execute_result"
    }
   ],
   "source": [
    "temp = timestamps_df[mask_10th].sort_values('min_time')['file']\n",
    "temp.values.flatten().tolist()"
   ]
  },
  {
   "cell_type": "markdown",
   "id": "796d47ec-b10e-45ee-93e3-39196a8863f7",
   "metadata": {},
   "source": [
    "# Spark Processing"
   ]
  },
  {
   "cell_type": "code",
   "execution_count": 6,
   "id": "142b29d2-06a3-4b17-8d76-d854d16f9f17",
   "metadata": {},
   "outputs": [],
   "source": [
    "import networkx as nx\n",
    "import json\n",
    "from datetime import datetime\n",
    "import dateutil.parser as parser\n",
    "import pandas as pd\n",
    "import sys\n",
    "import multiprocessing as mp\n",
    "import pickle\n",
    "\n",
    "import os\n",
    "import pyspark\n",
    "import numpy as np\n",
    "from pyspark.sql import SparkSession\n",
    "import pyspark.sql.functions as F\n",
    "import pyspark.sql.types as T\n",
    "from datetime import datetime"
   ]
  },
  {
   "cell_type": "code",
   "execution_count": 7,
   "id": "a7fa564e-19ae-457f-a301-4f6de629426a",
   "metadata": {},
   "outputs": [],
   "source": [
    "spark = SparkSession.builder.master(\"local[20]\").appName(\"tc_explore.com\").getOrCreate()\n",
    "spark.conf.set(\"spark.sql.repl.eagerEval.enabled\", True)"
   ]
  },
  {
   "cell_type": "code",
   "execution_count": 8,
   "id": "e2432f18-f64e-4485-a809-84e1249ee84e",
   "metadata": {},
   "outputs": [
    {
     "name": "stderr",
     "output_type": "stream",
     "text": [
      "                                                                                \r"
     ]
    },
    {
     "name": "stdout",
     "output_type": "stream",
     "text": [
      "23/01/30 14:25:23 WARN package: Truncated the string representation of a plan since it was too large. This behavior can be adjusted by setting 'spark.sql.debug.maxToStringFields'.\n"
     ]
    }
   ],
   "source": [
    "df = spark.read.json(all_trace_files)"
   ]
  },
  {
   "cell_type": "code",
   "execution_count": 42,
   "id": "fa513f1b-c6a4-404c-9605-cba60eb8dea9",
   "metadata": {},
   "outputs": [
    {
     "name": "stdout",
     "output_type": "stream",
     "text": [
      "root\n",
      " |-- CDMVersion: string (nullable = true)\n",
      " |-- datum: struct (nullable = true)\n",
      " |    |-- com.bbn.tc.schema.avro.cdm18.EndMarker: struct (nullable = true)\n",
      " |    |    |-- recordCounts: struct (nullable = true)\n",
      " |    |    |    |-- EVENT_ACCEPT: string (nullable = true)\n",
      " |    |    |    |-- EVENT_CHANGE_PRINCIPAL: string (nullable = true)\n",
      " |    |    |    |-- EVENT_CLONE: string (nullable = true)\n",
      " |    |    |    |-- EVENT_CLOSE: string (nullable = true)\n",
      " |    |    |    |-- EVENT_CONNECT: string (nullable = true)\n",
      " |    |    |    |-- EVENT_CREATE_OBJECT: string (nullable = true)\n",
      " |    |    |    |-- EVENT_EXECUTE: string (nullable = true)\n",
      " |    |    |    |-- EVENT_EXIT: string (nullable = true)\n",
      " |    |    |    |-- EVENT_FORK: string (nullable = true)\n",
      " |    |    |    |-- EVENT_LINK: string (nullable = true)\n",
      " |    |    |    |-- EVENT_LOADLIBRARY: string (nullable = true)\n",
      " |    |    |    |-- EVENT_MMAP: string (nullable = true)\n",
      " |    |    |    |-- EVENT_MODIFY_FILE_ATTRIBUTES: string (nullable = true)\n",
      " |    |    |    |-- EVENT_MPROTECT: string (nullable = true)\n",
      " |    |    |    |-- EVENT_OPEN: string (nullable = true)\n",
      " |    |    |    |-- EVENT_READ: string (nullable = true)\n",
      " |    |    |    |-- EVENT_RECVMSG: string (nullable = true)\n",
      " |    |    |    |-- EVENT_RENAME: string (nullable = true)\n",
      " |    |    |    |-- EVENT_SENDMSG: string (nullable = true)\n",
      " |    |    |    |-- EVENT_TRUNCATE: string (nullable = true)\n",
      " |    |    |    |-- EVENT_UNIT: string (nullable = true)\n",
      " |    |    |    |-- EVENT_UNLINK: string (nullable = true)\n",
      " |    |    |    |-- EVENT_UPDATE: string (nullable = true)\n",
      " |    |    |    |-- EVENT_WRITE: string (nullable = true)\n",
      " |    |    |    |-- EndMarker: string (nullable = true)\n",
      " |    |    |    |-- FILE_OBJECT_BLOCK: string (nullable = true)\n",
      " |    |    |    |-- FILE_OBJECT_CHAR: string (nullable = true)\n",
      " |    |    |    |-- FILE_OBJECT_DIR: string (nullable = true)\n",
      " |    |    |    |-- FILE_OBJECT_FILE: string (nullable = true)\n",
      " |    |    |    |-- FILE_OBJECT_LINK: string (nullable = true)\n",
      " |    |    |    |-- FILE_OBJECT_UNIX_SOCKET: string (nullable = true)\n",
      " |    |    |    |-- Host: string (nullable = true)\n",
      " |    |    |    |-- MemoryObject: string (nullable = true)\n",
      " |    |    |    |-- NetFlowObject: string (nullable = true)\n",
      " |    |    |    |-- Principal: string (nullable = true)\n",
      " |    |    |    |-- SUBJECT_PROCESS: string (nullable = true)\n",
      " |    |    |    |-- SUBJECT_UNIT: string (nullable = true)\n",
      " |    |    |    |-- SrcSinkObject: string (nullable = true)\n",
      " |    |    |    |-- StartMarker: string (nullable = true)\n",
      " |    |    |    |-- TimeMarker: string (nullable = true)\n",
      " |    |    |    |-- UnitDependency: string (nullable = true)\n",
      " |    |    |    |-- UnnamedPipeObject: string (nullable = true)\n",
      " |    |    |    |-- splice: string (nullable = true)\n",
      " |    |    |-- sessionNumber: long (nullable = true)\n",
      " |    |-- com.bbn.tc.schema.avro.cdm18.Event: struct (nullable = true)\n",
      " |    |    |-- hostId: string (nullable = true)\n",
      " |    |    |-- location: struct (nullable = true)\n",
      " |    |    |    |-- long: long (nullable = true)\n",
      " |    |    |-- name: string (nullable = true)\n",
      " |    |    |-- parameters: string (nullable = true)\n",
      " |    |    |-- predicateObject: struct (nullable = true)\n",
      " |    |    |    |-- com.bbn.tc.schema.avro.cdm18.UUID: string (nullable = true)\n",
      " |    |    |-- predicateObject2: struct (nullable = true)\n",
      " |    |    |    |-- com.bbn.tc.schema.avro.cdm18.UUID: string (nullable = true)\n",
      " |    |    |-- predicateObject2Path: struct (nullable = true)\n",
      " |    |    |    |-- string: string (nullable = true)\n",
      " |    |    |-- predicateObjectPath: struct (nullable = true)\n",
      " |    |    |    |-- string: string (nullable = true)\n",
      " |    |    |-- programPoint: string (nullable = true)\n",
      " |    |    |-- properties: struct (nullable = true)\n",
      " |    |    |    |-- map: struct (nullable = true)\n",
      " |    |    |    |    |-- flags: string (nullable = true)\n",
      " |    |    |    |    |-- mode: string (nullable = true)\n",
      " |    |    |    |    |-- operation: string (nullable = true)\n",
      " |    |    |    |    |-- opm: string (nullable = true)\n",
      " |    |    |    |    |-- protection: string (nullable = true)\n",
      " |    |    |-- sequence: struct (nullable = true)\n",
      " |    |    |    |-- long: long (nullable = true)\n",
      " |    |    |-- size: struct (nullable = true)\n",
      " |    |    |    |-- long: long (nullable = true)\n",
      " |    |    |-- subject: struct (nullable = true)\n",
      " |    |    |    |-- com.bbn.tc.schema.avro.cdm18.UUID: string (nullable = true)\n",
      " |    |    |-- threadId: struct (nullable = true)\n",
      " |    |    |    |-- int: long (nullable = true)\n",
      " |    |    |-- timestampNanos: long (nullable = true)\n",
      " |    |    |-- type: string (nullable = true)\n",
      " |    |    |-- uuid: string (nullable = true)\n",
      " |    |-- com.bbn.tc.schema.avro.cdm18.FileObject: struct (nullable = true)\n",
      " |    |    |-- baseObject: struct (nullable = true)\n",
      " |    |    |    |-- epoch: struct (nullable = true)\n",
      " |    |    |    |    |-- int: long (nullable = true)\n",
      " |    |    |    |-- hostId: string (nullable = true)\n",
      " |    |    |    |-- permission: struct (nullable = true)\n",
      " |    |    |    |    |-- com.bbn.tc.schema.avro.cdm18.SHORT: string (nullable = true)\n",
      " |    |    |    |-- properties: struct (nullable = true)\n",
      " |    |    |    |    |-- map: struct (nullable = true)\n",
      " |    |    |    |    |    |-- path: string (nullable = true)\n",
      " |    |    |-- fileDescriptor: string (nullable = true)\n",
      " |    |    |-- hashes: string (nullable = true)\n",
      " |    |    |-- localPrincipal: string (nullable = true)\n",
      " |    |    |-- peInfo: string (nullable = true)\n",
      " |    |    |-- size: string (nullable = true)\n",
      " |    |    |-- type: string (nullable = true)\n",
      " |    |    |-- uuid: string (nullable = true)\n",
      " |    |-- com.bbn.tc.schema.avro.cdm18.Host: struct (nullable = true)\n",
      " |    |    |-- hostIdentifiers: array (nullable = true)\n",
      " |    |    |    |-- element: struct (containsNull = true)\n",
      " |    |    |    |    |-- idType: string (nullable = true)\n",
      " |    |    |    |    |-- idValue: string (nullable = true)\n",
      " |    |    |-- hostName: string (nullable = true)\n",
      " |    |    |-- hostType: string (nullable = true)\n",
      " |    |    |-- interfaces: array (nullable = true)\n",
      " |    |    |    |-- element: struct (containsNull = true)\n",
      " |    |    |    |    |-- ipAddresses: array (nullable = true)\n",
      " |    |    |    |    |    |-- element: string (containsNull = true)\n",
      " |    |    |    |    |-- macAddress: string (nullable = true)\n",
      " |    |    |    |    |-- name: string (nullable = true)\n",
      " |    |    |-- osDetails: string (nullable = true)\n",
      " |    |    |-- uuid: string (nullable = true)\n",
      " |    |-- com.bbn.tc.schema.avro.cdm18.MemoryObject: struct (nullable = true)\n",
      " |    |    |-- baseObject: struct (nullable = true)\n",
      " |    |    |    |-- epoch: string (nullable = true)\n",
      " |    |    |    |-- hostId: string (nullable = true)\n",
      " |    |    |    |-- permission: string (nullable = true)\n",
      " |    |    |    |-- properties: struct (nullable = true)\n",
      " |    |    |    |    |-- map: struct (nullable = true)\n",
      " |    |    |    |    |    |-- tgid: string (nullable = true)\n",
      " |    |    |-- memoryAddress: long (nullable = true)\n",
      " |    |    |-- pageNumber: string (nullable = true)\n",
      " |    |    |-- pageOffset: string (nullable = true)\n",
      " |    |    |-- size: struct (nullable = true)\n",
      " |    |    |    |-- long: long (nullable = true)\n",
      " |    |    |-- uuid: string (nullable = true)\n",
      " |    |-- com.bbn.tc.schema.avro.cdm18.NetFlowObject: struct (nullable = true)\n",
      " |    |    |-- baseObject: struct (nullable = true)\n",
      " |    |    |    |-- epoch: struct (nullable = true)\n",
      " |    |    |    |    |-- int: long (nullable = true)\n",
      " |    |    |    |-- hostId: string (nullable = true)\n",
      " |    |    |    |-- permission: string (nullable = true)\n",
      " |    |    |-- fileDescriptor: string (nullable = true)\n",
      " |    |    |-- ipProtocol: struct (nullable = true)\n",
      " |    |    |    |-- int: long (nullable = true)\n",
      " |    |    |-- localAddress: string (nullable = true)\n",
      " |    |    |-- localPort: long (nullable = true)\n",
      " |    |    |-- remoteAddress: string (nullable = true)\n",
      " |    |    |-- remotePort: long (nullable = true)\n",
      " |    |    |-- uuid: string (nullable = true)\n",
      " |    |-- com.bbn.tc.schema.avro.cdm18.Principal: struct (nullable = true)\n",
      " |    |    |-- groupIds: array (nullable = true)\n",
      " |    |    |    |-- element: string (containsNull = true)\n",
      " |    |    |-- hostId: string (nullable = true)\n",
      " |    |    |-- properties: struct (nullable = true)\n",
      " |    |    |    |-- map: struct (nullable = true)\n",
      " |    |    |    |    |-- euid: string (nullable = true)\n",
      " |    |    |-- type: string (nullable = true)\n",
      " |    |    |-- userId: string (nullable = true)\n",
      " |    |    |-- username: string (nullable = true)\n",
      " |    |    |-- uuid: string (nullable = true)\n",
      " |    |-- com.bbn.tc.schema.avro.cdm18.SrcSinkObject: struct (nullable = true)\n",
      " |    |    |-- baseObject: struct (nullable = true)\n",
      " |    |    |    |-- epoch: struct (nullable = true)\n",
      " |    |    |    |    |-- int: long (nullable = true)\n",
      " |    |    |    |-- hostId: string (nullable = true)\n",
      " |    |    |    |-- permission: string (nullable = true)\n",
      " |    |    |    |-- properties: struct (nullable = true)\n",
      " |    |    |    |    |-- map: struct (nullable = true)\n",
      " |    |    |    |    |    |-- pid: string (nullable = true)\n",
      " |    |    |-- fileDescriptor: struct (nullable = true)\n",
      " |    |    |    |-- int: long (nullable = true)\n",
      " |    |    |-- type: string (nullable = true)\n",
      " |    |    |-- uuid: string (nullable = true)\n",
      " |    |-- com.bbn.tc.schema.avro.cdm18.StartMarker: struct (nullable = true)\n",
      " |    |    |-- sessionNumber: long (nullable = true)\n",
      " |    |-- com.bbn.tc.schema.avro.cdm18.Subject: struct (nullable = true)\n",
      " |    |    |-- cid: long (nullable = true)\n",
      " |    |    |-- cmdLine: struct (nullable = true)\n",
      " |    |    |    |-- string: string (nullable = true)\n",
      " |    |    |-- count: struct (nullable = true)\n",
      " |    |    |    |-- int: long (nullable = true)\n",
      " |    |    |-- exportedLibraries: string (nullable = true)\n",
      " |    |    |-- hostId: string (nullable = true)\n",
      " |    |    |-- importedLibraries: string (nullable = true)\n",
      " |    |    |-- iteration: struct (nullable = true)\n",
      " |    |    |    |-- int: long (nullable = true)\n",
      " |    |    |-- localPrincipal: string (nullable = true)\n",
      " |    |    |-- parentSubject: struct (nullable = true)\n",
      " |    |    |    |-- com.bbn.tc.schema.avro.cdm18.UUID: string (nullable = true)\n",
      " |    |    |-- privilegeLevel: string (nullable = true)\n",
      " |    |    |-- properties: struct (nullable = true)\n",
      " |    |    |    |-- map: struct (nullable = true)\n",
      " |    |    |    |    |-- cwd: string (nullable = true)\n",
      " |    |    |    |    |-- name: string (nullable = true)\n",
      " |    |    |    |    |-- ppid: string (nullable = true)\n",
      " |    |    |    |    |-- seen time: string (nullable = true)\n",
      " |    |    |-- startTimestampNanos: long (nullable = true)\n",
      " |    |    |-- type: string (nullable = true)\n",
      " |    |    |-- unitId: struct (nullable = true)\n",
      " |    |    |    |-- int: long (nullable = true)\n",
      " |    |    |-- uuid: string (nullable = true)\n",
      " |    |-- com.bbn.tc.schema.avro.cdm18.TimeMarker: struct (nullable = true)\n",
      " |    |    |-- tsNanos: long (nullable = true)\n",
      " |    |-- com.bbn.tc.schema.avro.cdm18.UnitDependency: struct (nullable = true)\n",
      " |    |    |-- dependentUnit: string (nullable = true)\n",
      " |    |    |-- unit: string (nullable = true)\n",
      " |    |-- com.bbn.tc.schema.avro.cdm18.UnnamedPipeObject: struct (nullable = true)\n",
      " |    |    |-- baseObject: struct (nullable = true)\n",
      " |    |    |    |-- epoch: struct (nullable = true)\n",
      " |    |    |    |    |-- int: long (nullable = true)\n",
      " |    |    |    |-- hostId: string (nullable = true)\n",
      " |    |    |    |-- permission: string (nullable = true)\n",
      " |    |    |    |-- properties: struct (nullable = true)\n",
      " |    |    |    |    |-- map: struct (nullable = true)\n",
      " |    |    |    |    |    |-- pid: string (nullable = true)\n",
      " |    |    |-- sinkFileDescriptor: struct (nullable = true)\n",
      " |    |    |    |-- int: long (nullable = true)\n",
      " |    |    |-- sinkUUID: string (nullable = true)\n",
      " |    |    |-- sourceFileDescriptor: struct (nullable = true)\n",
      " |    |    |    |-- int: long (nullable = true)\n",
      " |    |    |-- sourceUUID: string (nullable = true)\n",
      " |    |    |-- uuid: string (nullable = true)\n",
      " |-- source: string (nullable = true)\n",
      "\n"
     ]
    }
   ],
   "source": [
    "df.printSchema()"
   ]
  },
  {
   "cell_type": "code",
   "execution_count": 41,
   "id": "5732ab8c-066c-40b2-8541-4a81e8f77313",
   "metadata": {},
   "outputs": [
    {
     "name": "stderr",
     "output_type": "stream",
     "text": [
      "                                                                                \r"
     ]
    },
    {
     "data": {
      "text/plain": [
       "39318719"
      ]
     },
     "execution_count": 41,
     "metadata": {},
     "output_type": "execute_result"
    }
   ],
   "source": [
    "times = df.select(\"datum.*\").select(\"`com.bbn.tc.schema.avro.cdm18.Subject`\").withColumnRenamed(\"com.bbn.tc.schema.avro.cdm18.Subject\", \"subject\").select(\"subject.*\")\n",
    "times = times.filter('startTimestampNanos IS NOT NULL')\n",
    "times.count() # = 39318719"
   ]
  },
  {
   "cell_type": "code",
   "execution_count": 44,
   "id": "3e4546e8-f32f-40ae-9f39-5350a6f1b954",
   "metadata": {},
   "outputs": [
    {
     "name": "stderr",
     "output_type": "stream",
     "text": [
      "                                                                                \r"
     ]
    },
    {
     "data": {
      "text/plain": [
       "Row(max(startTimestampNanos)=1523653792143000000)"
      ]
     },
     "execution_count": 44,
     "metadata": {},
     "output_type": "execute_result"
    }
   ],
   "source": [
    "times.agg({'startTimestampNanos': 'max'}).collect()[0]"
   ]
  },
  {
   "cell_type": "code",
   "execution_count": 45,
   "id": "90fbb23a-97e9-4147-bdd4-7c869c7317cf",
   "metadata": {},
   "outputs": [
    {
     "name": "stderr",
     "output_type": "stream",
     "text": [
      "                                                                                \r"
     ]
    },
    {
     "data": {
      "text/plain": [
       "Row(min(startTimestampNanos)=0)"
      ]
     },
     "execution_count": 45,
     "metadata": {},
     "output_type": "execute_result"
    }
   ],
   "source": [
    "times.agg({'startTimestampNanos': 'min'}).collect()[0]"
   ]
  },
  {
   "cell_type": "code",
   "execution_count": 46,
   "id": "dbbb52ba-33bb-42eb-b112-3127588fd910",
   "metadata": {},
   "outputs": [
    {
     "name": "stderr",
     "output_type": "stream",
     "text": [
      "                                                                                \r"
     ]
    },
    {
     "data": {
      "text/plain": [
       "Row(min(startTimestampNanos)=1522703821498000000)"
      ]
     },
     "execution_count": 46,
     "metadata": {},
     "output_type": "execute_result"
    }
   ],
   "source": [
    "new_times = times.filter('startTimestampNanos > 0')\n",
    "new_times.agg({'startTimestampNanos': 'min'}).collect()[0]"
   ]
  },
  {
   "cell_type": "code",
   "execution_count": 47,
   "id": "caf1894a-3b19-455f-9bec-030076aa0a3a",
   "metadata": {},
   "outputs": [
    {
     "data": {
      "text/plain": [
       "'\\n4/10 @ 10:00 - Firefox backdoor with drakon APT in memory\\n4-12 @ 14:00 - Nginx backdoor with drakon APT in memory\\n4-13 @ 12:00 - Browser extension with drakon APT on disk\\n'"
      ]
     },
     "execution_count": 47,
     "metadata": {},
     "output_type": "execute_result"
    }
   ],
   "source": [
    "'''\n",
    "4/10 @ 10:00 - Firefox backdoor with drakon APT in memory\n",
    "4-12 @ 14:00 - Nginx backdoor with drakon APT in memory\n",
    "4-13 @ 12:00 - Browser extension with drakon APT on disk\n",
    "'''"
   ]
  },
  {
   "cell_type": "code",
   "execution_count": 56,
   "id": "a354b64c-61e1-4bdb-8005-99ed5cf27e86",
   "metadata": {},
   "outputs": [
    {
     "name": "stderr",
     "output_type": "stream",
     "text": [
      "Exception in thread \"serve-GetRows\" java.net.SocketTimeoutException: Accept timed out\n",
      "\tat java.net.PlainSocketImpl.socketAccept(Native Method)\n",
      "\tat java.net.AbstractPlainSocketImpl.accept(AbstractPlainSocketImpl.java:409)\n",
      "\tat java.net.ServerSocket.implAccept(ServerSocket.java:560)\n",
      "\tat java.net.ServerSocket.accept(ServerSocket.java:528)\n",
      "\tat org.apache.spark.security.SocketAuthServer$$anon$1.run(SocketAuthServer.scala:64)\n",
      "                                                                                \r"
     ]
    },
    {
     "data": {
      "text/html": [
       "<table border='1'>\n",
       "<tr><th>cid</th><th>cmdLine</th><th>count</th><th>exportedLibraries</th><th>hostId</th><th>importedLibraries</th><th>iteration</th><th>localPrincipal</th><th>parentSubject</th><th>privilegeLevel</th><th>properties</th><th>startTimestampNanos</th><th>type</th><th>unitId</th><th>uuid</th></tr>\n",
       "<tr><td>24502</td><td>{/usr/local/firef...</td><td>null</td><td>null</td><td>3120B2A9-057E-E4E...</td><td>null</td><td>null</td><td>29895546-B124-1BE...</td><td>null</td><td>null</td><td>{{/home/admin, We...</td><td>1523370613699000000</td><td>SUBJECT_PROCESS</td><td>{0}</td><td>D4EFE0BC-99A8-CEE...</td></tr>\n",
       "<tr><td>24767</td><td>{/usr/local/firef...</td><td>null</td><td>null</td><td>3120B2A9-057E-E4E...</td><td>null</td><td>null</td><td>29895546-B124-1BE...</td><td>null</td><td>null</td><td>{{/home/admin, We...</td><td>1523370698960000000</td><td>SUBJECT_PROCESS</td><td>{0}</td><td>45DD25D8-AD01-E41...</td></tr>\n",
       "<tr><td>24797</td><td>{firefox}</td><td>null</td><td>null</td><td>3120B2A9-057E-E4E...</td><td>null</td><td>null</td><td>42C80B68-B550-026...</td><td>null</td><td>null</td><td>{{/home/admin, fi...</td><td>1523327092006000000</td><td>SUBJECT_PROCESS</td><td>{0}</td><td>44BE575D-28E4-E92...</td></tr>\n",
       "<tr><td>25301</td><td>{/usr/local/firef...</td><td>null</td><td>null</td><td>3120B2A9-057E-E4E...</td><td>null</td><td>null</td><td>42C80B68-B550-026...</td><td>null</td><td>null</td><td>{{/home/admin, We...</td><td>1523371035432000000</td><td>SUBJECT_PROCESS</td><td>{0}</td><td>268B02E3-B19A-FD0...</td></tr>\n",
       "<tr><td>25302</td><td>{/usr/local/firef...</td><td>null</td><td>null</td><td>3120B2A9-057E-E4E...</td><td>null</td><td>null</td><td>42C80B68-B550-026...</td><td>null</td><td>null</td><td>{{/home/admin, We...</td><td>1523371035432000000</td><td>SUBJECT_PROCESS</td><td>{0}</td><td>CEA0C5FB-769F-FCA...</td></tr>\n",
       "<tr><td>25309</td><td>{/usr/local/firef...</td><td>null</td><td>null</td><td>3120B2A9-057E-E4E...</td><td>null</td><td>null</td><td>42C80B68-B550-026...</td><td>null</td><td>null</td><td>{{/home/admin, We...</td><td>1523371035476000000</td><td>SUBJECT_PROCESS</td><td>{0}</td><td>85444F52-A982-564...</td></tr>\n",
       "<tr><td>25428</td><td>{/usr/local/firef...</td><td>null</td><td>null</td><td>3120B2A9-057E-E4E...</td><td>null</td><td>null</td><td>29895546-B124-1BE...</td><td>null</td><td>null</td><td>{{/home/admin, We...</td><td>1523371064080000000</td><td>SUBJECT_PROCESS</td><td>{0}</td><td>A3CF0A17-2723-9C1...</td></tr>\n",
       "<tr><td>25640</td><td>{/usr/local/firef...</td><td>null</td><td>null</td><td>3120B2A9-057E-E4E...</td><td>null</td><td>null</td><td>42C80B68-B550-026...</td><td>null</td><td>null</td><td>{{/home/admin, We...</td><td>1523371190861000000</td><td>SUBJECT_PROCESS</td><td>{0}</td><td>F20FEC3C-8DC9-CF8...</td></tr>\n",
       "<tr><td>32502</td><td>{fuzzyflakes -root}</td><td>null</td><td>null</td><td>3120B2A9-057E-E4E...</td><td>null</td><td>null</td><td>29895546-B124-1BE...</td><td>{94CF1DAE-4884-CA...</td><td>null</td><td>{{/home/admin, fu...</td><td>1523341453295000000</td><td>SUBJECT_PROCESS</td><td>{0}</td><td>0D305384-A5FC-E80...</td></tr>\n",
       "<tr><td>14478</td><td>{/usr/local/firef...</td><td>null</td><td>null</td><td>3120B2A9-057E-E4E...</td><td>null</td><td>null</td><td>42C80B68-B550-026...</td><td>null</td><td>null</td><td>{{/home/admin, We...</td><td>1523362771639000000</td><td>SUBJECT_PROCESS</td><td>{0}</td><td>470F9BDD-A889-BB4...</td></tr>\n",
       "<tr><td>14478</td><td>{/usr/local/firef...</td><td>{0}</td><td>null</td><td>3120B2A9-057E-E4E...</td><td>null</td><td>{48}</td><td>42C80B68-B550-026...</td><td>null</td><td>null</td><td>{{/home/admin, We...</td><td>1523362794679000000</td><td>SUBJECT_UNIT</td><td>{3}</td><td>5B0144A8-2B4B-0D4...</td></tr>\n",
       "<tr><td>18625</td><td>null</td><td>null</td><td>null</td><td>3120B2A9-057E-E4E...</td><td>null</td><td>null</td><td>55D21AD8-CB1D-370...</td><td>null</td><td>null</td><td>{{null, xfdesktop...</td><td>1523318739545000000</td><td>SUBJECT_PROCESS</td><td>{0}</td><td>65BD9906-963A-CB2...</td></tr>\n",
       "<tr><td>18625</td><td>{/usr/lib/x86_64-...</td><td>null</td><td>null</td><td>3120B2A9-057E-E4E...</td><td>null</td><td>null</td><td>55D21AD8-CB1D-370...</td><td>{188D5EB6-72CF-83...</td><td>null</td><td>{{/home/admin, ex...</td><td>1523318739549000000</td><td>SUBJECT_PROCESS</td><td>{0}</td><td>B23826A7-A43A-7EC...</td></tr>\n",
       "<tr><td>18626</td><td>{/usr/lib/x86_64-...</td><td>null</td><td>null</td><td>3120B2A9-057E-E4E...</td><td>null</td><td>null</td><td>55D21AD8-CB1D-370...</td><td>{B23826A7-A43A-7E...</td><td>null</td><td>{{/home/admin, ex...</td><td>1523318739585000000</td><td>SUBJECT_PROCESS</td><td>{0}</td><td>44458C4E-6AAD-318...</td></tr>\n",
       "<tr><td>18626</td><td>{/usr/bin/Thunar ...</td><td>null</td><td>null</td><td>3120B2A9-057E-E4E...</td><td>null</td><td>null</td><td>55D21AD8-CB1D-370...</td><td>{B23826A7-A43A-7E...</td><td>null</td><td>{{/home/admin, Th...</td><td>1523318739585000000</td><td>SUBJECT_PROCESS</td><td>{0}</td><td>1B303CB8-CD1B-279...</td></tr>\n",
       "<tr><td>18665</td><td>null</td><td>null</td><td>null</td><td>3120B2A9-057E-E4E...</td><td>null</td><td>null</td><td>55D21AD8-CB1D-370...</td><td>null</td><td>null</td><td>{{null, xfsetting...</td><td>1523318813458000000</td><td>SUBJECT_PROCESS</td><td>{0}</td><td>EA7414A4-6B50-7CE...</td></tr>\n",
       "<tr><td>18665</td><td>{xfce4-appfinder}</td><td>null</td><td>null</td><td>3120B2A9-057E-E4E...</td><td>null</td><td>null</td><td>55D21AD8-CB1D-370...</td><td>{188D5EB6-72CF-83...</td><td>null</td><td>{{/home/admin, xf...</td><td>1523318813458000000</td><td>SUBJECT_PROCESS</td><td>{0}</td><td>16D4E506-A6C7-937...</td></tr>\n",
       "<tr><td>18671</td><td>null</td><td>null</td><td>null</td><td>3120B2A9-057E-E4E...</td><td>null</td><td>null</td><td>55D21AD8-CB1D-370...</td><td>{E0FF1722-6147-FB...</td><td>null</td><td>{{null, xfce4-app...</td><td>1523318824562000000</td><td>SUBJECT_PROCESS</td><td>{0}</td><td>60EDA674-7838-E17...</td></tr>\n",
       "<tr><td>18671</td><td>{firefox}</td><td>null</td><td>null</td><td>3120B2A9-057E-E4E...</td><td>null</td><td>null</td><td>55D21AD8-CB1D-370...</td><td>{E0FF1722-6147-FB...</td><td>null</td><td>{{/home/admin, fi...</td><td>1523318824566000000</td><td>SUBJECT_PROCESS</td><td>{0}</td><td>4169542A-CF7B-37F...</td></tr>\n",
       "<tr><td>18672</td><td>{firefox}</td><td>null</td><td>null</td><td>3120B2A9-057E-E4E...</td><td>null</td><td>null</td><td>55D21AD8-CB1D-370...</td><td>{4169542A-CF7B-37...</td><td>null</td><td>{{/home/admin, fi...</td><td>1523318824566000000</td><td>SUBJECT_PROCESS</td><td>{0}</td><td>6580A6F1-11C6-C42...</td></tr>\n",
       "</table>\n",
       "only showing top 20 rows\n"
      ],
      "text/plain": [
       "+-----+--------------------+-----+-----------------+--------------------+-----------------+---------+--------------------+--------------------+--------------+--------------------+-------------------+---------------+------+--------------------+\n",
       "|  cid|             cmdLine|count|exportedLibraries|              hostId|importedLibraries|iteration|      localPrincipal|       parentSubject|privilegeLevel|          properties|startTimestampNanos|           type|unitId|                uuid|\n",
       "+-----+--------------------+-----+-----------------+--------------------+-----------------+---------+--------------------+--------------------+--------------+--------------------+-------------------+---------------+------+--------------------+\n",
       "|24502|{/usr/local/firef...| null|             null|3120B2A9-057E-E4E...|             null|     null|29895546-B124-1BE...|                null|          null|{{/home/admin, We...|1523370613699000000|SUBJECT_PROCESS|   {0}|D4EFE0BC-99A8-CEE...|\n",
       "|24767|{/usr/local/firef...| null|             null|3120B2A9-057E-E4E...|             null|     null|29895546-B124-1BE...|                null|          null|{{/home/admin, We...|1523370698960000000|SUBJECT_PROCESS|   {0}|45DD25D8-AD01-E41...|\n",
       "|24797|           {firefox}| null|             null|3120B2A9-057E-E4E...|             null|     null|42C80B68-B550-026...|                null|          null|{{/home/admin, fi...|1523327092006000000|SUBJECT_PROCESS|   {0}|44BE575D-28E4-E92...|\n",
       "|25301|{/usr/local/firef...| null|             null|3120B2A9-057E-E4E...|             null|     null|42C80B68-B550-026...|                null|          null|{{/home/admin, We...|1523371035432000000|SUBJECT_PROCESS|   {0}|268B02E3-B19A-FD0...|\n",
       "|25302|{/usr/local/firef...| null|             null|3120B2A9-057E-E4E...|             null|     null|42C80B68-B550-026...|                null|          null|{{/home/admin, We...|1523371035432000000|SUBJECT_PROCESS|   {0}|CEA0C5FB-769F-FCA...|\n",
       "|25309|{/usr/local/firef...| null|             null|3120B2A9-057E-E4E...|             null|     null|42C80B68-B550-026...|                null|          null|{{/home/admin, We...|1523371035476000000|SUBJECT_PROCESS|   {0}|85444F52-A982-564...|\n",
       "|25428|{/usr/local/firef...| null|             null|3120B2A9-057E-E4E...|             null|     null|29895546-B124-1BE...|                null|          null|{{/home/admin, We...|1523371064080000000|SUBJECT_PROCESS|   {0}|A3CF0A17-2723-9C1...|\n",
       "|25640|{/usr/local/firef...| null|             null|3120B2A9-057E-E4E...|             null|     null|42C80B68-B550-026...|                null|          null|{{/home/admin, We...|1523371190861000000|SUBJECT_PROCESS|   {0}|F20FEC3C-8DC9-CF8...|\n",
       "|32502| {fuzzyflakes -root}| null|             null|3120B2A9-057E-E4E...|             null|     null|29895546-B124-1BE...|{94CF1DAE-4884-CA...|          null|{{/home/admin, fu...|1523341453295000000|SUBJECT_PROCESS|   {0}|0D305384-A5FC-E80...|\n",
       "|14478|{/usr/local/firef...| null|             null|3120B2A9-057E-E4E...|             null|     null|42C80B68-B550-026...|                null|          null|{{/home/admin, We...|1523362771639000000|SUBJECT_PROCESS|   {0}|470F9BDD-A889-BB4...|\n",
       "|14478|{/usr/local/firef...|  {0}|             null|3120B2A9-057E-E4E...|             null|     {48}|42C80B68-B550-026...|                null|          null|{{/home/admin, We...|1523362794679000000|   SUBJECT_UNIT|   {3}|5B0144A8-2B4B-0D4...|\n",
       "|18625|                null| null|             null|3120B2A9-057E-E4E...|             null|     null|55D21AD8-CB1D-370...|                null|          null|{{null, xfdesktop...|1523318739545000000|SUBJECT_PROCESS|   {0}|65BD9906-963A-CB2...|\n",
       "|18625|{/usr/lib/x86_64-...| null|             null|3120B2A9-057E-E4E...|             null|     null|55D21AD8-CB1D-370...|{188D5EB6-72CF-83...|          null|{{/home/admin, ex...|1523318739549000000|SUBJECT_PROCESS|   {0}|B23826A7-A43A-7EC...|\n",
       "|18626|{/usr/lib/x86_64-...| null|             null|3120B2A9-057E-E4E...|             null|     null|55D21AD8-CB1D-370...|{B23826A7-A43A-7E...|          null|{{/home/admin, ex...|1523318739585000000|SUBJECT_PROCESS|   {0}|44458C4E-6AAD-318...|\n",
       "|18626|{/usr/bin/Thunar ...| null|             null|3120B2A9-057E-E4E...|             null|     null|55D21AD8-CB1D-370...|{B23826A7-A43A-7E...|          null|{{/home/admin, Th...|1523318739585000000|SUBJECT_PROCESS|   {0}|1B303CB8-CD1B-279...|\n",
       "|18665|                null| null|             null|3120B2A9-057E-E4E...|             null|     null|55D21AD8-CB1D-370...|                null|          null|{{null, xfsetting...|1523318813458000000|SUBJECT_PROCESS|   {0}|EA7414A4-6B50-7CE...|\n",
       "|18665|   {xfce4-appfinder}| null|             null|3120B2A9-057E-E4E...|             null|     null|55D21AD8-CB1D-370...|{188D5EB6-72CF-83...|          null|{{/home/admin, xf...|1523318813458000000|SUBJECT_PROCESS|   {0}|16D4E506-A6C7-937...|\n",
       "|18671|                null| null|             null|3120B2A9-057E-E4E...|             null|     null|55D21AD8-CB1D-370...|{E0FF1722-6147-FB...|          null|{{null, xfce4-app...|1523318824562000000|SUBJECT_PROCESS|   {0}|60EDA674-7838-E17...|\n",
       "|18671|           {firefox}| null|             null|3120B2A9-057E-E4E...|             null|     null|55D21AD8-CB1D-370...|{E0FF1722-6147-FB...|          null|{{/home/admin, fi...|1523318824566000000|SUBJECT_PROCESS|   {0}|4169542A-CF7B-37F...|\n",
       "|18672|           {firefox}| null|             null|3120B2A9-057E-E4E...|             null|     null|55D21AD8-CB1D-370...|{4169542A-CF7B-37...|          null|{{/home/admin, fi...|1523318824566000000|SUBJECT_PROCESS|   {0}|6580A6F1-11C6-C42...|\n",
       "+-----+--------------------+-----+-----------------+--------------------+-----------------+---------+--------------------+--------------------+--------------+--------------------+-------------------+---------------+------+--------------------+\n",
       "only showing top 20 rows"
      ]
     },
     "execution_count": 56,
     "metadata": {},
     "output_type": "execute_result"
    }
   ],
   "source": [
    "# select all times on the 10th - lets examine what there is here\n",
    "# min time on the 10th (GMT): 1523318400\n",
    "# max time on the 10th (GMT): 1523404800\n",
    "start_time = 1523318400 * 1000000000\n",
    "end_time = 1523404800 * 1000000000\n",
    "subjects_10th = new_times.filter(\"startTimestampNanos > {} AND startTimestampNanos < {}\".format(start_time, end_time))\n",
    "subjects_10th"
   ]
  },
  {
   "cell_type": "code",
   "execution_count": 59,
   "id": "46b4f1c1-6006-4384-8abc-f5d18e9cc13e",
   "metadata": {},
   "outputs": [
    {
     "name": "stderr",
     "output_type": "stream",
     "text": [
      "                                                                                \r"
     ]
    },
    {
     "data": {
      "text/plain": [
       "1314936"
      ]
     },
     "execution_count": 59,
     "metadata": {},
     "output_type": "execute_result"
    }
   ],
   "source": [
    "subjects_10th.count()"
   ]
  },
  {
   "cell_type": "code",
   "execution_count": 58,
   "id": "380a2d3e-7bdb-43da-a7db-c7da5a39f64e",
   "metadata": {},
   "outputs": [
    {
     "data": {
      "text/html": [
       "<table border='1'>\n",
       "<tr><th>hostId</th><th>location</th><th>name</th><th>parameters</th><th>predicateObject</th><th>predicateObject2</th><th>predicateObject2Path</th><th>predicateObjectPath</th><th>programPoint</th><th>properties</th><th>sequence</th><th>size</th><th>subject</th><th>threadId</th><th>timestampNanos</th><th>type</th><th>uuid</th></tr>\n",
       "<tr><td>3120B2A9-057E-E4E...</td><td>null</td><td>null</td><td>null</td><td>{17B28CB0-EAC8-10...</td><td>null</td><td>null</td><td>null</td><td>null</td><td>{{null, null, nul...</td><td>{1908210262}</td><td>{102}</td><td>{6881BEAE-AEDC-B8...</td><td>{21790}</td><td>1523462095074000000</td><td>EVENT_SENDMSG</td><td>B7CF3A75-822B-CA7...</td></tr>\n",
       "<tr><td>null</td><td>null</td><td>null</td><td>null</td><td>null</td><td>null</td><td>null</td><td>null</td><td>null</td><td>null</td><td>null</td><td>null</td><td>null</td><td>null</td><td>null</td><td>null</td><td>null</td></tr>\n",
       "<tr><td>3120B2A9-057E-E4E...</td><td>null</td><td>null</td><td>null</td><td>{0E06BFEC-893C-1E...</td><td>null</td><td>null</td><td>null</td><td>null</td><td>{{null, null, nul...</td><td>{1908210263}</td><td>{102}</td><td>{5BA646C2-52E0-FD...</td><td>{21792}</td><td>1523462095074000000</td><td>EVENT_RECVMSG</td><td>7FEDB19D-70FE-A73...</td></tr>\n",
       "<tr><td>null</td><td>null</td><td>null</td><td>null</td><td>null</td><td>null</td><td>null</td><td>null</td><td>null</td><td>null</td><td>null</td><td>null</td><td>null</td><td>null</td><td>null</td><td>null</td><td>null</td></tr>\n",
       "<tr><td>3120B2A9-057E-E4E...</td><td>null</td><td>null</td><td>null</td><td>{5DD8F7FB-96F3-E6...</td><td>null</td><td>null</td><td>null</td><td>null</td><td>{{null, null, nul...</td><td>{1908210266}</td><td>{78}</td><td>{5BA646C2-52E0-FD...</td><td>{21792}</td><td>1523462095074000000</td><td>EVENT_SENDMSG</td><td>44F8544B-E70A-F80...</td></tr>\n",
       "<tr><td>null</td><td>null</td><td>null</td><td>null</td><td>null</td><td>null</td><td>null</td><td>null</td><td>null</td><td>null</td><td>null</td><td>null</td><td>null</td><td>null</td><td>null</td><td>null</td><td>null</td></tr>\n",
       "<tr><td>3120B2A9-057E-E4E...</td><td>null</td><td>null</td><td>null</td><td>{626CAE17-2D70-EF...</td><td>null</td><td>null</td><td>null</td><td>null</td><td>{{null, null, nul...</td><td>{1908210269}</td><td>{78}</td><td>{6881BEAE-AEDC-B8...</td><td>{21790}</td><td>1523462095074000000</td><td>EVENT_RECVMSG</td><td>534302DD-285B-93C...</td></tr>\n",
       "<tr><td>null</td><td>null</td><td>null</td><td>null</td><td>null</td><td>null</td><td>null</td><td>null</td><td>null</td><td>null</td><td>null</td><td>null</td><td>null</td><td>null</td><td>null</td><td>null</td><td>null</td></tr>\n",
       "<tr><td>3120B2A9-057E-E4E...</td><td>null</td><td>null</td><td>null</td><td>{C230CDA8-DACD-5B...</td><td>null</td><td>null</td><td>null</td><td>null</td><td>{{null, null, nul...</td><td>{1908210279}</td><td>{91}</td><td>{6881BEAE-AEDC-B8...</td><td>{21790}</td><td>1523462095074000000</td><td>EVENT_SENDMSG</td><td>D5305B97-7EA6-B18...</td></tr>\n",
       "<tr><td>null</td><td>null</td><td>null</td><td>null</td><td>null</td><td>null</td><td>null</td><td>null</td><td>null</td><td>null</td><td>null</td><td>null</td><td>null</td><td>null</td><td>null</td><td>null</td><td>null</td></tr>\n",
       "<tr><td>3120B2A9-057E-E4E...</td><td>null</td><td>null</td><td>null</td><td>{523BD18A-F0B2-3B...</td><td>null</td><td>null</td><td>null</td><td>null</td><td>{{null, null, nul...</td><td>{1908210281}</td><td>{91}</td><td>{5BA646C2-52E0-FD...</td><td>{21792}</td><td>1523462095074000000</td><td>EVENT_RECVMSG</td><td>C4D8E835-3ED0-309...</td></tr>\n",
       "<tr><td>null</td><td>null</td><td>null</td><td>null</td><td>null</td><td>null</td><td>null</td><td>null</td><td>null</td><td>null</td><td>null</td><td>null</td><td>null</td><td>null</td><td>null</td><td>null</td><td>null</td></tr>\n",
       "<tr><td>3120B2A9-057E-E4E...</td><td>null</td><td>null</td><td>null</td><td>{1F12AC39-433D-CF...</td><td>null</td><td>null</td><td>null</td><td>null</td><td>{{null, null, nul...</td><td>{1908210285}</td><td>{148}</td><td>{5BA646C2-52E0-FD...</td><td>{21792}</td><td>1523462095074000000</td><td>EVENT_SENDMSG</td><td>4CC5E1CC-37EB-BD1...</td></tr>\n",
       "<tr><td>null</td><td>null</td><td>null</td><td>null</td><td>null</td><td>null</td><td>null</td><td>null</td><td>null</td><td>null</td><td>null</td><td>null</td><td>null</td><td>null</td><td>null</td><td>null</td><td>null</td></tr>\n",
       "<tr><td>3120B2A9-057E-E4E...</td><td>null</td><td>null</td><td>null</td><td>{168E86FF-A58C-1F...</td><td>null</td><td>null</td><td>null</td><td>null</td><td>{{null, null, nul...</td><td>{1908210289}</td><td>{148}</td><td>{6881BEAE-AEDC-B8...</td><td>{21790}</td><td>1523462095074000000</td><td>EVENT_RECVMSG</td><td>E7A65E5B-92A6-743...</td></tr>\n",
       "<tr><td>null</td><td>null</td><td>null</td><td>null</td><td>null</td><td>null</td><td>null</td><td>null</td><td>null</td><td>null</td><td>null</td><td>null</td><td>null</td><td>null</td><td>null</td><td>null</td><td>null</td></tr>\n",
       "<tr><td>3120B2A9-057E-E4E...</td><td>null</td><td>null</td><td>null</td><td>{E101AA93-C8CE-7A...</td><td>null</td><td>null</td><td>null</td><td>null</td><td>{{null, null, nul...</td><td>{1908210300}</td><td>{91}</td><td>{6881BEAE-AEDC-B8...</td><td>{21790}</td><td>1523462095074000000</td><td>EVENT_SENDMSG</td><td>4B0A5605-7EAE-15B...</td></tr>\n",
       "<tr><td>null</td><td>null</td><td>null</td><td>null</td><td>null</td><td>null</td><td>null</td><td>null</td><td>null</td><td>null</td><td>null</td><td>null</td><td>null</td><td>null</td><td>null</td><td>null</td><td>null</td></tr>\n",
       "<tr><td>3120B2A9-057E-E4E...</td><td>null</td><td>null</td><td>null</td><td>{8F90088A-8557-A7...</td><td>null</td><td>null</td><td>null</td><td>null</td><td>{{null, null, nul...</td><td>{1908210302}</td><td>{91}</td><td>{5BA646C2-52E0-FD...</td><td>{21792}</td><td>1523462095074000000</td><td>EVENT_RECVMSG</td><td>EDCA5D35-34C6-39D...</td></tr>\n",
       "<tr><td>null</td><td>null</td><td>null</td><td>null</td><td>null</td><td>null</td><td>null</td><td>null</td><td>null</td><td>null</td><td>null</td><td>null</td><td>null</td><td>null</td><td>null</td><td>null</td><td>null</td></tr>\n",
       "</table>\n",
       "only showing top 20 rows\n"
      ],
      "text/plain": [
       "+--------------------+--------+----+----------+--------------------+----------------+--------------------+-------------------+------------+--------------------+------------+-----+--------------------+--------+-------------------+-------------+--------------------+\n",
       "|              hostId|location|name|parameters|     predicateObject|predicateObject2|predicateObject2Path|predicateObjectPath|programPoint|          properties|    sequence| size|             subject|threadId|     timestampNanos|         type|                uuid|\n",
       "+--------------------+--------+----+----------+--------------------+----------------+--------------------+-------------------+------------+--------------------+------------+-----+--------------------+--------+-------------------+-------------+--------------------+\n",
       "|3120B2A9-057E-E4E...|    null|null|      null|{17B28CB0-EAC8-10...|            null|                null|               null|        null|{{null, null, nul...|{1908210262}|{102}|{6881BEAE-AEDC-B8...| {21790}|1523462095074000000|EVENT_SENDMSG|B7CF3A75-822B-CA7...|\n",
       "|                null|    null|null|      null|                null|            null|                null|               null|        null|                null|        null| null|                null|    null|               null|         null|                null|\n",
       "|3120B2A9-057E-E4E...|    null|null|      null|{0E06BFEC-893C-1E...|            null|                null|               null|        null|{{null, null, nul...|{1908210263}|{102}|{5BA646C2-52E0-FD...| {21792}|1523462095074000000|EVENT_RECVMSG|7FEDB19D-70FE-A73...|\n",
       "|                null|    null|null|      null|                null|            null|                null|               null|        null|                null|        null| null|                null|    null|               null|         null|                null|\n",
       "|3120B2A9-057E-E4E...|    null|null|      null|{5DD8F7FB-96F3-E6...|            null|                null|               null|        null|{{null, null, nul...|{1908210266}| {78}|{5BA646C2-52E0-FD...| {21792}|1523462095074000000|EVENT_SENDMSG|44F8544B-E70A-F80...|\n",
       "|                null|    null|null|      null|                null|            null|                null|               null|        null|                null|        null| null|                null|    null|               null|         null|                null|\n",
       "|3120B2A9-057E-E4E...|    null|null|      null|{626CAE17-2D70-EF...|            null|                null|               null|        null|{{null, null, nul...|{1908210269}| {78}|{6881BEAE-AEDC-B8...| {21790}|1523462095074000000|EVENT_RECVMSG|534302DD-285B-93C...|\n",
       "|                null|    null|null|      null|                null|            null|                null|               null|        null|                null|        null| null|                null|    null|               null|         null|                null|\n",
       "|3120B2A9-057E-E4E...|    null|null|      null|{C230CDA8-DACD-5B...|            null|                null|               null|        null|{{null, null, nul...|{1908210279}| {91}|{6881BEAE-AEDC-B8...| {21790}|1523462095074000000|EVENT_SENDMSG|D5305B97-7EA6-B18...|\n",
       "|                null|    null|null|      null|                null|            null|                null|               null|        null|                null|        null| null|                null|    null|               null|         null|                null|\n",
       "|3120B2A9-057E-E4E...|    null|null|      null|{523BD18A-F0B2-3B...|            null|                null|               null|        null|{{null, null, nul...|{1908210281}| {91}|{5BA646C2-52E0-FD...| {21792}|1523462095074000000|EVENT_RECVMSG|C4D8E835-3ED0-309...|\n",
       "|                null|    null|null|      null|                null|            null|                null|               null|        null|                null|        null| null|                null|    null|               null|         null|                null|\n",
       "|3120B2A9-057E-E4E...|    null|null|      null|{1F12AC39-433D-CF...|            null|                null|               null|        null|{{null, null, nul...|{1908210285}|{148}|{5BA646C2-52E0-FD...| {21792}|1523462095074000000|EVENT_SENDMSG|4CC5E1CC-37EB-BD1...|\n",
       "|                null|    null|null|      null|                null|            null|                null|               null|        null|                null|        null| null|                null|    null|               null|         null|                null|\n",
       "|3120B2A9-057E-E4E...|    null|null|      null|{168E86FF-A58C-1F...|            null|                null|               null|        null|{{null, null, nul...|{1908210289}|{148}|{6881BEAE-AEDC-B8...| {21790}|1523462095074000000|EVENT_RECVMSG|E7A65E5B-92A6-743...|\n",
       "|                null|    null|null|      null|                null|            null|                null|               null|        null|                null|        null| null|                null|    null|               null|         null|                null|\n",
       "|3120B2A9-057E-E4E...|    null|null|      null|{E101AA93-C8CE-7A...|            null|                null|               null|        null|{{null, null, nul...|{1908210300}| {91}|{6881BEAE-AEDC-B8...| {21790}|1523462095074000000|EVENT_SENDMSG|4B0A5605-7EAE-15B...|\n",
       "|                null|    null|null|      null|                null|            null|                null|               null|        null|                null|        null| null|                null|    null|               null|         null|                null|\n",
       "|3120B2A9-057E-E4E...|    null|null|      null|{8F90088A-8557-A7...|            null|                null|               null|        null|{{null, null, nul...|{1908210302}| {91}|{5BA646C2-52E0-FD...| {21792}|1523462095074000000|EVENT_RECVMSG|EDCA5D35-34C6-39D...|\n",
       "|                null|    null|null|      null|                null|            null|                null|               null|        null|                null|        null| null|                null|    null|               null|         null|                null|\n",
       "+--------------------+--------+----+----------+--------------------+----------------+--------------------+-------------------+------------+--------------------+------------+-----+--------------------+--------+-------------------+-------------+--------------------+\n",
       "only showing top 20 rows"
      ]
     },
     "execution_count": 58,
     "metadata": {},
     "output_type": "execute_result"
    }
   ],
   "source": [
    "events_10th = df.select(\"datum.*\").select(\"`com.bbn.tc.schema.avro.cdm18.Event`\").withColumnRenamed(\"com.bbn.tc.schema.avro.cdm18.Event\", \"event\").select(\"event.*\")\n",
    "events_10th"
   ]
  },
  {
   "cell_type": "code",
   "execution_count": 60,
   "id": "ad26ac26-654c-4ebe-b2b4-e2502e3611f3",
   "metadata": {},
   "outputs": [],
   "source": [
    "start_time = 1523318400 * 1000000000\n",
    "end_time = 1523404800 * 1000000000\n",
    "events_10th = events_10th.filter(\"timestampNanos > {} AND timestampNanos < {}\".format(start_time, end_time))"
   ]
  },
  {
   "cell_type": "code",
   "execution_count": 61,
   "id": "9050719a-1143-47c8-8279-6984c40b1008",
   "metadata": {},
   "outputs": [
    {
     "name": "stderr",
     "output_type": "stream",
     "text": [
      "                                                                                \r"
     ]
    },
    {
     "data": {
      "text/html": [
       "<table border='1'>\n",
       "<tr><th>hostId</th><th>location</th><th>name</th><th>parameters</th><th>predicateObject</th><th>predicateObject2</th><th>predicateObject2Path</th><th>predicateObjectPath</th><th>programPoint</th><th>properties</th><th>sequence</th><th>size</th><th>subject</th><th>threadId</th><th>timestampNanos</th><th>type</th><th>uuid</th></tr>\n",
       "<tr><td>3120B2A9-057E-E4E...</td><td>null</td><td>null</td><td>null</td><td>{5B0144A8-2B4B-0D...</td><td>null</td><td>null</td><td>null</td><td>null</td><td>{{null, null, nul...</td><td>{1607898017}</td><td>null</td><td>{470F9BDD-A889-BB...</td><td>{14478}</td><td>1523362794679000000</td><td>EVENT_UNIT</td><td>58454F7E-B685-B14...</td></tr>\n",
       "<tr><td>3120B2A9-057E-E4E...</td><td>null</td><td>null</td><td>null</td><td>{479B9A88-E866-88...</td><td>null</td><td>null</td><td>null</td><td>null</td><td>{{null, null, nul...</td><td>{1508724850}</td><td>{16384}</td><td>{BA7EE6F5-7616-C1...</td><td>{18395}</td><td>1523318400006000000</td><td>EVENT_WRITE</td><td>EBA27987-D238-D4F...</td></tr>\n",
       "<tr><td>3120B2A9-057E-E4E...</td><td>null</td><td>null</td><td>null</td><td>{479B9A88-E866-88...</td><td>null</td><td>null</td><td>null</td><td>null</td><td>{{null, null, nul...</td><td>{1508724851}</td><td>{16384}</td><td>{BA7EE6F5-7616-C1...</td><td>{18395}</td><td>1523318400006000000</td><td>EVENT_WRITE</td><td>9A0AA88C-840E-A2F...</td></tr>\n",
       "<tr><td>3120B2A9-057E-E4E...</td><td>null</td><td>null</td><td>null</td><td>{479B9A88-E866-88...</td><td>null</td><td>null</td><td>null</td><td>null</td><td>{{null, null, nul...</td><td>{1508724852}</td><td>{16372}</td><td>{BA7EE6F5-7616-C1...</td><td>{18395}</td><td>1523318400006000000</td><td>EVENT_WRITE</td><td>9901D5E0-BC08-B1B...</td></tr>\n",
       "<tr><td>3120B2A9-057E-E4E...</td><td>null</td><td>null</td><td>null</td><td>{479B9A88-E866-88...</td><td>null</td><td>null</td><td>null</td><td>null</td><td>{{null, null, nul...</td><td>{1508724853}</td><td>{1928}</td><td>{BA7EE6F5-7616-C1...</td><td>{18395}</td><td>1523318400006000000</td><td>EVENT_WRITE</td><td>1A52402C-490B-023...</td></tr>\n",
       "<tr><td>3120B2A9-057E-E4E...</td><td>null</td><td>null</td><td>null</td><td>{86068F31-5A39-AF...</td><td>null</td><td>null</td><td>null</td><td>null</td><td>{{null, null, nul...</td><td>{1508724854}</td><td>{64}</td><td>{BA7EE6F5-7616-C1...</td><td>{18395}</td><td>1523318400006000000</td><td>EVENT_RECVMSG</td><td>BA335D23-9FC7-E89...</td></tr>\n",
       "<tr><td>3120B2A9-057E-E4E...</td><td>null</td><td>null</td><td>null</td><td>{86068F31-5A39-AF...</td><td>null</td><td>null</td><td>null</td><td>null</td><td>{{null, null, nul...</td><td>{1508724855}</td><td>{16384}</td><td>{BA7EE6F5-7616-C1...</td><td>{18395}</td><td>1523318400014000000</td><td>EVENT_WRITE</td><td>CFFD3B81-C829-FFF...</td></tr>\n",
       "<tr><td>3120B2A9-057E-E4E...</td><td>null</td><td>null</td><td>null</td><td>{86068F31-5A39-AF...</td><td>null</td><td>null</td><td>null</td><td>null</td><td>{{null, null, nul...</td><td>{1508724856}</td><td>{16384}</td><td>{BA7EE6F5-7616-C1...</td><td>{18395}</td><td>1523318400014000000</td><td>EVENT_WRITE</td><td>CBC8B3D7-C0D7-FEA...</td></tr>\n",
       "<tr><td>3120B2A9-057E-E4E...</td><td>null</td><td>null</td><td>null</td><td>{86068F31-5A39-AF...</td><td>null</td><td>null</td><td>null</td><td>null</td><td>{{null, null, nul...</td><td>{1508724857}</td><td>{16372}</td><td>{BA7EE6F5-7616-C1...</td><td>{18395}</td><td>1523318400014000000</td><td>EVENT_WRITE</td><td>E023BFC2-691D-2D0...</td></tr>\n",
       "<tr><td>3120B2A9-057E-E4E...</td><td>null</td><td>null</td><td>null</td><td>{86068F31-5A39-AF...</td><td>null</td><td>null</td><td>null</td><td>null</td><td>{{null, null, nul...</td><td>{1508724858}</td><td>{1928}</td><td>{BA7EE6F5-7616-C1...</td><td>{18395}</td><td>1523318400014000000</td><td>EVENT_WRITE</td><td>ADC2074E-2D5C-79E...</td></tr>\n",
       "<tr><td>3120B2A9-057E-E4E...</td><td>null</td><td>null</td><td>null</td><td>{D471FC9B-9F98-AF...</td><td>null</td><td>null</td><td>null</td><td>null</td><td>{{null, null, nul...</td><td>{1508724859}</td><td>{64}</td><td>{BA7EE6F5-7616-C1...</td><td>{18395}</td><td>1523318400018000000</td><td>EVENT_RECVMSG</td><td>070DCE77-8AD9-D26...</td></tr>\n",
       "<tr><td>3120B2A9-057E-E4E...</td><td>null</td><td>null</td><td>null</td><td>{D471FC9B-9F98-AF...</td><td>null</td><td>null</td><td>null</td><td>null</td><td>{{null, null, nul...</td><td>{1508724860}</td><td>{16384}</td><td>{BA7EE6F5-7616-C1...</td><td>{18395}</td><td>1523318400026000000</td><td>EVENT_WRITE</td><td>B5458441-9F8A-E64...</td></tr>\n",
       "<tr><td>3120B2A9-057E-E4E...</td><td>null</td><td>null</td><td>null</td><td>{D471FC9B-9F98-AF...</td><td>null</td><td>null</td><td>null</td><td>null</td><td>{{null, null, nul...</td><td>{1508724861}</td><td>{16384}</td><td>{BA7EE6F5-7616-C1...</td><td>{18395}</td><td>1523318400026000000</td><td>EVENT_WRITE</td><td>33EF247F-15E0-9E1...</td></tr>\n",
       "<tr><td>3120B2A9-057E-E4E...</td><td>null</td><td>null</td><td>null</td><td>{D471FC9B-9F98-AF...</td><td>null</td><td>null</td><td>null</td><td>null</td><td>{{null, null, nul...</td><td>{1508724862}</td><td>{16372}</td><td>{BA7EE6F5-7616-C1...</td><td>{18395}</td><td>1523318400026000000</td><td>EVENT_WRITE</td><td>FDD3CE26-8EA4-353...</td></tr>\n",
       "<tr><td>3120B2A9-057E-E4E...</td><td>null</td><td>null</td><td>null</td><td>{D471FC9B-9F98-AF...</td><td>null</td><td>null</td><td>null</td><td>null</td><td>{{null, null, nul...</td><td>{1508724863}</td><td>{1928}</td><td>{BA7EE6F5-7616-C1...</td><td>{18395}</td><td>1523318400026000000</td><td>EVENT_WRITE</td><td>15D91F23-C46F-C5F...</td></tr>\n",
       "<tr><td>3120B2A9-057E-E4E...</td><td>null</td><td>null</td><td>null</td><td>{5957BB97-5156-B8...</td><td>null</td><td>null</td><td>null</td><td>null</td><td>{{null, null, nul...</td><td>{1508724864}</td><td>{64}</td><td>{BA7EE6F5-7616-C1...</td><td>{18395}</td><td>1523318400026000000</td><td>EVENT_RECVMSG</td><td>37658946-C058-BB8...</td></tr>\n",
       "<tr><td>3120B2A9-057E-E4E...</td><td>null</td><td>null</td><td>null</td><td>{5957BB97-5156-B8...</td><td>null</td><td>null</td><td>null</td><td>null</td><td>{{null, null, nul...</td><td>{1508724865}</td><td>{16384}</td><td>{BA7EE6F5-7616-C1...</td><td>{18395}</td><td>1523318400038000000</td><td>EVENT_WRITE</td><td>72AEF1AE-250B-023...</td></tr>\n",
       "<tr><td>3120B2A9-057E-E4E...</td><td>null</td><td>null</td><td>null</td><td>{5957BB97-5156-B8...</td><td>null</td><td>null</td><td>null</td><td>null</td><td>{{null, null, nul...</td><td>{1508724866}</td><td>{16384}</td><td>{BA7EE6F5-7616-C1...</td><td>{18395}</td><td>1523318400038000000</td><td>EVENT_WRITE</td><td>09E45D88-2ECD-84C...</td></tr>\n",
       "<tr><td>3120B2A9-057E-E4E...</td><td>null</td><td>null</td><td>null</td><td>{5957BB97-5156-B8...</td><td>null</td><td>null</td><td>null</td><td>null</td><td>{{null, null, nul...</td><td>{1508724867}</td><td>{16372}</td><td>{BA7EE6F5-7616-C1...</td><td>{18395}</td><td>1523318400038000000</td><td>EVENT_WRITE</td><td>22D60103-E8B6-F1E...</td></tr>\n",
       "<tr><td>3120B2A9-057E-E4E...</td><td>null</td><td>null</td><td>null</td><td>{5957BB97-5156-B8...</td><td>null</td><td>null</td><td>null</td><td>null</td><td>{{null, null, nul...</td><td>{1508724868}</td><td>{1928}</td><td>{BA7EE6F5-7616-C1...</td><td>{18395}</td><td>1523318400038000000</td><td>EVENT_WRITE</td><td>B798C2A7-F989-C09...</td></tr>\n",
       "</table>\n",
       "only showing top 20 rows\n"
      ],
      "text/plain": [
       "+--------------------+--------+----+----------+--------------------+----------------+--------------------+-------------------+------------+--------------------+------------+-------+--------------------+--------+-------------------+-------------+--------------------+\n",
       "|              hostId|location|name|parameters|     predicateObject|predicateObject2|predicateObject2Path|predicateObjectPath|programPoint|          properties|    sequence|   size|             subject|threadId|     timestampNanos|         type|                uuid|\n",
       "+--------------------+--------+----+----------+--------------------+----------------+--------------------+-------------------+------------+--------------------+------------+-------+--------------------+--------+-------------------+-------------+--------------------+\n",
       "|3120B2A9-057E-E4E...|    null|null|      null|{5B0144A8-2B4B-0D...|            null|                null|               null|        null|{{null, null, nul...|{1607898017}|   null|{470F9BDD-A889-BB...| {14478}|1523362794679000000|   EVENT_UNIT|58454F7E-B685-B14...|\n",
       "|3120B2A9-057E-E4E...|    null|null|      null|{479B9A88-E866-88...|            null|                null|               null|        null|{{null, null, nul...|{1508724850}|{16384}|{BA7EE6F5-7616-C1...| {18395}|1523318400006000000|  EVENT_WRITE|EBA27987-D238-D4F...|\n",
       "|3120B2A9-057E-E4E...|    null|null|      null|{479B9A88-E866-88...|            null|                null|               null|        null|{{null, null, nul...|{1508724851}|{16384}|{BA7EE6F5-7616-C1...| {18395}|1523318400006000000|  EVENT_WRITE|9A0AA88C-840E-A2F...|\n",
       "|3120B2A9-057E-E4E...|    null|null|      null|{479B9A88-E866-88...|            null|                null|               null|        null|{{null, null, nul...|{1508724852}|{16372}|{BA7EE6F5-7616-C1...| {18395}|1523318400006000000|  EVENT_WRITE|9901D5E0-BC08-B1B...|\n",
       "|3120B2A9-057E-E4E...|    null|null|      null|{479B9A88-E866-88...|            null|                null|               null|        null|{{null, null, nul...|{1508724853}| {1928}|{BA7EE6F5-7616-C1...| {18395}|1523318400006000000|  EVENT_WRITE|1A52402C-490B-023...|\n",
       "|3120B2A9-057E-E4E...|    null|null|      null|{86068F31-5A39-AF...|            null|                null|               null|        null|{{null, null, nul...|{1508724854}|   {64}|{BA7EE6F5-7616-C1...| {18395}|1523318400006000000|EVENT_RECVMSG|BA335D23-9FC7-E89...|\n",
       "|3120B2A9-057E-E4E...|    null|null|      null|{86068F31-5A39-AF...|            null|                null|               null|        null|{{null, null, nul...|{1508724855}|{16384}|{BA7EE6F5-7616-C1...| {18395}|1523318400014000000|  EVENT_WRITE|CFFD3B81-C829-FFF...|\n",
       "|3120B2A9-057E-E4E...|    null|null|      null|{86068F31-5A39-AF...|            null|                null|               null|        null|{{null, null, nul...|{1508724856}|{16384}|{BA7EE6F5-7616-C1...| {18395}|1523318400014000000|  EVENT_WRITE|CBC8B3D7-C0D7-FEA...|\n",
       "|3120B2A9-057E-E4E...|    null|null|      null|{86068F31-5A39-AF...|            null|                null|               null|        null|{{null, null, nul...|{1508724857}|{16372}|{BA7EE6F5-7616-C1...| {18395}|1523318400014000000|  EVENT_WRITE|E023BFC2-691D-2D0...|\n",
       "|3120B2A9-057E-E4E...|    null|null|      null|{86068F31-5A39-AF...|            null|                null|               null|        null|{{null, null, nul...|{1508724858}| {1928}|{BA7EE6F5-7616-C1...| {18395}|1523318400014000000|  EVENT_WRITE|ADC2074E-2D5C-79E...|\n",
       "|3120B2A9-057E-E4E...|    null|null|      null|{D471FC9B-9F98-AF...|            null|                null|               null|        null|{{null, null, nul...|{1508724859}|   {64}|{BA7EE6F5-7616-C1...| {18395}|1523318400018000000|EVENT_RECVMSG|070DCE77-8AD9-D26...|\n",
       "|3120B2A9-057E-E4E...|    null|null|      null|{D471FC9B-9F98-AF...|            null|                null|               null|        null|{{null, null, nul...|{1508724860}|{16384}|{BA7EE6F5-7616-C1...| {18395}|1523318400026000000|  EVENT_WRITE|B5458441-9F8A-E64...|\n",
       "|3120B2A9-057E-E4E...|    null|null|      null|{D471FC9B-9F98-AF...|            null|                null|               null|        null|{{null, null, nul...|{1508724861}|{16384}|{BA7EE6F5-7616-C1...| {18395}|1523318400026000000|  EVENT_WRITE|33EF247F-15E0-9E1...|\n",
       "|3120B2A9-057E-E4E...|    null|null|      null|{D471FC9B-9F98-AF...|            null|                null|               null|        null|{{null, null, nul...|{1508724862}|{16372}|{BA7EE6F5-7616-C1...| {18395}|1523318400026000000|  EVENT_WRITE|FDD3CE26-8EA4-353...|\n",
       "|3120B2A9-057E-E4E...|    null|null|      null|{D471FC9B-9F98-AF...|            null|                null|               null|        null|{{null, null, nul...|{1508724863}| {1928}|{BA7EE6F5-7616-C1...| {18395}|1523318400026000000|  EVENT_WRITE|15D91F23-C46F-C5F...|\n",
       "|3120B2A9-057E-E4E...|    null|null|      null|{5957BB97-5156-B8...|            null|                null|               null|        null|{{null, null, nul...|{1508724864}|   {64}|{BA7EE6F5-7616-C1...| {18395}|1523318400026000000|EVENT_RECVMSG|37658946-C058-BB8...|\n",
       "|3120B2A9-057E-E4E...|    null|null|      null|{5957BB97-5156-B8...|            null|                null|               null|        null|{{null, null, nul...|{1508724865}|{16384}|{BA7EE6F5-7616-C1...| {18395}|1523318400038000000|  EVENT_WRITE|72AEF1AE-250B-023...|\n",
       "|3120B2A9-057E-E4E...|    null|null|      null|{5957BB97-5156-B8...|            null|                null|               null|        null|{{null, null, nul...|{1508724866}|{16384}|{BA7EE6F5-7616-C1...| {18395}|1523318400038000000|  EVENT_WRITE|09E45D88-2ECD-84C...|\n",
       "|3120B2A9-057E-E4E...|    null|null|      null|{5957BB97-5156-B8...|            null|                null|               null|        null|{{null, null, nul...|{1508724867}|{16372}|{BA7EE6F5-7616-C1...| {18395}|1523318400038000000|  EVENT_WRITE|22D60103-E8B6-F1E...|\n",
       "|3120B2A9-057E-E4E...|    null|null|      null|{5957BB97-5156-B8...|            null|                null|               null|        null|{{null, null, nul...|{1508724868}| {1928}|{BA7EE6F5-7616-C1...| {18395}|1523318400038000000|  EVENT_WRITE|B798C2A7-F989-C09...|\n",
       "+--------------------+--------+----+----------+--------------------+----------------+--------------------+-------------------+------------+--------------------+------------+-------+--------------------+--------+-------------------+-------------+--------------------+\n",
       "only showing top 20 rows"
      ]
     },
     "execution_count": 61,
     "metadata": {},
     "output_type": "execute_result"
    }
   ],
   "source": [
    "events_10th"
   ]
  },
  {
   "cell_type": "code",
   "execution_count": 66,
   "id": "36108114-66d8-485c-b3d3-0bcaa6a89fe4",
   "metadata": {},
   "outputs": [
    {
     "data": {
      "text/html": [
       "<table border='1'>\n",
       "<tr><th>baseObject</th><th>fileDescriptor</th><th>hashes</th><th>localPrincipal</th><th>peInfo</th><th>size</th><th>type</th><th>uuid</th></tr>\n",
       "<tr><td>{{446}, 3120B2A9-...</td><td>null</td><td>null</td><td>null</td><td>null</td><td>null</td><td>FILE_OBJECT_FILE</td><td>6C98E2EA-5756-658...</td></tr>\n",
       "<tr><td>{{447}, 3120B2A9-...</td><td>null</td><td>null</td><td>null</td><td>null</td><td>null</td><td>FILE_OBJECT_FILE</td><td>482A4610-A13D-443...</td></tr>\n",
       "<tr><td>{{3599}, 3120B2A9...</td><td>null</td><td>null</td><td>null</td><td>null</td><td>null</td><td>FILE_OBJECT_FILE</td><td>268BF4D5-321D-1E4...</td></tr>\n",
       "<tr><td>{{3596}, 3120B2A9...</td><td>null</td><td>null</td><td>null</td><td>null</td><td>null</td><td>FILE_OBJECT_FILE</td><td>92BFE0D5-507F-C8C...</td></tr>\n",
       "<tr><td>{{453}, 3120B2A9-...</td><td>null</td><td>null</td><td>null</td><td>null</td><td>null</td><td>FILE_OBJECT_FILE</td><td>81414DD2-EBFE-360...</td></tr>\n",
       "<tr><td>{{452}, 3120B2A9-...</td><td>null</td><td>null</td><td>null</td><td>null</td><td>null</td><td>FILE_OBJECT_FILE</td><td>7E903CC5-ECC2-9AB...</td></tr>\n",
       "<tr><td>{{0}, 3120B2A9-05...</td><td>null</td><td>null</td><td>null</td><td>null</td><td>null</td><td>FILE_OBJECT_FILE</td><td>93005F23-3BD2-05D...</td></tr>\n",
       "<tr><td>{{0}, 3120B2A9-05...</td><td>null</td><td>null</td><td>null</td><td>null</td><td>null</td><td>FILE_OBJECT_FILE</td><td>B2C30F13-B6BF-978...</td></tr>\n",
       "<tr><td>{{0}, 3120B2A9-05...</td><td>null</td><td>null</td><td>null</td><td>null</td><td>null</td><td>FILE_OBJECT_FILE</td><td>865752A5-DD4B-178...</td></tr>\n",
       "<tr><td>{{0}, 3120B2A9-05...</td><td>null</td><td>null</td><td>null</td><td>null</td><td>null</td><td>FILE_OBJECT_FILE</td><td>FFA093C7-D5C5-5AF...</td></tr>\n",
       "<tr><td>{{0}, 3120B2A9-05...</td><td>null</td><td>null</td><td>null</td><td>null</td><td>null</td><td>FILE_OBJECT_FILE</td><td>C63BD5E6-7D3E-85E...</td></tr>\n",
       "<tr><td>{{0}, 3120B2A9-05...</td><td>null</td><td>null</td><td>null</td><td>null</td><td>null</td><td>FILE_OBJECT_FILE</td><td>2E31984D-C930-1EF...</td></tr>\n",
       "<tr><td>{{453}, 3120B2A9-...</td><td>null</td><td>null</td><td>null</td><td>null</td><td>null</td><td>FILE_OBJECT_FILE</td><td>BCC49A58-C42D-890...</td></tr>\n",
       "<tr><td>{{453}, 3120B2A9-...</td><td>null</td><td>null</td><td>null</td><td>null</td><td>null</td><td>FILE_OBJECT_FILE</td><td>1ACE347D-108F-26C...</td></tr>\n",
       "<tr><td>{{903}, 3120B2A9-...</td><td>null</td><td>null</td><td>null</td><td>null</td><td>null</td><td>FILE_OBJECT_FILE</td><td>0E97E398-367D-84C...</td></tr>\n",
       "<tr><td>{{904}, 3120B2A9-...</td><td>null</td><td>null</td><td>null</td><td>null</td><td>null</td><td>FILE_OBJECT_FILE</td><td>A19806DD-4149-926...</td></tr>\n",
       "<tr><td>{{904}, 3120B2A9-...</td><td>null</td><td>null</td><td>null</td><td>null</td><td>null</td><td>FILE_OBJECT_FILE</td><td>F42B67F2-F4F1-73F...</td></tr>\n",
       "<tr><td>{{454}, 3120B2A9-...</td><td>null</td><td>null</td><td>null</td><td>null</td><td>null</td><td>FILE_OBJECT_FILE</td><td>F631DAA1-A859-A27...</td></tr>\n",
       "<tr><td>{{454}, 3120B2A9-...</td><td>null</td><td>null</td><td>null</td><td>null</td><td>null</td><td>FILE_OBJECT_FILE</td><td>65D9CDBE-5380-2DD...</td></tr>\n",
       "<tr><td>{{447}, 3120B2A9-...</td><td>null</td><td>null</td><td>null</td><td>null</td><td>null</td><td>FILE_OBJECT_FILE</td><td>A4E24B72-7D96-CE8...</td></tr>\n",
       "</table>\n",
       "only showing top 20 rows\n"
      ],
      "text/plain": [
       "+--------------------+--------------+------+--------------+------+----+----------------+--------------------+\n",
       "|          baseObject|fileDescriptor|hashes|localPrincipal|peInfo|size|            type|                uuid|\n",
       "+--------------------+--------------+------+--------------+------+----+----------------+--------------------+\n",
       "|{{446}, 3120B2A9-...|          null|  null|          null|  null|null|FILE_OBJECT_FILE|6C98E2EA-5756-658...|\n",
       "|{{447}, 3120B2A9-...|          null|  null|          null|  null|null|FILE_OBJECT_FILE|482A4610-A13D-443...|\n",
       "|{{3599}, 3120B2A9...|          null|  null|          null|  null|null|FILE_OBJECT_FILE|268BF4D5-321D-1E4...|\n",
       "|{{3596}, 3120B2A9...|          null|  null|          null|  null|null|FILE_OBJECT_FILE|92BFE0D5-507F-C8C...|\n",
       "|{{453}, 3120B2A9-...|          null|  null|          null|  null|null|FILE_OBJECT_FILE|81414DD2-EBFE-360...|\n",
       "|{{452}, 3120B2A9-...|          null|  null|          null|  null|null|FILE_OBJECT_FILE|7E903CC5-ECC2-9AB...|\n",
       "|{{0}, 3120B2A9-05...|          null|  null|          null|  null|null|FILE_OBJECT_FILE|93005F23-3BD2-05D...|\n",
       "|{{0}, 3120B2A9-05...|          null|  null|          null|  null|null|FILE_OBJECT_FILE|B2C30F13-B6BF-978...|\n",
       "|{{0}, 3120B2A9-05...|          null|  null|          null|  null|null|FILE_OBJECT_FILE|865752A5-DD4B-178...|\n",
       "|{{0}, 3120B2A9-05...|          null|  null|          null|  null|null|FILE_OBJECT_FILE|FFA093C7-D5C5-5AF...|\n",
       "|{{0}, 3120B2A9-05...|          null|  null|          null|  null|null|FILE_OBJECT_FILE|C63BD5E6-7D3E-85E...|\n",
       "|{{0}, 3120B2A9-05...|          null|  null|          null|  null|null|FILE_OBJECT_FILE|2E31984D-C930-1EF...|\n",
       "|{{453}, 3120B2A9-...|          null|  null|          null|  null|null|FILE_OBJECT_FILE|BCC49A58-C42D-890...|\n",
       "|{{453}, 3120B2A9-...|          null|  null|          null|  null|null|FILE_OBJECT_FILE|1ACE347D-108F-26C...|\n",
       "|{{903}, 3120B2A9-...|          null|  null|          null|  null|null|FILE_OBJECT_FILE|0E97E398-367D-84C...|\n",
       "|{{904}, 3120B2A9-...|          null|  null|          null|  null|null|FILE_OBJECT_FILE|A19806DD-4149-926...|\n",
       "|{{904}, 3120B2A9-...|          null|  null|          null|  null|null|FILE_OBJECT_FILE|F42B67F2-F4F1-73F...|\n",
       "|{{454}, 3120B2A9-...|          null|  null|          null|  null|null|FILE_OBJECT_FILE|F631DAA1-A859-A27...|\n",
       "|{{454}, 3120B2A9-...|          null|  null|          null|  null|null|FILE_OBJECT_FILE|65D9CDBE-5380-2DD...|\n",
       "|{{447}, 3120B2A9-...|          null|  null|          null|  null|null|FILE_OBJECT_FILE|A4E24B72-7D96-CE8...|\n",
       "+--------------------+--------------+------+--------------+------+----+----------------+--------------------+\n",
       "only showing top 20 rows"
      ]
     },
     "execution_count": 66,
     "metadata": {},
     "output_type": "execute_result"
    }
   ],
   "source": [
    "files_all = df.select(\"datum.*\").select(\"`com.bbn.tc.schema.avro.cdm18.FileObject`\").withColumnRenamed(\"com.bbn.tc.schema.avro.cdm18.FileObject\", \"file\").select(\"file.*\")\n",
    "files_all = files_all.filter('uuid IS NOT NULL')\n",
    "files_all"
   ]
  },
  {
   "cell_type": "code",
   "execution_count": 65,
   "id": "0f3c13e6-d7e5-4164-b447-fff06dfe1c08",
   "metadata": {},
   "outputs": [
    {
     "data": {
      "text/html": [
       "<table border='1'>\n",
       "<tr><th>baseObject</th><th>fileDescriptor</th><th>ipProtocol</th><th>localAddress</th><th>localPort</th><th>remoteAddress</th><th>remotePort</th><th>uuid</th></tr>\n",
       "<tr><td>{{571341}, 3120B2...</td><td>null</td><td>{17}</td><td>0.0.0.0</td><td>5353</td><td>128.55.12.172</td><td>5353</td><td>233888CD-FBED-ABD...</td></tr>\n",
       "<tr><td>{{882462}, 3120B2...</td><td>null</td><td>{17}</td><td>0.0.0.0</td><td>5353</td><td>128.55.12.170</td><td>5353</td><td>8D970067-EB67-DD1...</td></tr>\n",
       "<tr><td>{{890796}, 3120B2...</td><td>null</td><td>{17}</td><td>0.0.0.0</td><td>5353</td><td>128.55.12.171</td><td>5353</td><td>775624C1-2807-BFF...</td></tr>\n",
       "<tr><td>{{571342}, 3120B2...</td><td>null</td><td>{17}</td><td>0.0.0.0</td><td>5353</td><td>128.55.12.172</td><td>5353</td><td>AFD5C7CD-5DBD-D2D...</td></tr>\n",
       "<tr><td>{{882463}, 3120B2...</td><td>null</td><td>{17}</td><td>0.0.0.0</td><td>5353</td><td>128.55.12.170</td><td>5353</td><td>826FA86C-E4A9-E41...</td></tr>\n",
       "<tr><td>{{890797}, 3120B2...</td><td>null</td><td>{17}</td><td>0.0.0.0</td><td>5353</td><td>128.55.12.171</td><td>5353</td><td>12E2ED15-4293-55F...</td></tr>\n",
       "<tr><td>{{571343}, 3120B2...</td><td>null</td><td>{17}</td><td>0.0.0.0</td><td>5353</td><td>128.55.12.172</td><td>5353</td><td>D9E241AC-BF17-E94...</td></tr>\n",
       "<tr><td>{{23}, 3120B2A9-0...</td><td>null</td><td>{17}</td><td>128.55.12.118</td><td>58228</td><td>128.55.12.10</td><td>53</td><td>DD8D8BA6-8E9E-D45...</td></tr>\n",
       "<tr><td>{{24}, 3120B2A9-0...</td><td>null</td><td>{17}</td><td>128.55.12.118</td><td>58228</td><td>128.55.12.10</td><td>53</td><td>5DB4F427-EC10-733...</td></tr>\n",
       "<tr><td>{{571344}, 3120B2...</td><td>null</td><td>{17}</td><td>0.0.0.0</td><td>5353</td><td>128.55.12.172</td><td>5353</td><td>91E88749-AA86-25B...</td></tr>\n",
       "<tr><td>{{36}, 3120B2A9-0...</td><td>null</td><td>{17}</td><td>128.55.12.118</td><td>54156</td><td>128.55.12.10</td><td>53</td><td>BB4463BD-1BC8-823...</td></tr>\n",
       "<tr><td>{{37}, 3120B2A9-0...</td><td>null</td><td>{17}</td><td>128.55.12.118</td><td>54156</td><td>128.55.12.10</td><td>53</td><td>E8D7B8F4-057E-960...</td></tr>\n",
       "<tr><td>{{38}, 3120B2A9-0...</td><td>null</td><td>{17}</td><td>128.55.12.118</td><td>54156</td><td>128.55.12.10</td><td>53</td><td>0A6888E6-7D2A-825...</td></tr>\n",
       "<tr><td>{{16}, 3120B2A9-0...</td><td>null</td><td>{17}</td><td>128.55.12.118</td><td>41938</td><td>128.55.12.10</td><td>53</td><td>D994B363-62A7-1BD...</td></tr>\n",
       "<tr><td>{{882464}, 3120B2...</td><td>null</td><td>{17}</td><td>0.0.0.0</td><td>5353</td><td>128.55.12.170</td><td>5353</td><td>E7A79A89-D42F-91A...</td></tr>\n",
       "<tr><td>{{890798}, 3120B2...</td><td>null</td><td>{17}</td><td>0.0.0.0</td><td>5353</td><td>128.55.12.171</td><td>5353</td><td>59B07B62-2747-EF7...</td></tr>\n",
       "<tr><td>{{571345}, 3120B2...</td><td>null</td><td>{17}</td><td>0.0.0.0</td><td>5353</td><td>128.55.12.172</td><td>5353</td><td>240EEA60-55F1-7FA...</td></tr>\n",
       "<tr><td>{{890799}, 3120B2...</td><td>null</td><td>{17}</td><td>0.0.0.0</td><td>5353</td><td>128.55.12.171</td><td>5353</td><td>BBF9EEF0-CF5C-2A3...</td></tr>\n",
       "<tr><td>{{882465}, 3120B2...</td><td>null</td><td>{17}</td><td>0.0.0.0</td><td>5353</td><td>128.55.12.170</td><td>5353</td><td>87ED1A1C-9518-B03...</td></tr>\n",
       "<tr><td>{{890800}, 3120B2...</td><td>null</td><td>{17}</td><td>0.0.0.0</td><td>5353</td><td>128.55.12.171</td><td>5353</td><td>6C0B9B75-748C-F94...</td></tr>\n",
       "</table>\n",
       "only showing top 20 rows\n"
      ],
      "text/plain": [
       "+--------------------+--------------+----------+-------------+---------+-------------+----------+--------------------+\n",
       "|          baseObject|fileDescriptor|ipProtocol| localAddress|localPort|remoteAddress|remotePort|                uuid|\n",
       "+--------------------+--------------+----------+-------------+---------+-------------+----------+--------------------+\n",
       "|{{571341}, 3120B2...|          null|      {17}|      0.0.0.0|     5353|128.55.12.172|      5353|233888CD-FBED-ABD...|\n",
       "|{{882462}, 3120B2...|          null|      {17}|      0.0.0.0|     5353|128.55.12.170|      5353|8D970067-EB67-DD1...|\n",
       "|{{890796}, 3120B2...|          null|      {17}|      0.0.0.0|     5353|128.55.12.171|      5353|775624C1-2807-BFF...|\n",
       "|{{571342}, 3120B2...|          null|      {17}|      0.0.0.0|     5353|128.55.12.172|      5353|AFD5C7CD-5DBD-D2D...|\n",
       "|{{882463}, 3120B2...|          null|      {17}|      0.0.0.0|     5353|128.55.12.170|      5353|826FA86C-E4A9-E41...|\n",
       "|{{890797}, 3120B2...|          null|      {17}|      0.0.0.0|     5353|128.55.12.171|      5353|12E2ED15-4293-55F...|\n",
       "|{{571343}, 3120B2...|          null|      {17}|      0.0.0.0|     5353|128.55.12.172|      5353|D9E241AC-BF17-E94...|\n",
       "|{{23}, 3120B2A9-0...|          null|      {17}|128.55.12.118|    58228| 128.55.12.10|        53|DD8D8BA6-8E9E-D45...|\n",
       "|{{24}, 3120B2A9-0...|          null|      {17}|128.55.12.118|    58228| 128.55.12.10|        53|5DB4F427-EC10-733...|\n",
       "|{{571344}, 3120B2...|          null|      {17}|      0.0.0.0|     5353|128.55.12.172|      5353|91E88749-AA86-25B...|\n",
       "|{{36}, 3120B2A9-0...|          null|      {17}|128.55.12.118|    54156| 128.55.12.10|        53|BB4463BD-1BC8-823...|\n",
       "|{{37}, 3120B2A9-0...|          null|      {17}|128.55.12.118|    54156| 128.55.12.10|        53|E8D7B8F4-057E-960...|\n",
       "|{{38}, 3120B2A9-0...|          null|      {17}|128.55.12.118|    54156| 128.55.12.10|        53|0A6888E6-7D2A-825...|\n",
       "|{{16}, 3120B2A9-0...|          null|      {17}|128.55.12.118|    41938| 128.55.12.10|        53|D994B363-62A7-1BD...|\n",
       "|{{882464}, 3120B2...|          null|      {17}|      0.0.0.0|     5353|128.55.12.170|      5353|E7A79A89-D42F-91A...|\n",
       "|{{890798}, 3120B2...|          null|      {17}|      0.0.0.0|     5353|128.55.12.171|      5353|59B07B62-2747-EF7...|\n",
       "|{{571345}, 3120B2...|          null|      {17}|      0.0.0.0|     5353|128.55.12.172|      5353|240EEA60-55F1-7FA...|\n",
       "|{{890799}, 3120B2...|          null|      {17}|      0.0.0.0|     5353|128.55.12.171|      5353|BBF9EEF0-CF5C-2A3...|\n",
       "|{{882465}, 3120B2...|          null|      {17}|      0.0.0.0|     5353|128.55.12.170|      5353|87ED1A1C-9518-B03...|\n",
       "|{{890800}, 3120B2...|          null|      {17}|      0.0.0.0|     5353|128.55.12.171|      5353|6C0B9B75-748C-F94...|\n",
       "+--------------------+--------------+----------+-------------+---------+-------------+----------+--------------------+\n",
       "only showing top 20 rows"
      ]
     },
     "execution_count": 65,
     "metadata": {},
     "output_type": "execute_result"
    }
   ],
   "source": [
    "sockets_all = df.select(\"datum.*\").select(\"`com.bbn.tc.schema.avro.cdm18.NetFlowObject`\").withColumnRenamed(\"com.bbn.tc.schema.avro.cdm18.NetFlowObject\", \"socket\").select(\"socket.*\")\n",
    "sockets_all = sockets_all.filter('uuid IS NOT NULL')\n",
    "sockets_all"
   ]
  },
  {
   "cell_type": "code",
   "execution_count": 67,
   "id": "c60c3b29-676f-4aef-ad3b-30d62bcf6b4f",
   "metadata": {},
   "outputs": [
    {
     "name": "stderr",
     "output_type": "stream",
     "text": [
      "                                                                                \r"
     ]
    },
    {
     "data": {
      "text/plain": [
       "20"
      ]
     },
     "execution_count": 67,
     "metadata": {},
     "output_type": "execute_result"
    }
   ],
   "source": [
    "unique_users = subjects_10th.select('localPrincipal').distinct()\n",
    "unique_users.count()"
   ]
  },
  {
   "cell_type": "code",
   "execution_count": 68,
   "id": "b34bd7da-1f49-4a39-949c-f0cc80547a5e",
   "metadata": {},
   "outputs": [
    {
     "name": "stderr",
     "output_type": "stream",
     "text": [
      "                                                                                \r"
     ]
    },
    {
     "data": {
      "text/plain": [
       "1159603"
      ]
     },
     "execution_count": 68,
     "metadata": {},
     "output_type": "execute_result"
    }
   ],
   "source": [
    "files_all.count()"
   ]
  },
  {
   "cell_type": "code",
   "execution_count": 69,
   "id": "a4f4e21c-aa83-4ae5-99f3-b7dd448aae5b",
   "metadata": {},
   "outputs": [
    {
     "name": "stderr",
     "output_type": "stream",
     "text": [
      "                                                                                \r"
     ]
    },
    {
     "data": {
      "text/plain": [
       "4206479"
      ]
     },
     "execution_count": 69,
     "metadata": {},
     "output_type": "execute_result"
    }
   ],
   "source": [
    "sockets_all.count()"
   ]
  },
  {
   "cell_type": "code",
   "execution_count": 70,
   "id": "703efe9a-e2c2-4dd9-877a-1ba640afbb4e",
   "metadata": {},
   "outputs": [],
   "source": [
    "trace_red_labels = []\n",
    "with open('../groundtruth_threaTrace/trace.txt', 'r') as f:\n",
    "    trace_red_labels = f.read().splitlines()"
   ]
  },
  {
   "cell_type": "code",
   "execution_count": 89,
   "id": "e7d131ab-e260-4804-bd37-0843923c75a9",
   "metadata": {},
   "outputs": [],
   "source": [
    "red_uuids = str(\"('\" + \"', '\".join(trace_red_labels) + \"')\")"
   ]
  },
  {
   "cell_type": "code",
   "execution_count": 90,
   "id": "7c5b3835-d13b-4a35-8f94-28516abb8bd0",
   "metadata": {},
   "outputs": [
    {
     "name": "stdout",
     "output_type": "stream",
     "text": [
      "root\n",
      " |-- hostId: string (nullable = true)\n",
      " |-- location: struct (nullable = true)\n",
      " |    |-- long: long (nullable = true)\n",
      " |-- name: string (nullable = true)\n",
      " |-- parameters: string (nullable = true)\n",
      " |-- predicateObject: struct (nullable = true)\n",
      " |    |-- com.bbn.tc.schema.avro.cdm18.UUID: string (nullable = true)\n",
      " |-- predicateObject2: struct (nullable = true)\n",
      " |    |-- com.bbn.tc.schema.avro.cdm18.UUID: string (nullable = true)\n",
      " |-- predicateObject2Path: struct (nullable = true)\n",
      " |    |-- string: string (nullable = true)\n",
      " |-- predicateObjectPath: struct (nullable = true)\n",
      " |    |-- string: string (nullable = true)\n",
      " |-- programPoint: string (nullable = true)\n",
      " |-- properties: struct (nullable = true)\n",
      " |    |-- map: struct (nullable = true)\n",
      " |    |    |-- flags: string (nullable = true)\n",
      " |    |    |-- mode: string (nullable = true)\n",
      " |    |    |-- operation: string (nullable = true)\n",
      " |    |    |-- opm: string (nullable = true)\n",
      " |    |    |-- protection: string (nullable = true)\n",
      " |-- sequence: struct (nullable = true)\n",
      " |    |-- long: long (nullable = true)\n",
      " |-- size: struct (nullable = true)\n",
      " |    |-- long: long (nullable = true)\n",
      " |-- subject: struct (nullable = true)\n",
      " |    |-- com.bbn.tc.schema.avro.cdm18.UUID: string (nullable = true)\n",
      " |-- threadId: struct (nullable = true)\n",
      " |    |-- int: long (nullable = true)\n",
      " |-- timestampNanos: long (nullable = true)\n",
      " |-- type: string (nullable = true)\n",
      " |-- uuid: string (nullable = true)\n",
      "\n"
     ]
    }
   ],
   "source": [
    "events_10th.printSchema()"
   ]
  },
  {
   "cell_type": "code",
   "execution_count": 91,
   "id": "92bee6e3-c756-477e-92af-5a0aefe2c755",
   "metadata": {},
   "outputs": [
    {
     "name": "stdout",
     "output_type": "stream",
     "text": [
      "23/02/01 11:12:57 WARN DAGScheduler: Broadcasting large task binary with size 5.7 MiB\n"
     ]
    },
    {
     "name": "stderr",
     "output_type": "stream",
     "text": [
      "                                                                                \r"
     ]
    },
    {
     "name": "stdout",
     "output_type": "stream",
     "text": [
      "23/02/01 11:13:00 WARN DAGScheduler: Broadcasting large task binary with size 5.7 MiB\n"
     ]
    },
    {
     "name": "stderr",
     "output_type": "stream",
     "text": [
      "                                                                                \r"
     ]
    },
    {
     "name": "stdout",
     "output_type": "stream",
     "text": [
      "23/02/01 11:13:03 WARN DAGScheduler: Broadcasting large task binary with size 5.7 MiB\n"
     ]
    },
    {
     "name": "stderr",
     "output_type": "stream",
     "text": [
      "                                                                                \r"
     ]
    },
    {
     "name": "stdout",
     "output_type": "stream",
     "text": [
      "23/02/01 11:13:07 WARN DAGScheduler: Broadcasting large task binary with size 5.7 MiB\n"
     ]
    },
    {
     "name": "stderr",
     "output_type": "stream",
     "text": [
      "                                                                                \r"
     ]
    },
    {
     "name": "stdout",
     "output_type": "stream",
     "text": [
      "23/02/01 11:13:28 WARN DAGScheduler: Broadcasting large task binary with size 5.7 MiB\n"
     ]
    },
    {
     "name": "stderr",
     "output_type": "stream",
     "text": [
      "                                                                                \r"
     ]
    },
    {
     "name": "stdout",
     "output_type": "stream",
     "text": [
      "23/02/01 11:15:07 WARN DAGScheduler: Broadcasting large task binary with size 5.7 MiB\n"
     ]
    },
    {
     "name": "stderr",
     "output_type": "stream",
     "text": [
      "                                                                                \r"
     ]
    },
    {
     "name": "stdout",
     "output_type": "stream",
     "text": [
      "23/02/01 11:23:15 WARN DAGScheduler: Broadcasting large task binary with size 5.7 MiB\n"
     ]
    },
    {
     "name": "stderr",
     "output_type": "stream",
     "text": [
      "                                                                                \r"
     ]
    },
    {
     "name": "stdout",
     "output_type": "stream",
     "text": [
      "23/02/01 11:29:34 WARN DAGScheduler: Broadcasting large task binary with size 5.7 MiB\n"
     ]
    },
    {
     "name": "stderr",
     "output_type": "stream",
     "text": [
      "                                                                                \r"
     ]
    },
    {
     "name": "stdout",
     "output_type": "stream",
     "text": [
      "23/02/01 11:29:36 WARN DAGScheduler: Broadcasting large task binary with size 5.7 MiB\n"
     ]
    },
    {
     "name": "stderr",
     "output_type": "stream",
     "text": [
      "                                                                                \r"
     ]
    },
    {
     "name": "stdout",
     "output_type": "stream",
     "text": [
      "23/02/01 11:29:40 WARN DAGScheduler: Broadcasting large task binary with size 5.7 MiB\n"
     ]
    },
    {
     "name": "stderr",
     "output_type": "stream",
     "text": [
      "                                                                                \r"
     ]
    },
    {
     "name": "stdout",
     "output_type": "stream",
     "text": [
      "23/02/01 11:29:44 WARN DAGScheduler: Broadcasting large task binary with size 5.7 MiB\n"
     ]
    },
    {
     "name": "stderr",
     "output_type": "stream",
     "text": [
      "                                                                                \r"
     ]
    },
    {
     "name": "stdout",
     "output_type": "stream",
     "text": [
      "23/02/01 11:30:06 WARN DAGScheduler: Broadcasting large task binary with size 5.7 MiB\n"
     ]
    },
    {
     "name": "stderr",
     "output_type": "stream",
     "text": [
      "                                                                                \r"
     ]
    },
    {
     "name": "stdout",
     "output_type": "stream",
     "text": [
      "23/02/01 11:31:47 WARN DAGScheduler: Broadcasting large task binary with size 5.7 MiB\n"
     ]
    },
    {
     "name": "stderr",
     "output_type": "stream",
     "text": [
      "                                                                                \r"
     ]
    },
    {
     "name": "stdout",
     "output_type": "stream",
     "text": [
      "23/02/01 11:39:55 WARN DAGScheduler: Broadcasting large task binary with size 5.7 MiB\n"
     ]
    },
    {
     "name": "stderr",
     "output_type": "stream",
     "text": [
      "                                                                                \r"
     ]
    },
    {
     "data": {
      "text/html": [
       "<table border='1'>\n",
       "<tr><th>hostId</th><th>location</th><th>name</th><th>parameters</th><th>predicateObject</th><th>predicateObject2</th><th>predicateObject2Path</th><th>predicateObjectPath</th><th>programPoint</th><th>properties</th><th>sequence</th><th>size</th><th>subject</th><th>threadId</th><th>timestampNanos</th><th>type</th><th>uuid</th></tr>\n",
       "</table>\n"
      ],
      "text/plain": [
       "+------+--------+----+----------+---------------+----------------+--------------------+-------------------+------------+----------+--------+----+-------+--------+--------------+----+----+\n",
       "|hostId|location|name|parameters|predicateObject|predicateObject2|predicateObject2Path|predicateObjectPath|programPoint|properties|sequence|size|subject|threadId|timestampNanos|type|uuid|\n",
       "+------+--------+----+----------+---------------+----------------+--------------------+-------------------+------------+----------+--------+----+-------+--------+--------------+----+----+\n",
       "+------+--------+----+----------+---------------+----------------+--------------------+-------------------+------------+----------+--------+----+-------+--------+--------------+----+----+"
      ]
     },
     "execution_count": 91,
     "metadata": {},
     "output_type": "execute_result"
    }
   ],
   "source": [
    "red_events_10th = events_10th.filter('uuid IN ' + red_uuids)\n",
    "red_events_10th"
   ]
  },
  {
   "cell_type": "code",
   "execution_count": 92,
   "id": "f768eab5-447c-4c13-ac24-e407420eaddb",
   "metadata": {},
   "outputs": [
    {
     "name": "stderr",
     "output_type": "stream",
     "text": [
      "                                                                                \r"
     ]
    },
    {
     "data": {
      "text/plain": [
       "1"
      ]
     },
     "execution_count": 92,
     "metadata": {},
     "output_type": "execute_result"
    }
   ],
   "source": [
    "unique_hosts = subjects_10th.select('hostId').distinct()\n",
    "unique_hosts.count()"
   ]
  },
  {
   "cell_type": "code",
   "execution_count": 93,
   "id": "dcfd7e36-5dc2-4a45-a060-5a1e9e895a4e",
   "metadata": {},
   "outputs": [
    {
     "name": "stdout",
     "output_type": "stream",
     "text": [
      "23/02/01 12:01:16 WARN DAGScheduler: Broadcasting large task binary with size 5.7 MiB\n"
     ]
    },
    {
     "name": "stderr",
     "output_type": "stream",
     "text": [
      "                                                                                \r"
     ]
    },
    {
     "data": {
      "text/plain": [
       "0"
      ]
     },
     "execution_count": 93,
     "metadata": {},
     "output_type": "execute_result"
    }
   ],
   "source": [
    "red_events_10th.count()"
   ]
  },
  {
   "cell_type": "code",
   "execution_count": 94,
   "id": "e24b3fa3-453f-4213-8a95-2027b77564cd",
   "metadata": {},
   "outputs": [
    {
     "name": "stdout",
     "output_type": "stream",
     "text": [
      "root\n",
      " |-- cid: long (nullable = true)\n",
      " |-- cmdLine: struct (nullable = true)\n",
      " |    |-- string: string (nullable = true)\n",
      " |-- count: struct (nullable = true)\n",
      " |    |-- int: long (nullable = true)\n",
      " |-- exportedLibraries: string (nullable = true)\n",
      " |-- hostId: string (nullable = true)\n",
      " |-- importedLibraries: string (nullable = true)\n",
      " |-- iteration: struct (nullable = true)\n",
      " |    |-- int: long (nullable = true)\n",
      " |-- localPrincipal: string (nullable = true)\n",
      " |-- parentSubject: struct (nullable = true)\n",
      " |    |-- com.bbn.tc.schema.avro.cdm18.UUID: string (nullable = true)\n",
      " |-- privilegeLevel: string (nullable = true)\n",
      " |-- properties: struct (nullable = true)\n",
      " |    |-- map: struct (nullable = true)\n",
      " |    |    |-- cwd: string (nullable = true)\n",
      " |    |    |-- name: string (nullable = true)\n",
      " |    |    |-- ppid: string (nullable = true)\n",
      " |    |    |-- seen time: string (nullable = true)\n",
      " |-- startTimestampNanos: long (nullable = true)\n",
      " |-- type: string (nullable = true)\n",
      " |-- unitId: struct (nullable = true)\n",
      " |    |-- int: long (nullable = true)\n",
      " |-- uuid: string (nullable = true)\n",
      "\n"
     ]
    }
   ],
   "source": [
    "subjects_10th.printSchema()"
   ]
  },
  {
   "cell_type": "code",
   "execution_count": 95,
   "id": "2db2c835-7f38-4041-8530-fae47a9f4a5d",
   "metadata": {},
   "outputs": [
    {
     "name": "stdout",
     "output_type": "stream",
     "text": [
      "root\n",
      " |-- baseObject: struct (nullable = true)\n",
      " |    |-- epoch: struct (nullable = true)\n",
      " |    |    |-- int: long (nullable = true)\n",
      " |    |-- hostId: string (nullable = true)\n",
      " |    |-- permission: struct (nullable = true)\n",
      " |    |    |-- com.bbn.tc.schema.avro.cdm18.SHORT: string (nullable = true)\n",
      " |    |-- properties: struct (nullable = true)\n",
      " |    |    |-- map: struct (nullable = true)\n",
      " |    |    |    |-- path: string (nullable = true)\n",
      " |-- fileDescriptor: string (nullable = true)\n",
      " |-- hashes: string (nullable = true)\n",
      " |-- localPrincipal: string (nullable = true)\n",
      " |-- peInfo: string (nullable = true)\n",
      " |-- size: string (nullable = true)\n",
      " |-- type: string (nullable = true)\n",
      " |-- uuid: string (nullable = true)\n",
      "\n"
     ]
    }
   ],
   "source": [
    "files_all.printSchema()"
   ]
  },
  {
   "cell_type": "code",
   "execution_count": 96,
   "id": "08d225e5-8179-4c93-a48e-b365798ab508",
   "metadata": {},
   "outputs": [
    {
     "name": "stdout",
     "output_type": "stream",
     "text": [
      "root\n",
      " |-- baseObject: struct (nullable = true)\n",
      " |    |-- epoch: struct (nullable = true)\n",
      " |    |    |-- int: long (nullable = true)\n",
      " |    |-- hostId: string (nullable = true)\n",
      " |    |-- permission: string (nullable = true)\n",
      " |-- fileDescriptor: string (nullable = true)\n",
      " |-- ipProtocol: struct (nullable = true)\n",
      " |    |-- int: long (nullable = true)\n",
      " |-- localAddress: string (nullable = true)\n",
      " |-- localPort: long (nullable = true)\n",
      " |-- remoteAddress: string (nullable = true)\n",
      " |-- remotePort: long (nullable = true)\n",
      " |-- uuid: string (nullable = true)\n",
      "\n"
     ]
    }
   ],
   "source": [
    "sockets_all.printSchema()"
   ]
  },
  {
   "cell_type": "code",
   "execution_count": 97,
   "id": "17c062b3-0303-4798-bc38-f7cb50875594",
   "metadata": {},
   "outputs": [
    {
     "name": "stdout",
     "output_type": "stream",
     "text": [
      "23/02/01 12:48:02 WARN DAGScheduler: Broadcasting large task binary with size 5.7 MiB\n"
     ]
    },
    {
     "name": "stderr",
     "output_type": "stream",
     "text": [
      "                                                                                \r"
     ]
    },
    {
     "name": "stdout",
     "output_type": "stream",
     "text": [
      "23/02/01 12:48:05 WARN DAGScheduler: Broadcasting large task binary with size 5.7 MiB\n"
     ]
    },
    {
     "name": "stderr",
     "output_type": "stream",
     "text": [
      "                                                                                \r"
     ]
    },
    {
     "name": "stdout",
     "output_type": "stream",
     "text": [
      "23/02/01 12:48:09 WARN DAGScheduler: Broadcasting large task binary with size 5.7 MiB\n"
     ]
    },
    {
     "name": "stderr",
     "output_type": "stream",
     "text": [
      "                                                                                \r"
     ]
    },
    {
     "name": "stdout",
     "output_type": "stream",
     "text": [
      "23/02/01 12:48:14 WARN DAGScheduler: Broadcasting large task binary with size 5.7 MiB\n"
     ]
    },
    {
     "name": "stderr",
     "output_type": "stream",
     "text": [
      "                                                                                \r"
     ]
    },
    {
     "name": "stdout",
     "output_type": "stream",
     "text": [
      "23/02/01 12:48:35 WARN DAGScheduler: Broadcasting large task binary with size 5.7 MiB\n"
     ]
    },
    {
     "name": "stderr",
     "output_type": "stream",
     "text": [
      "                                                                                \r"
     ]
    },
    {
     "name": "stdout",
     "output_type": "stream",
     "text": [
      "23/02/01 12:50:16 WARN DAGScheduler: Broadcasting large task binary with size 5.7 MiB\n"
     ]
    },
    {
     "name": "stderr",
     "output_type": "stream",
     "text": [
      "                                                                                \r"
     ]
    },
    {
     "name": "stdout",
     "output_type": "stream",
     "text": [
      "23/02/01 12:50:47 WARN DAGScheduler: Broadcasting large task binary with size 5.7 MiB\n"
     ]
    },
    {
     "name": "stderr",
     "output_type": "stream",
     "text": [
      "                                                                                \r"
     ]
    },
    {
     "name": "stdout",
     "output_type": "stream",
     "text": [
      "23/02/01 12:51:28 WARN DAGScheduler: Broadcasting large task binary with size 5.7 MiB\n"
     ]
    },
    {
     "name": "stderr",
     "output_type": "stream",
     "text": [
      "                                                                                \r"
     ]
    },
    {
     "name": "stdout",
     "output_type": "stream",
     "text": [
      "23/02/01 12:52:41 WARN DAGScheduler: Broadcasting large task binary with size 5.7 MiB\n"
     ]
    },
    {
     "name": "stderr",
     "output_type": "stream",
     "text": [
      "                                                                                \r"
     ]
    },
    {
     "name": "stdout",
     "output_type": "stream",
     "text": [
      "23/02/01 12:53:47 WARN DAGScheduler: Broadcasting large task binary with size 5.7 MiB\n"
     ]
    },
    {
     "name": "stderr",
     "output_type": "stream",
     "text": [
      "                                                                                \r"
     ]
    },
    {
     "name": "stdout",
     "output_type": "stream",
     "text": [
      "23/02/01 12:55:06 WARN DAGScheduler: Broadcasting large task binary with size 5.7 MiB\n"
     ]
    },
    {
     "name": "stderr",
     "output_type": "stream",
     "text": [
      "                                                                                \r"
     ]
    },
    {
     "name": "stdout",
     "output_type": "stream",
     "text": [
      "23/02/01 12:56:43 WARN DAGScheduler: Broadcasting large task binary with size 5.7 MiB\n"
     ]
    },
    {
     "name": "stderr",
     "output_type": "stream",
     "text": [
      "                                                                                \r"
     ]
    },
    {
     "name": "stdout",
     "output_type": "stream",
     "text": [
      "23/02/01 12:58:44 WARN DAGScheduler: Broadcasting large task binary with size 5.7 MiB\n"
     ]
    },
    {
     "name": "stderr",
     "output_type": "stream",
     "text": [
      "                                                                                \r"
     ]
    },
    {
     "name": "stdout",
     "output_type": "stream",
     "text": [
      "23/02/01 13:01:13 WARN DAGScheduler: Broadcasting large task binary with size 5.7 MiB\n"
     ]
    },
    {
     "name": "stderr",
     "output_type": "stream",
     "text": [
      "                                                                                \r"
     ]
    },
    {
     "name": "stdout",
     "output_type": "stream",
     "text": [
      "23/02/01 13:04:19 WARN DAGScheduler: Broadcasting large task binary with size 5.7 MiB\n"
     ]
    },
    {
     "name": "stderr",
     "output_type": "stream",
     "text": [
      "                                                                                \r"
     ]
    },
    {
     "name": "stdout",
     "output_type": "stream",
     "text": [
      "23/02/01 13:05:43 WARN DAGScheduler: Broadcasting large task binary with size 5.7 MiB\n"
     ]
    },
    {
     "name": "stderr",
     "output_type": "stream",
     "text": [
      "                                                                                \r"
     ]
    },
    {
     "name": "stdout",
     "output_type": "stream",
     "text": [
      "23/02/01 13:05:46 WARN DAGScheduler: Broadcasting large task binary with size 5.7 MiB\n"
     ]
    },
    {
     "name": "stderr",
     "output_type": "stream",
     "text": [
      "                                                                                \r"
     ]
    },
    {
     "name": "stdout",
     "output_type": "stream",
     "text": [
      "23/02/01 13:05:49 WARN DAGScheduler: Broadcasting large task binary with size 5.7 MiB\n"
     ]
    },
    {
     "name": "stderr",
     "output_type": "stream",
     "text": [
      "                                                                                \r"
     ]
    },
    {
     "name": "stdout",
     "output_type": "stream",
     "text": [
      "23/02/01 13:05:54 WARN DAGScheduler: Broadcasting large task binary with size 5.7 MiB\n"
     ]
    },
    {
     "name": "stderr",
     "output_type": "stream",
     "text": [
      "                                                                                \r"
     ]
    },
    {
     "name": "stdout",
     "output_type": "stream",
     "text": [
      "23/02/01 13:06:15 WARN DAGScheduler: Broadcasting large task binary with size 5.7 MiB\n"
     ]
    },
    {
     "name": "stderr",
     "output_type": "stream",
     "text": [
      "                                                                                \r"
     ]
    },
    {
     "name": "stdout",
     "output_type": "stream",
     "text": [
      "23/02/01 13:07:55 WARN DAGScheduler: Broadcasting large task binary with size 5.7 MiB\n"
     ]
    },
    {
     "name": "stderr",
     "output_type": "stream",
     "text": [
      "                                                                                \r"
     ]
    },
    {
     "name": "stdout",
     "output_type": "stream",
     "text": [
      "23/02/01 13:08:26 WARN DAGScheduler: Broadcasting large task binary with size 5.7 MiB\n"
     ]
    },
    {
     "name": "stderr",
     "output_type": "stream",
     "text": [
      "                                                                                \r"
     ]
    },
    {
     "name": "stdout",
     "output_type": "stream",
     "text": [
      "23/02/01 13:09:08 WARN DAGScheduler: Broadcasting large task binary with size 5.7 MiB\n"
     ]
    },
    {
     "name": "stderr",
     "output_type": "stream",
     "text": [
      "                                                                                \r"
     ]
    },
    {
     "name": "stdout",
     "output_type": "stream",
     "text": [
      "23/02/01 13:09:59 WARN DAGScheduler: Broadcasting large task binary with size 5.7 MiB\n"
     ]
    },
    {
     "name": "stderr",
     "output_type": "stream",
     "text": [
      "                                                                                \r"
     ]
    },
    {
     "name": "stdout",
     "output_type": "stream",
     "text": [
      "23/02/01 13:11:04 WARN DAGScheduler: Broadcasting large task binary with size 5.7 MiB\n"
     ]
    },
    {
     "name": "stderr",
     "output_type": "stream",
     "text": [
      "                                                                                \r"
     ]
    },
    {
     "name": "stdout",
     "output_type": "stream",
     "text": [
      "23/02/01 13:12:23 WARN DAGScheduler: Broadcasting large task binary with size 5.7 MiB\n"
     ]
    },
    {
     "name": "stderr",
     "output_type": "stream",
     "text": [
      "                                                                                \r"
     ]
    },
    {
     "name": "stdout",
     "output_type": "stream",
     "text": [
      "23/02/01 13:14:01 WARN DAGScheduler: Broadcasting large task binary with size 5.7 MiB\n"
     ]
    },
    {
     "name": "stderr",
     "output_type": "stream",
     "text": [
      "                                                                                \r"
     ]
    },
    {
     "name": "stdout",
     "output_type": "stream",
     "text": [
      "23/02/01 13:16:03 WARN DAGScheduler: Broadcasting large task binary with size 5.7 MiB\n"
     ]
    },
    {
     "name": "stderr",
     "output_type": "stream",
     "text": [
      "                                                                                \r"
     ]
    },
    {
     "name": "stdout",
     "output_type": "stream",
     "text": [
      "23/02/01 13:18:32 WARN DAGScheduler: Broadcasting large task binary with size 5.7 MiB\n"
     ]
    },
    {
     "name": "stderr",
     "output_type": "stream",
     "text": [
      "                                                                                \r"
     ]
    },
    {
     "name": "stdout",
     "output_type": "stream",
     "text": [
      "23/02/01 13:21:40 WARN DAGScheduler: Broadcasting large task binary with size 5.7 MiB\n"
     ]
    },
    {
     "name": "stderr",
     "output_type": "stream",
     "text": [
      "                                                                                \r"
     ]
    },
    {
     "data": {
      "text/html": [
       "<table border='1'>\n",
       "<tr><th>baseObject</th><th>fileDescriptor</th><th>hashes</th><th>localPrincipal</th><th>peInfo</th><th>size</th><th>type</th><th>uuid</th></tr>\n",
       "<tr><td>{{0}, E621F964-5A...</td><td>null</td><td>null</td><td>null</td><td>null</td><td>null</td><td>FILE_OBJECT_FILE</td><td>49463062-60DC-4F2...</td></tr>\n",
       "<tr><td>{{0}, E621F964-5A...</td><td>null</td><td>null</td><td>null</td><td>null</td><td>null</td><td>FILE_OBJECT_FILE</td><td>3FAC9ED8-FB1F-F59...</td></tr>\n",
       "<tr><td>{{0}, E621F964-5A...</td><td>null</td><td>null</td><td>null</td><td>null</td><td>null</td><td>FILE_OBJECT_FILE</td><td>ADCB354C-BAA9-51E...</td></tr>\n",
       "<tr><td>{{0}, E621F964-5A...</td><td>null</td><td>null</td><td>null</td><td>null</td><td>null</td><td>FILE_OBJECT_FILE</td><td>7AC6F45A-FA2D-0FF...</td></tr>\n",
       "<tr><td>{{0}, E621F964-5A...</td><td>null</td><td>null</td><td>null</td><td>null</td><td>null</td><td>FILE_OBJECT_DIR</td><td>6FC69B3D-1E90-223...</td></tr>\n",
       "<tr><td>{{0}, E621F964-5A...</td><td>null</td><td>null</td><td>null</td><td>null</td><td>null</td><td>FILE_OBJECT_FILE</td><td>93E0C854-95A4-FE1...</td></tr>\n",
       "<tr><td>{{0}, E621F964-5A...</td><td>null</td><td>null</td><td>null</td><td>null</td><td>null</td><td>FILE_OBJECT_FILE</td><td>96FE4223-D38F-9D4...</td></tr>\n",
       "<tr><td>{{0}, E621F964-5A...</td><td>null</td><td>null</td><td>null</td><td>null</td><td>null</td><td>FILE_OBJECT_FILE</td><td>3C8B4DE3-9032-391...</td></tr>\n",
       "<tr><td>{{1}, E621F964-5A...</td><td>null</td><td>null</td><td>null</td><td>null</td><td>null</td><td>FILE_OBJECT_FILE</td><td>50FB8D0F-2D9E-7C6...</td></tr>\n",
       "<tr><td>{{1}, E621F964-5A...</td><td>null</td><td>null</td><td>null</td><td>null</td><td>null</td><td>FILE_OBJECT_FILE</td><td>BBC43AE7-8DF9-49D...</td></tr>\n",
       "<tr><td>{{1}, E621F964-5A...</td><td>null</td><td>null</td><td>null</td><td>null</td><td>null</td><td>FILE_OBJECT_FILE</td><td>B7A43D04-0571-D19...</td></tr>\n",
       "<tr><td>{{0}, E621F964-5A...</td><td>null</td><td>null</td><td>null</td><td>null</td><td>null</td><td>FILE_OBJECT_CHAR</td><td>298C5C47-49C3-7A6...</td></tr>\n",
       "<tr><td>{{0}, E621F964-5A...</td><td>null</td><td>null</td><td>null</td><td>null</td><td>null</td><td>FILE_OBJECT_FILE</td><td>964D9E8C-C3C8-5C0...</td></tr>\n",
       "<tr><td>{{0}, E621F964-5A...</td><td>null</td><td>null</td><td>null</td><td>null</td><td>null</td><td>FILE_OBJECT_FILE</td><td>7169B097-1601-297...</td></tr>\n",
       "<tr><td>{{0}, 3120B2A9-05...</td><td>null</td><td>null</td><td>null</td><td>null</td><td>null</td><td>FILE_OBJECT_FILE</td><td>3FAC9ED8-FB1F-F59...</td></tr>\n",
       "<tr><td>{{0}, 3120B2A9-05...</td><td>null</td><td>null</td><td>null</td><td>null</td><td>null</td><td>FILE_OBJECT_FILE</td><td>7AC6F45A-FA2D-0FF...</td></tr>\n",
       "<tr><td>{{0}, 3120B2A9-05...</td><td>null</td><td>null</td><td>null</td><td>null</td><td>null</td><td>FILE_OBJECT_FILE</td><td>49463062-60DC-4F2...</td></tr>\n",
       "<tr><td>{{0}, 3120B2A9-05...</td><td>null</td><td>null</td><td>null</td><td>null</td><td>null</td><td>FILE_OBJECT_FILE</td><td>ADCB354C-BAA9-51E...</td></tr>\n",
       "<tr><td>{{0}, 3120B2A9-05...</td><td>null</td><td>null</td><td>null</td><td>null</td><td>null</td><td>FILE_OBJECT_DIR</td><td>6FC69B3D-1E90-223...</td></tr>\n",
       "</table>\n"
      ],
      "text/plain": [
       "+--------------------+--------------+------+--------------+------+----+----------------+--------------------+\n",
       "|          baseObject|fileDescriptor|hashes|localPrincipal|peInfo|size|            type|                uuid|\n",
       "+--------------------+--------------+------+--------------+------+----+----------------+--------------------+\n",
       "|{{0}, E621F964-5A...|          null|  null|          null|  null|null|FILE_OBJECT_FILE|49463062-60DC-4F2...|\n",
       "|{{0}, E621F964-5A...|          null|  null|          null|  null|null|FILE_OBJECT_FILE|3FAC9ED8-FB1F-F59...|\n",
       "|{{0}, E621F964-5A...|          null|  null|          null|  null|null|FILE_OBJECT_FILE|ADCB354C-BAA9-51E...|\n",
       "|{{0}, E621F964-5A...|          null|  null|          null|  null|null|FILE_OBJECT_FILE|7AC6F45A-FA2D-0FF...|\n",
       "|{{0}, E621F964-5A...|          null|  null|          null|  null|null| FILE_OBJECT_DIR|6FC69B3D-1E90-223...|\n",
       "|{{0}, E621F964-5A...|          null|  null|          null|  null|null|FILE_OBJECT_FILE|93E0C854-95A4-FE1...|\n",
       "|{{0}, E621F964-5A...|          null|  null|          null|  null|null|FILE_OBJECT_FILE|96FE4223-D38F-9D4...|\n",
       "|{{0}, E621F964-5A...|          null|  null|          null|  null|null|FILE_OBJECT_FILE|3C8B4DE3-9032-391...|\n",
       "|{{1}, E621F964-5A...|          null|  null|          null|  null|null|FILE_OBJECT_FILE|50FB8D0F-2D9E-7C6...|\n",
       "|{{1}, E621F964-5A...|          null|  null|          null|  null|null|FILE_OBJECT_FILE|BBC43AE7-8DF9-49D...|\n",
       "|{{1}, E621F964-5A...|          null|  null|          null|  null|null|FILE_OBJECT_FILE|B7A43D04-0571-D19...|\n",
       "|{{0}, E621F964-5A...|          null|  null|          null|  null|null|FILE_OBJECT_CHAR|298C5C47-49C3-7A6...|\n",
       "|{{0}, E621F964-5A...|          null|  null|          null|  null|null|FILE_OBJECT_FILE|964D9E8C-C3C8-5C0...|\n",
       "|{{0}, E621F964-5A...|          null|  null|          null|  null|null|FILE_OBJECT_FILE|7169B097-1601-297...|\n",
       "|{{0}, 3120B2A9-05...|          null|  null|          null|  null|null|FILE_OBJECT_FILE|3FAC9ED8-FB1F-F59...|\n",
       "|{{0}, 3120B2A9-05...|          null|  null|          null|  null|null|FILE_OBJECT_FILE|7AC6F45A-FA2D-0FF...|\n",
       "|{{0}, 3120B2A9-05...|          null|  null|          null|  null|null|FILE_OBJECT_FILE|49463062-60DC-4F2...|\n",
       "|{{0}, 3120B2A9-05...|          null|  null|          null|  null|null|FILE_OBJECT_FILE|ADCB354C-BAA9-51E...|\n",
       "|{{0}, 3120B2A9-05...|          null|  null|          null|  null|null| FILE_OBJECT_DIR|6FC69B3D-1E90-223...|\n",
       "+--------------------+--------------+------+--------------+------+----+----------------+--------------------+"
      ]
     },
     "execution_count": 97,
     "metadata": {},
     "output_type": "execute_result"
    }
   ],
   "source": [
    "red_files = files_all.filter('uuid IN ' + red_uuids)\n",
    "red_files"
   ]
  },
  {
   "cell_type": "code",
   "execution_count": 98,
   "id": "fd08a450-4968-4738-b930-e15bd3dee913",
   "metadata": {},
   "outputs": [
    {
     "name": "stdout",
     "output_type": "stream",
     "text": [
      "23/02/01 13:23:05 WARN DAGScheduler: Broadcasting large task binary with size 5.7 MiB\n"
     ]
    },
    {
     "name": "stderr",
     "output_type": "stream",
     "text": [
      "                                                                                \r"
     ]
    },
    {
     "data": {
      "text/plain": [
       "19"
      ]
     },
     "execution_count": 98,
     "metadata": {},
     "output_type": "execute_result"
    }
   ],
   "source": [
    "red_files.count()"
   ]
  },
  {
   "cell_type": "code",
   "execution_count": 100,
   "id": "3de73a90-acdf-408a-bb6a-a47573dd2818",
   "metadata": {},
   "outputs": [
    {
     "name": "stdout",
     "output_type": "stream",
     "text": [
      "23/02/01 14:11:12 WARN DAGScheduler: Broadcasting large task binary with size 5.7 MiB\n"
     ]
    },
    {
     "name": "stderr",
     "output_type": "stream",
     "text": [
      "                                                                                \r"
     ]
    },
    {
     "name": "stdout",
     "output_type": "stream",
     "text": [
      "23/02/01 14:11:15 WARN DAGScheduler: Broadcasting large task binary with size 5.7 MiB\n"
     ]
    },
    {
     "name": "stderr",
     "output_type": "stream",
     "text": [
      "                                                                                \r"
     ]
    },
    {
     "name": "stdout",
     "output_type": "stream",
     "text": [
      "23/02/01 14:11:19 WARN DAGScheduler: Broadcasting large task binary with size 5.7 MiB\n"
     ]
    },
    {
     "name": "stderr",
     "output_type": "stream",
     "text": [
      "                                                                                \r"
     ]
    },
    {
     "name": "stdout",
     "output_type": "stream",
     "text": [
      "23/02/01 14:11:24 WARN DAGScheduler: Broadcasting large task binary with size 5.7 MiB\n"
     ]
    },
    {
     "name": "stderr",
     "output_type": "stream",
     "text": [
      "                                                                                \r"
     ]
    },
    {
     "name": "stdout",
     "output_type": "stream",
     "text": [
      "23/02/01 14:11:46 WARN DAGScheduler: Broadcasting large task binary with size 5.7 MiB\n"
     ]
    },
    {
     "name": "stderr",
     "output_type": "stream",
     "text": [
      "                                                                                \r"
     ]
    },
    {
     "name": "stdout",
     "output_type": "stream",
     "text": [
      "23/02/01 14:13:32 WARN DAGScheduler: Broadcasting large task binary with size 5.7 MiB\n"
     ]
    },
    {
     "name": "stderr",
     "output_type": "stream",
     "text": [
      "                                                                                \r"
     ]
    },
    {
     "name": "stdout",
     "output_type": "stream",
     "text": [
      "23/02/01 14:22:11 WARN DAGScheduler: Broadcasting large task binary with size 5.7 MiB\n"
     ]
    },
    {
     "name": "stderr",
     "output_type": "stream",
     "text": [
      "                                                                                \r"
     ]
    },
    {
     "name": "stdout",
     "output_type": "stream",
     "text": [
      "23/02/01 14:28:55 WARN DAGScheduler: Broadcasting large task binary with size 5.7 MiB\n"
     ]
    },
    {
     "name": "stderr",
     "output_type": "stream",
     "text": [
      "                                                                                \r"
     ]
    },
    {
     "name": "stdout",
     "output_type": "stream",
     "text": [
      "23/02/01 14:28:58 WARN DAGScheduler: Broadcasting large task binary with size 5.7 MiB\n"
     ]
    },
    {
     "name": "stderr",
     "output_type": "stream",
     "text": [
      "                                                                                \r"
     ]
    },
    {
     "name": "stdout",
     "output_type": "stream",
     "text": [
      "23/02/01 14:29:01 WARN DAGScheduler: Broadcasting large task binary with size 5.7 MiB\n"
     ]
    },
    {
     "name": "stderr",
     "output_type": "stream",
     "text": [
      "                                                                                \r"
     ]
    },
    {
     "name": "stdout",
     "output_type": "stream",
     "text": [
      "23/02/01 14:29:06 WARN DAGScheduler: Broadcasting large task binary with size 5.7 MiB\n"
     ]
    },
    {
     "name": "stderr",
     "output_type": "stream",
     "text": [
      "                                                                                \r"
     ]
    },
    {
     "name": "stdout",
     "output_type": "stream",
     "text": [
      "23/02/01 14:29:29 WARN DAGScheduler: Broadcasting large task binary with size 5.7 MiB\n"
     ]
    },
    {
     "name": "stderr",
     "output_type": "stream",
     "text": [
      "                                                                                \r"
     ]
    },
    {
     "name": "stdout",
     "output_type": "stream",
     "text": [
      "23/02/01 14:31:15 WARN DAGScheduler: Broadcasting large task binary with size 5.7 MiB\n"
     ]
    },
    {
     "name": "stderr",
     "output_type": "stream",
     "text": [
      "                                                                                \r"
     ]
    },
    {
     "name": "stdout",
     "output_type": "stream",
     "text": [
      "23/02/01 14:40:00 WARN DAGScheduler: Broadcasting large task binary with size 5.7 MiB\n"
     ]
    },
    {
     "name": "stderr",
     "output_type": "stream",
     "text": [
      "                                                                                \r"
     ]
    },
    {
     "data": {
      "text/html": [
       "<table border='1'>\n",
       "<tr><th>cid</th><th>cmdLine</th><th>count</th><th>exportedLibraries</th><th>hostId</th><th>importedLibraries</th><th>iteration</th><th>localPrincipal</th><th>parentSubject</th><th>privilegeLevel</th><th>properties</th><th>startTimestampNanos</th><th>type</th><th>unitId</th><th>uuid</th></tr>\n",
       "</table>\n"
      ],
      "text/plain": [
       "+---+-------+-----+-----------------+------+-----------------+---------+--------------+-------------+--------------+----------+-------------------+----+------+----+\n",
       "|cid|cmdLine|count|exportedLibraries|hostId|importedLibraries|iteration|localPrincipal|parentSubject|privilegeLevel|properties|startTimestampNanos|type|unitId|uuid|\n",
       "+---+-------+-----+-----------------+------+-----------------+---------+--------------+-------------+--------------+----------+-------------------+----+------+----+\n",
       "+---+-------+-----+-----------------+------+-----------------+---------+--------------+-------------+--------------+----------+-------------------+----+------+----+"
      ]
     },
     "execution_count": 100,
     "metadata": {},
     "output_type": "execute_result"
    }
   ],
   "source": [
    "red_subjects_10th = subjects_10th.filter('uuid IN ' + red_uuids)\n",
    "red_subjects_10th"
   ]
  },
  {
   "cell_type": "code",
   "execution_count": 101,
   "id": "c77d6333-ed7e-4741-a5ac-f669e214d9e3",
   "metadata": {},
   "outputs": [
    {
     "name": "stdout",
     "output_type": "stream",
     "text": [
      "23/02/01 14:46:51 WARN DAGScheduler: Broadcasting large task binary with size 5.7 MiB\n"
     ]
    },
    {
     "name": "stderr",
     "output_type": "stream",
     "text": [
      "                                                                                \r"
     ]
    },
    {
     "data": {
      "text/plain": [
       "0"
      ]
     },
     "execution_count": 101,
     "metadata": {},
     "output_type": "execute_result"
    }
   ],
   "source": [
    "red_subjects_10th.count()"
   ]
  },
  {
   "cell_type": "code",
   "execution_count": 102,
   "id": "fc2f4b59-023a-4cfb-97f8-bf5b777be29d",
   "metadata": {},
   "outputs": [
    {
     "name": "stdout",
     "output_type": "stream",
     "text": [
      "23/02/01 15:04:56 WARN DAGScheduler: Broadcasting large task binary with size 5.7 MiB\n"
     ]
    },
    {
     "name": "stderr",
     "output_type": "stream",
     "text": [
      "                                                                                \r"
     ]
    },
    {
     "name": "stdout",
     "output_type": "stream",
     "text": [
      "23/02/01 15:04:59 WARN DAGScheduler: Broadcasting large task binary with size 5.7 MiB\n"
     ]
    },
    {
     "name": "stderr",
     "output_type": "stream",
     "text": [
      "                                                                                \r"
     ]
    },
    {
     "name": "stdout",
     "output_type": "stream",
     "text": [
      "23/02/01 15:05:02 WARN DAGScheduler: Broadcasting large task binary with size 5.7 MiB\n"
     ]
    },
    {
     "name": "stderr",
     "output_type": "stream",
     "text": [
      "                                                                                \r"
     ]
    },
    {
     "name": "stdout",
     "output_type": "stream",
     "text": [
      "23/02/01 15:05:09 WARN DAGScheduler: Broadcasting large task binary with size 5.7 MiB\n"
     ]
    },
    {
     "name": "stderr",
     "output_type": "stream",
     "text": [
      "                                                                                \r"
     ]
    },
    {
     "name": "stdout",
     "output_type": "stream",
     "text": [
      "23/02/01 15:05:34 WARN DAGScheduler: Broadcasting large task binary with size 5.7 MiB\n"
     ]
    },
    {
     "name": "stderr",
     "output_type": "stream",
     "text": [
      "                                                                                \r"
     ]
    },
    {
     "name": "stdout",
     "output_type": "stream",
     "text": [
      "23/02/01 15:07:31 WARN DAGScheduler: Broadcasting large task binary with size 5.7 MiB\n"
     ]
    },
    {
     "name": "stderr",
     "output_type": "stream",
     "text": [
      "                                                                                \r"
     ]
    },
    {
     "name": "stdout",
     "output_type": "stream",
     "text": [
      "23/02/01 15:07:34 WARN DAGScheduler: Broadcasting large task binary with size 5.7 MiB\n"
     ]
    },
    {
     "name": "stderr",
     "output_type": "stream",
     "text": [
      "                                                                                \r"
     ]
    },
    {
     "name": "stdout",
     "output_type": "stream",
     "text": [
      "23/02/01 15:07:37 WARN DAGScheduler: Broadcasting large task binary with size 5.7 MiB\n"
     ]
    },
    {
     "name": "stderr",
     "output_type": "stream",
     "text": [
      "                                                                                \r"
     ]
    },
    {
     "name": "stdout",
     "output_type": "stream",
     "text": [
      "23/02/01 15:07:43 WARN DAGScheduler: Broadcasting large task binary with size 5.7 MiB\n"
     ]
    },
    {
     "name": "stderr",
     "output_type": "stream",
     "text": [
      "                                                                                \r"
     ]
    },
    {
     "name": "stdout",
     "output_type": "stream",
     "text": [
      "23/02/01 15:08:09 WARN DAGScheduler: Broadcasting large task binary with size 5.7 MiB\n"
     ]
    },
    {
     "name": "stderr",
     "output_type": "stream",
     "text": [
      "                                                                                \r"
     ]
    },
    {
     "data": {
      "text/html": [
       "<table border='1'>\n",
       "<tr><th>baseObject</th><th>fileDescriptor</th><th>ipProtocol</th><th>localAddress</th><th>localPort</th><th>remoteAddress</th><th>remotePort</th><th>uuid</th></tr>\n",
       "<tr><td>{{0}, E621F964-5A...</td><td>null</td><td>{6}</td><td>128.55.12.118</td><td>59065</td><td>162.66.239.75</td><td>80</td><td>7E6F9A12-EDFA-C87...</td></tr>\n",
       "<tr><td>{{0}, E621F964-5A...</td><td>null</td><td>{6}</td><td>128.55.12.118</td><td>49701</td><td>128.55.12.73</td><td>22</td><td>87EBF3B7-6691-15A...</td></tr>\n",
       "<tr><td>{{0}, E621F964-5A...</td><td>null</td><td>{6}</td><td>128.55.12.118</td><td>42911</td><td>128.55.12.73</td><td>23</td><td>DC8E2FA9-7C85-11F...</td></tr>\n",
       "<tr><td>{{0}, E621F964-5A...</td><td>null</td><td>{6}</td><td>128.55.12.118</td><td>50608</td><td>128.55.12.73</td><td>24</td><td>E30A436D-A0AE-660...</td></tr>\n",
       "<tr><td>{{0}, E621F964-5A...</td><td>null</td><td>{6}</td><td>128.55.12.118</td><td>55040</td><td>128.55.12.73</td><td>25</td><td>94BFCBB6-5C7C-857...</td></tr>\n",
       "<tr><td>{{0}, E621F964-5A...</td><td>null</td><td>{6}</td><td>128.55.12.118</td><td>48204</td><td>128.55.12.73</td><td>26</td><td>42A3BFC6-7F80-019...</td></tr>\n",
       "<tr><td>{{0}, E621F964-5A...</td><td>null</td><td>{6}</td><td>128.55.12.118</td><td>50480</td><td>128.55.12.73</td><td>27</td><td>E76BD3D0-F400-BE7...</td></tr>\n",
       "<tr><td>{{0}, E621F964-5A...</td><td>null</td><td>{6}</td><td>128.55.12.118</td><td>59202</td><td>128.55.12.73</td><td>28</td><td>F5E07F96-EDF3-7D7...</td></tr>\n",
       "<tr><td>{{0}, E621F964-5A...</td><td>null</td><td>{6}</td><td>128.55.12.118</td><td>42089</td><td>128.55.12.73</td><td>29</td><td>BD034B68-4B7C-CD7...</td></tr>\n",
       "<tr><td>{{0}, E621F964-5A...</td><td>null</td><td>{6}</td><td>128.55.12.118</td><td>41230</td><td>128.55.12.73</td><td>30</td><td>A6DB3A81-3D40-4F0...</td></tr>\n",
       "<tr><td>{{0}, E621F964-5A...</td><td>null</td><td>{6}</td><td>128.55.12.118</td><td>45997</td><td>128.55.12.73</td><td>31</td><td>BF52EEC4-A7D8-577...</td></tr>\n",
       "<tr><td>{{0}, E621F964-5A...</td><td>null</td><td>{6}</td><td>128.55.12.118</td><td>57066</td><td>128.55.12.73</td><td>32</td><td>B36A8B95-6DA8-6F8...</td></tr>\n",
       "<tr><td>{{0}, E621F964-5A...</td><td>null</td><td>{6}</td><td>128.55.12.118</td><td>57664</td><td>128.55.12.73</td><td>33</td><td>55D327A3-131A-F20...</td></tr>\n",
       "<tr><td>{{0}, E621F964-5A...</td><td>null</td><td>{6}</td><td>128.55.12.118</td><td>36874</td><td>128.55.12.73</td><td>34</td><td>1D8DCF77-44F5-CD4...</td></tr>\n",
       "<tr><td>{{0}, E621F964-5A...</td><td>null</td><td>{6}</td><td>128.55.12.118</td><td>45688</td><td>128.55.12.73</td><td>35</td><td>CF5E026E-FB13-2E2...</td></tr>\n",
       "<tr><td>{{0}, E621F964-5A...</td><td>null</td><td>{6}</td><td>128.55.12.118</td><td>51005</td><td>128.55.12.73</td><td>36</td><td>576E77C9-5713-3D3...</td></tr>\n",
       "<tr><td>{{0}, E621F964-5A...</td><td>null</td><td>{6}</td><td>128.55.12.118</td><td>38168</td><td>128.55.12.73</td><td>37</td><td>38001166-A170-D9E...</td></tr>\n",
       "<tr><td>{{0}, E621F964-5A...</td><td>null</td><td>{6}</td><td>128.55.12.118</td><td>57618</td><td>128.55.12.73</td><td>38</td><td>8C0EB3E8-8EFF-C7E...</td></tr>\n",
       "<tr><td>{{0}, E621F964-5A...</td><td>null</td><td>{6}</td><td>128.55.12.118</td><td>56623</td><td>128.55.12.73</td><td>39</td><td>169B2E64-8A88-BC6...</td></tr>\n",
       "<tr><td>{{0}, E621F964-5A...</td><td>null</td><td>{6}</td><td>128.55.12.118</td><td>33040</td><td>128.55.12.73</td><td>40</td><td>EDCFCA7F-3773-37E...</td></tr>\n",
       "</table>\n",
       "only showing top 20 rows\n"
      ],
      "text/plain": [
       "+--------------------+--------------+----------+-------------+---------+-------------+----------+--------------------+\n",
       "|          baseObject|fileDescriptor|ipProtocol| localAddress|localPort|remoteAddress|remotePort|                uuid|\n",
       "+--------------------+--------------+----------+-------------+---------+-------------+----------+--------------------+\n",
       "|{{0}, E621F964-5A...|          null|       {6}|128.55.12.118|    59065|162.66.239.75|        80|7E6F9A12-EDFA-C87...|\n",
       "|{{0}, E621F964-5A...|          null|       {6}|128.55.12.118|    49701| 128.55.12.73|        22|87EBF3B7-6691-15A...|\n",
       "|{{0}, E621F964-5A...|          null|       {6}|128.55.12.118|    42911| 128.55.12.73|        23|DC8E2FA9-7C85-11F...|\n",
       "|{{0}, E621F964-5A...|          null|       {6}|128.55.12.118|    50608| 128.55.12.73|        24|E30A436D-A0AE-660...|\n",
       "|{{0}, E621F964-5A...|          null|       {6}|128.55.12.118|    55040| 128.55.12.73|        25|94BFCBB6-5C7C-857...|\n",
       "|{{0}, E621F964-5A...|          null|       {6}|128.55.12.118|    48204| 128.55.12.73|        26|42A3BFC6-7F80-019...|\n",
       "|{{0}, E621F964-5A...|          null|       {6}|128.55.12.118|    50480| 128.55.12.73|        27|E76BD3D0-F400-BE7...|\n",
       "|{{0}, E621F964-5A...|          null|       {6}|128.55.12.118|    59202| 128.55.12.73|        28|F5E07F96-EDF3-7D7...|\n",
       "|{{0}, E621F964-5A...|          null|       {6}|128.55.12.118|    42089| 128.55.12.73|        29|BD034B68-4B7C-CD7...|\n",
       "|{{0}, E621F964-5A...|          null|       {6}|128.55.12.118|    41230| 128.55.12.73|        30|A6DB3A81-3D40-4F0...|\n",
       "|{{0}, E621F964-5A...|          null|       {6}|128.55.12.118|    45997| 128.55.12.73|        31|BF52EEC4-A7D8-577...|\n",
       "|{{0}, E621F964-5A...|          null|       {6}|128.55.12.118|    57066| 128.55.12.73|        32|B36A8B95-6DA8-6F8...|\n",
       "|{{0}, E621F964-5A...|          null|       {6}|128.55.12.118|    57664| 128.55.12.73|        33|55D327A3-131A-F20...|\n",
       "|{{0}, E621F964-5A...|          null|       {6}|128.55.12.118|    36874| 128.55.12.73|        34|1D8DCF77-44F5-CD4...|\n",
       "|{{0}, E621F964-5A...|          null|       {6}|128.55.12.118|    45688| 128.55.12.73|        35|CF5E026E-FB13-2E2...|\n",
       "|{{0}, E621F964-5A...|          null|       {6}|128.55.12.118|    51005| 128.55.12.73|        36|576E77C9-5713-3D3...|\n",
       "|{{0}, E621F964-5A...|          null|       {6}|128.55.12.118|    38168| 128.55.12.73|        37|38001166-A170-D9E...|\n",
       "|{{0}, E621F964-5A...|          null|       {6}|128.55.12.118|    57618| 128.55.12.73|        38|8C0EB3E8-8EFF-C7E...|\n",
       "|{{0}, E621F964-5A...|          null|       {6}|128.55.12.118|    56623| 128.55.12.73|        39|169B2E64-8A88-BC6...|\n",
       "|{{0}, E621F964-5A...|          null|       {6}|128.55.12.118|    33040| 128.55.12.73|        40|EDCFCA7F-3773-37E...|\n",
       "+--------------------+--------------+----------+-------------+---------+-------------+----------+--------------------+\n",
       "only showing top 20 rows"
      ]
     },
     "execution_count": 102,
     "metadata": {},
     "output_type": "execute_result"
    }
   ],
   "source": [
    "red_sockets = sockets_all.filter('uuid IN ' + red_uuids)\n",
    "red_sockets"
   ]
  },
  {
   "cell_type": "code",
   "execution_count": 103,
   "id": "d1272c34-c159-4d8d-b14f-e0d669db480b",
   "metadata": {},
   "outputs": [
    {
     "name": "stdout",
     "output_type": "stream",
     "text": [
      "23/02/01 15:10:06 WARN DAGScheduler: Broadcasting large task binary with size 5.7 MiB\n"
     ]
    },
    {
     "name": "stderr",
     "output_type": "stream",
     "text": [
      "                                                                                \r"
     ]
    },
    {
     "data": {
      "text/plain": [
       "68061"
      ]
     },
     "execution_count": 103,
     "metadata": {},
     "output_type": "execute_result"
    }
   ],
   "source": [
    "red_sockets.count()"
   ]
  },
  {
   "cell_type": "code",
   "execution_count": 111,
   "id": "f95caa61-07bb-4c68-9220-a8c1afe10bf5",
   "metadata": {},
   "outputs": [
    {
     "name": "stderr",
     "output_type": "stream",
     "text": [
      "                                                                                \r"
     ]
    },
    {
     "data": {
      "text/plain": [
       "2"
      ]
     },
     "execution_count": 111,
     "metadata": {},
     "output_type": "execute_result"
    }
   ],
   "source": [
    "unique_hosts = sockets_all.select('baseObject.hostId').distinct()\n",
    "unique_hosts.count()"
   ]
  },
  {
   "cell_type": "code",
   "execution_count": 112,
   "id": "2637bdc1-a516-4f91-a3c5-e40ef4c87eb6",
   "metadata": {},
   "outputs": [
    {
     "data": {
      "text/plain": [
       "68265"
      ]
     },
     "execution_count": 112,
     "metadata": {},
     "output_type": "execute_result"
    }
   ],
   "source": [
    "len(trace_red_labels)"
   ]
  },
  {
   "cell_type": "code",
   "execution_count": 119,
   "id": "85509f92-9fb4-4437-9ebd-f52492b0cb10",
   "metadata": {},
   "outputs": [
    {
     "name": "stderr",
     "output_type": "stream",
     "text": [
      "                                                                                \r"
     ]
    },
    {
     "data": {
      "text/html": [
       "<table border='1'>\n",
       "<tr><th>hostId</th><th>localAddress</th></tr>\n",
       "<tr><td>3120B2A9-057E-E4E...</td><td>0.0.0.0</td></tr>\n",
       "<tr><td>3120B2A9-057E-E4E...</td><td>128.55.12.118</td></tr>\n",
       "<tr><td>3120B2A9-057E-E4E...</td><td>0000:0000:0000:00...</td></tr>\n",
       "<tr><td>3120B2A9-057E-E4E...</td><td>0000:0000:0000:00...</td></tr>\n",
       "<tr><td>3120B2A9-057E-E4E...</td><td>0000:0000:0000:00...</td></tr>\n",
       "<tr><td>3120B2A9-057E-E4E...</td><td>10.0.6.68</td></tr>\n",
       "<tr><td>3120B2A9-057E-E4E...</td><td>127.0.0.1</td></tr>\n",
       "<tr><td>E621F964-5A66-0F8...</td><td>0000:0000:0000:00...</td></tr>\n",
       "<tr><td>E621F964-5A66-0F8...</td><td>0000:0000:0000:00...</td></tr>\n",
       "<tr><td>E621F964-5A66-0F8...</td><td>10.0.6.68</td></tr>\n",
       "<tr><td>E621F964-5A66-0F8...</td><td>0000:0000:0000:00...</td></tr>\n",
       "<tr><td>E621F964-5A66-0F8...</td><td>128.55.12.118</td></tr>\n",
       "<tr><td>E621F964-5A66-0F8...</td><td>0.0.0.0</td></tr>\n",
       "</table>\n"
      ],
      "text/plain": [
       "+--------------------+--------------------+\n",
       "|              hostId|        localAddress|\n",
       "+--------------------+--------------------+\n",
       "|3120B2A9-057E-E4E...|             0.0.0.0|\n",
       "|3120B2A9-057E-E4E...|       128.55.12.118|\n",
       "|3120B2A9-057E-E4E...|0000:0000:0000:00...|\n",
       "|3120B2A9-057E-E4E...|0000:0000:0000:00...|\n",
       "|3120B2A9-057E-E4E...|0000:0000:0000:00...|\n",
       "|3120B2A9-057E-E4E...|           10.0.6.68|\n",
       "|3120B2A9-057E-E4E...|           127.0.0.1|\n",
       "|E621F964-5A66-0F8...|0000:0000:0000:00...|\n",
       "|E621F964-5A66-0F8...|0000:0000:0000:00...|\n",
       "|E621F964-5A66-0F8...|           10.0.6.68|\n",
       "|E621F964-5A66-0F8...|0000:0000:0000:00...|\n",
       "|E621F964-5A66-0F8...|       128.55.12.118|\n",
       "|E621F964-5A66-0F8...|             0.0.0.0|\n",
       "+--------------------+--------------------+"
      ]
     },
     "execution_count": 119,
     "metadata": {},
     "output_type": "execute_result"
    }
   ],
   "source": [
    "host_to_ip = sockets_all.select('baseObject.hostId', 'localAddress').distinct()\n",
    "host_to_ip"
   ]
  },
  {
   "cell_type": "code",
   "execution_count": 121,
   "id": "dd68756a-ea9d-40d3-9aee-4c26d8b5c5dc",
   "metadata": {},
   "outputs": [
    {
     "name": "stderr",
     "output_type": "stream",
     "text": [
      "                                                                                \r"
     ]
    },
    {
     "data": {
      "text/html": [
       "<table border='1'>\n",
       "<tr><th>type</th></tr>\n",
       "<tr><td>EVENT_UNIT</td></tr>\n",
       "<tr><td>EVENT_LINK</td></tr>\n",
       "<tr><td>EVENT_MMAP</td></tr>\n",
       "<tr><td>EVENT_WRITE</td></tr>\n",
       "<tr><td>EVENT_CLOSE</td></tr>\n",
       "<tr><td>EVENT_OPEN</td></tr>\n",
       "<tr><td>EVENT_EXIT</td></tr>\n",
       "<tr><td>EVENT_READ</td></tr>\n",
       "<tr><td>EVENT_ACCEPT</td></tr>\n",
       "<tr><td>EVENT_SENDMSG</td></tr>\n",
       "<tr><td>EVENT_FORK</td></tr>\n",
       "<tr><td>EVENT_UNLINK</td></tr>\n",
       "<tr><td>EVENT_EXECUTE</td></tr>\n",
       "<tr><td>EVENT_RECVMSG</td></tr>\n",
       "<tr><td>EVENT_MODIFY_FILE...</td></tr>\n",
       "<tr><td>EVENT_CREATE_OBJECT</td></tr>\n",
       "<tr><td>EVENT_RENAME</td></tr>\n",
       "<tr><td>EVENT_CONNECT</td></tr>\n",
       "<tr><td>EVENT_LOADLIBRARY</td></tr>\n",
       "<tr><td>EVENT_TRUNCATE</td></tr>\n",
       "</table>\n",
       "only showing top 20 rows\n"
      ],
      "text/plain": [
       "+--------------------+\n",
       "|                type|\n",
       "+--------------------+\n",
       "|          EVENT_UNIT|\n",
       "|          EVENT_LINK|\n",
       "|          EVENT_MMAP|\n",
       "|         EVENT_WRITE|\n",
       "|         EVENT_CLOSE|\n",
       "|          EVENT_OPEN|\n",
       "|          EVENT_EXIT|\n",
       "|          EVENT_READ|\n",
       "|        EVENT_ACCEPT|\n",
       "|       EVENT_SENDMSG|\n",
       "|          EVENT_FORK|\n",
       "|        EVENT_UNLINK|\n",
       "|       EVENT_EXECUTE|\n",
       "|       EVENT_RECVMSG|\n",
       "|EVENT_MODIFY_FILE...|\n",
       "| EVENT_CREATE_OBJECT|\n",
       "|        EVENT_RENAME|\n",
       "|       EVENT_CONNECT|\n",
       "|   EVENT_LOADLIBRARY|\n",
       "|      EVENT_TRUNCATE|\n",
       "+--------------------+\n",
       "only showing top 20 rows"
      ]
     },
     "execution_count": 121,
     "metadata": {},
     "output_type": "execute_result"
    }
   ],
   "source": [
    "unique_event_types = events_10th.select('type').distinct()\n",
    "unique_event_types"
   ]
  },
  {
   "cell_type": "code",
   "execution_count": 122,
   "id": "ddc00e4c-2a7d-4dab-b59f-f1bae139f936",
   "metadata": {},
   "outputs": [
    {
     "name": "stderr",
     "output_type": "stream",
     "text": [
      "                                                                                \r"
     ]
    },
    {
     "data": {
      "text/plain": [
       "25"
      ]
     },
     "execution_count": 122,
     "metadata": {},
     "output_type": "execute_result"
    }
   ],
   "source": [
    "unique_event_types.count()"
   ]
  },
  {
   "cell_type": "code",
   "execution_count": 123,
   "id": "d7438150-6644-45c3-9539-a334449ceb42",
   "metadata": {},
   "outputs": [
    {
     "name": "stdout",
     "output_type": "stream",
     "text": [
      "23/02/02 17:44:08 WARN DAGScheduler: Broadcasting large task binary with size 5.7 MiB\n"
     ]
    },
    {
     "name": "stderr",
     "output_type": "stream",
     "text": [
      "                                                                                \r"
     ]
    },
    {
     "name": "stdout",
     "output_type": "stream",
     "text": [
      "23/02/02 17:44:11 WARN DAGScheduler: Broadcasting large task binary with size 5.7 MiB\n"
     ]
    },
    {
     "name": "stderr",
     "output_type": "stream",
     "text": [
      "                                                                                \r"
     ]
    },
    {
     "name": "stdout",
     "output_type": "stream",
     "text": [
      "23/02/02 17:44:15 WARN DAGScheduler: Broadcasting large task binary with size 5.7 MiB\n"
     ]
    },
    {
     "name": "stderr",
     "output_type": "stream",
     "text": [
      "                                                                                \r"
     ]
    },
    {
     "name": "stdout",
     "output_type": "stream",
     "text": [
      "23/02/02 17:44:40 WARN DAGScheduler: Broadcasting large task binary with size 5.7 MiB\n"
     ]
    },
    {
     "name": "stderr",
     "output_type": "stream",
     "text": [
      "                                                                                \r"
     ]
    },
    {
     "name": "stdout",
     "output_type": "stream",
     "text": [
      "23/02/02 17:48:25 WARN DAGScheduler: Broadcasting large task binary with size 5.7 MiB\n"
     ]
    },
    {
     "name": "stderr",
     "output_type": "stream",
     "text": [
      "                                                                                \r"
     ]
    },
    {
     "name": "stdout",
     "output_type": "stream",
     "text": [
      "23/02/02 17:51:38 WARN DAGScheduler: Broadcasting large task binary with size 5.7 MiB\n"
     ]
    },
    {
     "name": "stderr",
     "output_type": "stream",
     "text": [
      "                                                                                \r"
     ]
    },
    {
     "name": "stdout",
     "output_type": "stream",
     "text": [
      "23/02/02 17:55:54 WARN DAGScheduler: Broadcasting large task binary with size 5.7 MiB\n"
     ]
    },
    {
     "name": "stderr",
     "output_type": "stream",
     "text": [
      "                                                                                \r"
     ]
    },
    {
     "name": "stdout",
     "output_type": "stream",
     "text": [
      "23/02/02 18:01:26 WARN DAGScheduler: Broadcasting large task binary with size 5.7 MiB\n"
     ]
    },
    {
     "name": "stderr",
     "output_type": "stream",
     "text": [
      "                                                                                \r"
     ]
    },
    {
     "name": "stdout",
     "output_type": "stream",
     "text": [
      "23/02/02 18:08:10 WARN DAGScheduler: Broadcasting large task binary with size 5.7 MiB\n"
     ]
    },
    {
     "name": "stderr",
     "output_type": "stream",
     "text": [
      "                                                                                \r"
     ]
    },
    {
     "name": "stdout",
     "output_type": "stream",
     "text": [
      "23/02/02 18:13:53 WARN DAGScheduler: Broadcasting large task binary with size 5.7 MiB\n"
     ]
    },
    {
     "name": "stderr",
     "output_type": "stream",
     "text": [
      "                                                                                \r"
     ]
    },
    {
     "name": "stdout",
     "output_type": "stream",
     "text": [
      "23/02/02 18:17:04 WARN DAGScheduler: Broadcasting large task binary with size 5.7 MiB\n"
     ]
    },
    {
     "name": "stderr",
     "output_type": "stream",
     "text": [
      "                                                                                \r"
     ]
    },
    {
     "name": "stdout",
     "output_type": "stream",
     "text": [
      "23/02/02 18:20:48 WARN DAGScheduler: Broadcasting large task binary with size 5.7 MiB\n"
     ]
    },
    {
     "name": "stderr",
     "output_type": "stream",
     "text": [
      "                                                                                \r"
     ]
    },
    {
     "name": "stdout",
     "output_type": "stream",
     "text": [
      "23/02/02 18:24:57 WARN DAGScheduler: Broadcasting large task binary with size 5.7 MiB\n"
     ]
    },
    {
     "name": "stderr",
     "output_type": "stream",
     "text": [
      "                                                                                \r"
     ]
    },
    {
     "name": "stdout",
     "output_type": "stream",
     "text": [
      "23/02/02 18:47:08 WARN DAGScheduler: Broadcasting large task binary with size 5.7 MiB\n"
     ]
    },
    {
     "name": "stderr",
     "output_type": "stream",
     "text": [
      "                                                                                \r"
     ]
    },
    {
     "name": "stdout",
     "output_type": "stream",
     "text": [
      "23/02/02 19:14:38 WARN DAGScheduler: Broadcasting large task binary with size 5.7 MiB\n"
     ]
    },
    {
     "name": "stderr",
     "output_type": "stream",
     "text": [
      "                                                                                \r"
     ]
    },
    {
     "name": "stdout",
     "output_type": "stream",
     "text": [
      "23/02/02 19:18:33 WARN DAGScheduler: Broadcasting large task binary with size 5.7 MiB\n"
     ]
    },
    {
     "name": "stderr",
     "output_type": "stream",
     "text": [
      "                                                                                \r"
     ]
    },
    {
     "name": "stdout",
     "output_type": "stream",
     "text": [
      "23/02/02 19:18:36 WARN DAGScheduler: Broadcasting large task binary with size 5.7 MiB\n"
     ]
    },
    {
     "name": "stderr",
     "output_type": "stream",
     "text": [
      "                                                                                \r"
     ]
    },
    {
     "name": "stdout",
     "output_type": "stream",
     "text": [
      "23/02/02 19:18:39 WARN DAGScheduler: Broadcasting large task binary with size 5.7 MiB\n"
     ]
    },
    {
     "name": "stderr",
     "output_type": "stream",
     "text": [
      "                                                                                \r"
     ]
    },
    {
     "name": "stdout",
     "output_type": "stream",
     "text": [
      "23/02/02 19:19:27 WARN DAGScheduler: Broadcasting large task binary with size 5.7 MiB\n"
     ]
    },
    {
     "name": "stderr",
     "output_type": "stream",
     "text": [
      "                                                                                \r"
     ]
    },
    {
     "name": "stdout",
     "output_type": "stream",
     "text": [
      "23/02/02 19:25:13 WARN DAGScheduler: Broadcasting large task binary with size 5.7 MiB\n"
     ]
    },
    {
     "name": "stderr",
     "output_type": "stream",
     "text": [
      "                                                                                \r"
     ]
    },
    {
     "name": "stdout",
     "output_type": "stream",
     "text": [
      "23/02/02 19:54:33 WARN DAGScheduler: Broadcasting large task binary with size 5.7 MiB\n"
     ]
    },
    {
     "name": "stderr",
     "output_type": "stream",
     "text": [
      "                                                                                \r"
     ]
    },
    {
     "name": "stdout",
     "output_type": "stream",
     "text": [
      "23/02/02 19:59:22 WARN DAGScheduler: Broadcasting large task binary with size 5.7 MiB\n"
     ]
    },
    {
     "name": "stderr",
     "output_type": "stream",
     "text": [
      "                                                                                \r"
     ]
    },
    {
     "name": "stdout",
     "output_type": "stream",
     "text": [
      "23/02/02 20:04:55 WARN DAGScheduler: Broadcasting large task binary with size 5.7 MiB\n"
     ]
    },
    {
     "name": "stderr",
     "output_type": "stream",
     "text": [
      "                                                                                \r"
     ]
    },
    {
     "name": "stdout",
     "output_type": "stream",
     "text": [
      "23/02/02 20:12:17 WARN DAGScheduler: Broadcasting large task binary with size 5.7 MiB\n"
     ]
    },
    {
     "name": "stderr",
     "output_type": "stream",
     "text": [
      "                                                                                \r"
     ]
    },
    {
     "name": "stdout",
     "output_type": "stream",
     "text": [
      "23/02/02 20:22:08 WARN DAGScheduler: Broadcasting large task binary with size 5.7 MiB\n"
     ]
    },
    {
     "name": "stderr",
     "output_type": "stream",
     "text": [
      "                                                                                \r"
     ]
    },
    {
     "name": "stdout",
     "output_type": "stream",
     "text": [
      "23/02/02 20:35:35 WARN DAGScheduler: Broadcasting large task binary with size 5.7 MiB\n"
     ]
    },
    {
     "name": "stderr",
     "output_type": "stream",
     "text": [
      "IOPub message rate exceeded.==>                                (183 + 20) / 478]\n",
      "The Jupyter server will temporarily stop sending output\n",
      "to the client in order to avoid crashing it.\n",
      "To change this limit, set the config variable\n",
      "`--ServerApp.iopub_msg_rate_limit`.\n",
      "\n",
      "Current values:\n",
      "ServerApp.iopub_msg_rate_limit=1000.0 (msgs/sec)\n",
      "ServerApp.rate_limit_window=3.0 (secs)\n",
      "\n"
     ]
    }
   ],
   "source": [
    "red_files.select('baseObject.properties.map.path')"
   ]
  },
  {
   "cell_type": "code",
   "execution_count": 125,
   "id": "2dbc9228-f9fa-45be-bdf8-fc271a03eca6",
   "metadata": {},
   "outputs": [
    {
     "name": "stderr",
     "output_type": "stream",
     "text": [
      "[Stage 262:==================================================>(5121 + 3) / 5124]\r"
     ]
    },
    {
     "name": "stdout",
     "output_type": "stream",
     "text": [
      "+--------------------+\n",
      "|                type|\n",
      "+--------------------+\n",
      "|          EVENT_UNIT|\n",
      "|          EVENT_LINK|\n",
      "|          EVENT_MMAP|\n",
      "|         EVENT_WRITE|\n",
      "|         EVENT_CLOSE|\n",
      "|          EVENT_OPEN|\n",
      "|          EVENT_EXIT|\n",
      "|          EVENT_READ|\n",
      "|        EVENT_ACCEPT|\n",
      "|       EVENT_SENDMSG|\n",
      "|          EVENT_FORK|\n",
      "|        EVENT_UNLINK|\n",
      "|       EVENT_EXECUTE|\n",
      "|       EVENT_RECVMSG|\n",
      "|EVENT_MODIFY_FILE...|\n",
      "| EVENT_CREATE_OBJECT|\n",
      "|        EVENT_RENAME|\n",
      "|       EVENT_CONNECT|\n",
      "|   EVENT_LOADLIBRARY|\n",
      "|      EVENT_TRUNCATE|\n",
      "|         EVENT_CLONE|\n",
      "|      EVENT_MPROTECT|\n",
      "|         EVENT_OTHER|\n",
      "|EVENT_CHANGE_PRIN...|\n",
      "|        EVENT_UPDATE|\n",
      "+--------------------+\n",
      "\n"
     ]
    },
    {
     "name": "stderr",
     "output_type": "stream",
     "text": [
      "                                                                                \r"
     ]
    }
   ],
   "source": [
    "unique_event_types.show(50)"
   ]
  },
  {
   "cell_type": "code",
   "execution_count": null,
   "id": "5e626c62-09df-4af1-aa39-81ef8d47846c",
   "metadata": {},
   "outputs": [],
   "source": []
  }
 ],
 "metadata": {
  "kernelspec": {
   "display_name": "Python 3 (ipykernel)",
   "language": "python",
   "name": "python3"
  },
  "language_info": {
   "codemirror_mode": {
    "name": "ipython",
    "version": 3
   },
   "file_extension": ".py",
   "mimetype": "text/x-python",
   "name": "python",
   "nbconvert_exporter": "python",
   "pygments_lexer": "ipython3",
   "version": "3.10.8"
  }
 },
 "nbformat": 4,
 "nbformat_minor": 5
}
